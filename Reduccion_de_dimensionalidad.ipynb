{
  "nbformat": 4,
  "nbformat_minor": 0,
  "metadata": {
    "colab": {
      "name": "Reduccion de dimensionalidad.ipynb",
      "version": "0.3.2",
      "provenance": []
    },
    "kernelspec": {
      "name": "python3",
      "display_name": "Python 3"
    }
  },
  "cells": [
    {
      "cell_type": "markdown",
      "metadata": {
        "id": "Y8ggOcXuY4z5",
        "colab_type": "text"
      },
      "source": [
        "# Reducción de dimensionalidad con métodos no lineales: ISOMAP y LLE\n",
        "\n",
        "Se considera los métodos no lineales dedido a su mayor índice de reducción de dimensionalidad para big data.\n",
        "Ambos métodos pertenecen a Mainfold, y se utilizan cuando fallan los métodos lineales (tomado de: [Métodos de reudcción - DeepLearningDigitalia](https://www.deeplearningitalia.com/metodos-para-la-reduccion-de-la-dimensionalidad-manifold-based-el-caso-isomap-2/ ))\n",
        "\n",
        "ISOMAP:\n",
        "Resulta ser una herramienta de reducción muy efectiva que nos permite eludir muchos problemas relacionados con la linealidad, pero es capaz de preservar una estructura geométrica local naturalmente es a expensas de algunos factores, en particular:\n",
        "*   Sensible a outliers\n",
        "*   Pocos parámetros libres\n",
        "\n",
        "\n"
      ]
    },
    {
      "cell_type": "code",
      "metadata": {
        "id": "7f2y479xY4Xh",
        "colab_type": "code",
        "colab": {}
      },
      "source": [
        "import numpy as np\n",
        "\n",
        "import matplotlib.pyplot as plt\n",
        "\n",
        "from sklearn import manifold\n",
        "\n",
        "N = 11\n",
        "C = 50\n",
        "embedding1 = manifold.Isomap(n_neighbors=N, n_components=C, eigen_solver=’auto’, tol=0, max_iter=None, path_method=’auto’, neighbors_algorithm=’auto’, n_jobs=1)\n",
        "DATA_ISOMAP1 = embedding1.fit_transform(DATA)\n",
        "\n",
        "N= 70\n",
        "embedding2= manifold.Isomap(n_neighbors=N, n_components=C, eigen_solver=’auto’, tol=0, max_iter=None, path_method=’auto’, neighbors_algorithm=’auto’, n_jobs=1)\n",
        "DATA_ISOMAP2 = embedding2.fit_transform(DATA)\n"
      ],
      "execution_count": 0,
      "outputs": []
    },
    {
      "cell_type": "code",
      "metadata": {
        "id": "j4T0b1xqeStN",
        "colab_type": "code",
        "colab": {}
      },
      "source": [
        "DATA_ISOMAP1.shape"
      ],
      "execution_count": 0,
      "outputs": []
    },
    {
      "cell_type": "code",
      "metadata": {
        "id": "Njw4ZE08eShH",
        "colab_type": "code",
        "colab": {}
      },
      "source": [
        "DATA_ISOMAP2.shape"
      ],
      "execution_count": 0,
      "outputs": []
    },
    {
      "cell_type": "markdown",
      "metadata": {
        "id": "xzNzoe5WbJis",
        "colab_type": "text"
      },
      "source": [
        "Ahora veamos\n",
        "LLE\n",
        "(Obtenido de: [Mainfold](https://scikit-learn.org/stable/auto_examples/manifold/plot_manifold_sphere.html#sphx-glr-auto-examples-manifold-plot-manifold-sphere-py))\n",
        "\n"
      ]
    },
    {
      "cell_type": "code",
      "metadata": {
        "id": "Td2R3NlObMl4",
        "colab_type": "code",
        "colab": {}
      },
      "source": [
        "from sklearn.manifold import LocallyLinearEmbedding\n",
        "\n",
        "embedding3 = LocallyLinearEmbedding(n_components=2)\n",
        "\n",
        "DATA_LLE1 = embedding.fit_transform(DATA)\n",
        "DATA_LLE1.shape\n"
      ],
      "execution_count": 0,
      "outputs": []
    },
    {
      "cell_type": "markdown",
      "metadata": {
        "id": "UGy1Jhzgg6bM",
        "colab_type": "text"
      },
      "source": [
        "Comparativa de lo smétodos de Mainfold:\n",
        "![texto alternativo](https://scikit-learn.org/stable/_images/sphx_glr_plot_manifold_sphere_001.png)"
      ]
    }
  ]
}