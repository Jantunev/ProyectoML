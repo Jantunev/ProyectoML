{
  "nbformat": 4,
  "nbformat_minor": 0,
  "metadata": {
    "colab": {
      "name": "version_final_con análisis_preeliminar.ipynb",
      "version": "0.3.2",
      "provenance": []
    },
    "kernelspec": {
      "name": "python3",
      "display_name": "Python 3"
    },
    "accelerator": "GPU"
  },
  "cells": [
    {
      "cell_type": "code",
      "metadata": {
        "id": "JpfI5YxWw-H_",
        "colab_type": "code",
        "outputId": "f2faebb9-fd64-4865-b74d-24e96e3d68a3",
        "colab": {
          "base_uri": "https://localhost:8080/",
          "height": 121
        }
      },
      "source": [
        "from google.colab import drive\n",
        "drive.mount('/content/drive')"
      ],
      "execution_count": 0,
      "outputs": [
        {
          "output_type": "stream",
          "text": [
            "Go to this URL in a browser: https://accounts.google.com/o/oauth2/auth?client_id=947318989803-6bn6qk8qdgf4n4g3pfee6491hc0brc4i.apps.googleusercontent.com&redirect_uri=urn%3Aietf%3Awg%3Aoauth%3A2.0%3Aoob&scope=email%20https%3A%2F%2Fwww.googleapis.com%2Fauth%2Fdocs.test%20https%3A%2F%2Fwww.googleapis.com%2Fauth%2Fdrive%20https%3A%2F%2Fwww.googleapis.com%2Fauth%2Fdrive.photos.readonly%20https%3A%2F%2Fwww.googleapis.com%2Fauth%2Fpeopleapi.readonly&response_type=code\n",
            "\n",
            "Enter your authorization code:\n",
            "··········\n",
            "Mounted at /content/drive\n"
          ],
          "name": "stdout"
        }
      ]
    },
    {
      "cell_type": "code",
      "metadata": {
        "id": "o6BvQ6jtxAgQ",
        "colab_type": "code",
        "outputId": "21cb6333-2c0f-4399-b448-1544f4bcb5df",
        "colab": {
          "base_uri": "https://localhost:8080/",
          "height": 34
        }
      },
      "source": [
        "%cd /content/drive/My Drive/"
      ],
      "execution_count": 0,
      "outputs": [
        {
          "output_type": "stream",
          "text": [
            "/content/drive/My Drive\n"
          ],
          "name": "stdout"
        }
      ]
    },
    {
      "cell_type": "code",
      "metadata": {
        "id": "CxcZWxv0u0mS",
        "colab_type": "code",
        "colab": {}
      },
      "source": [
        "import numpy as np\n",
        "import pandas as pd\n",
        "from scipy import stats as st\n",
        "from sklearn.metrics import confusion_matrix\n",
        "import math\n",
        "from sklearn.svm import SVC\n",
        "from sklearn.metrics import cohen_kappa_score\n",
        "import seaborn as sns\n",
        "import random\n",
        "from sklearn.naive_bayes import GaussianNB\n",
        "%matplotlib inline\n",
        "import matplotlib.pyplot as plt\n",
        "from sklearn.model_selection import cross_val_score\n",
        "from sklearn.ensemble import RandomForestClassifier\n",
        "from sklearn.model_selection import GridSearchCV\n",
        "from sklearn import datasets, svm\n",
        "from sklearn.svm import SVC\n",
        "from sklearn.neural_network import MLPClassifier\n",
        "from sklearn import metrics\n",
        "from sklearn import neural_network\n",
        "from sklearn import datasets\n",
        "from itertools import product\n",
        "from mlxtend.classifier import EnsembleVoteClassifier\n",
        "import copy\n",
        "sns.set(rc={'figure.figsize':(5,5)})\n",
        "from sklearn.preprocessing import MinMaxScaler\n",
        "from sklearn.cluster import KMeans\n",
        "\n",
        "import pandas as pd\n",
        "import matplotlib.pyplot as plt\n",
        "from mpl_toolkits.mplot3d import Axes3D\n",
        "import matplotlib as mpl\n",
        "import numpy as np\n",
        "import seaborn as sns\n",
        "%matplotlib inline"
      ],
      "execution_count": 0,
      "outputs": []
    },
    {
      "cell_type": "code",
      "metadata": {
        "id": "-LMeZbalwT25",
        "colab_type": "code",
        "outputId": "79fa50b1-4b97-4949-a8e3-9375327a8934",
        "colab": {
          "base_uri": "https://localhost:8080/",
          "height": 50
        }
      },
      "source": [
        "df = pd.read_csv('dataset_smoted.csv', sep = \",\", header=0).iloc[:,1:].astype('float')\n",
        "\n",
        "y1 = df[['Tumor']]\n",
        "X = df.drop(['Tumor'], axis=1)"
      ],
      "execution_count": 0,
      "outputs": [
        {
          "output_type": "stream",
          "text": [
            "/usr/local/lib/python3.6/dist-packages/IPython/core/interactiveshell.py:2718: DtypeWarning: Columns (0) have mixed types. Specify dtype option on import or set low_memory=False.\n",
            "  interactivity=interactivity, compiler=compiler, result=result)\n"
          ],
          "name": "stderr"
        }
      ]
    },
    {
      "cell_type": "code",
      "metadata": {
        "id": "lfU1LKyqxKpx",
        "colab_type": "code",
        "colab": {}
      },
      "source": [
        "X_test = pd.read_csv('df_carac_test.csv', sep = \",\", header=0, index_col=0)\n",
        "y_test = pd.read_csv('df_y_test.csv', sep = \",\", header=0, index_col=0)\n",
        "X_test = X_test[X.columns]"
      ],
      "execution_count": 0,
      "outputs": []
    },
    {
      "cell_type": "code",
      "metadata": {
        "id": "T8mOTHo3wjL_",
        "colab_type": "code",
        "colab": {}
      },
      "source": [
        "from sklearn.model_selection import train_test_split\n",
        "X_train, X_val, y_train, y_val = train_test_split(X, y, test_size=0.1, random_state=42)"
      ],
      "execution_count": 0,
      "outputs": []
    },
    {
      "cell_type": "markdown",
      "metadata": {
        "id": "6uRgawn_Y3SL",
        "colab_type": "text"
      },
      "source": [
        "## Análisis preeliminar"
      ]
    },
    {
      "cell_type": "code",
      "metadata": {
        "id": "ykp4tZRnBGVv",
        "colab_type": "code",
        "colab": {}
      },
      "source": [
        "Sum_of_squared_distances = []\n",
        "K = range(1,15)\n",
        "for k in K:\n",
        "    km = KMeans(n_clusters=k)\n",
        "    km = km.fit(X)\n",
        "    Sum_of_squared_distances.append(km.inertia_)"
      ],
      "execution_count": 0,
      "outputs": []
    },
    {
      "cell_type": "code",
      "metadata": {
        "id": "Ok4YAl7GB4U6",
        "colab_type": "code",
        "outputId": "e9efcfd1-5e5b-4c60-df92-6cec1bf3f4ff",
        "colab": {
          "base_uri": "https://localhost:8080/",
          "height": 518
        }
      },
      "source": [
        "plt.plot(K, Sum_of_squared_distances, 'bx-')\n",
        "plt.xlabel('k')\n",
        "plt.ylabel('Suma del cuadrado de las distancias')\n",
        "plt.title('Método del codo para hallar la cantidad óptima de clusters')\n",
        "plt.show()"
      ],
      "execution_count": 0,
      "outputs": [
        {
          "output_type": "display_data",
          "data": {
            "image/png": "[encoded data removed]",
            "text/plain": [
              "<Figure size 576x576 with 1 Axes>"
            ]
          },
          "metadata": {
            "tags": []
          }
        }
      ]
    },
    {
      "cell_type": "code",
      "metadata": {
        "id": "R28hsgPGB6h4",
        "colab_type": "code",
        "outputId": "e8a7f31a-608b-461e-82d8-f2bace36824a",
        "colab": {
          "base_uri": "https://localhost:8080/",
          "height": 67
        }
      },
      "source": [
        "K = 2\n",
        "km = KMeans(n_clusters=K) \n",
        "km.fit(X)"
      ],
      "execution_count": 0,
      "outputs": [
        {
          "output_type": "execute_result",
          "data": {
            "text/plain": [
              "KMeans(algorithm='auto', copy_x=True, init='k-means++', max_iter=300,\n",
              "       n_clusters=2, n_init=10, n_jobs=None, precompute_distances='auto',\n",
              "       random_state=None, tol=0.0001, verbose=0)"
            ]
          },
          "metadata": {
            "tags": []
          },
          "execution_count": 11
        }
      ]
    },
    {
      "cell_type": "code",
      "metadata": {
        "id": "-vI_6iRGB-BX",
        "colab_type": "code",
        "outputId": "cd26067d-9f6f-4520-ed1b-f9a8e8a01235",
        "colab": {
          "base_uri": "https://localhost:8080/",
          "height": 34
        }
      },
      "source": [
        "centroids = km.cluster_centers_\n",
        "centroids.shape"
      ],
      "execution_count": 0,
      "outputs": [
        {
          "output_type": "execute_result",
          "data": {
            "text/plain": [
              "(2, 9082)"
            ]
          },
          "metadata": {
            "tags": []
          },
          "execution_count": 12
        }
      ]
    },
    {
      "cell_type": "code",
      "metadata": {
        "id": "ZNQGQ1gtB_7c",
        "colab_type": "code",
        "outputId": "f13d8e33-1c87-4bdc-90d9-e59396d132f6",
        "colab": {
          "base_uri": "https://localhost:8080/",
          "height": 70
        }
      },
      "source": [
        "idx = list(km.labels_)\n",
        "samples = list(df.index)\n",
        "print(idx)\n",
        "print(samples)"
      ],
      "execution_count": 0,
      "outputs": [
        {
          "output_type": "stream",
          "text": [
            "[0, 1, 1, 1, 1, 1, 0, 0, 1, 0, 1, 1, 1, 0, 1, 0, 1, 1, 1, 1, 1, 1, 1, 1, 0, 0, 1, 1, 1, 1, 1, 0, 0, 1, 0, 0, 0, 0, 1, 0, 0, 1, 1, 0, 1, 0, 0, 1, 0, 0, 0, 0, 0, 1, 1, 0, 1, 1, 1, 0, 0, 0, 0, 1, 1, 0, 1, 0, 1, 1, 1, 1, 0, 0, 1, 1, 0, 1, 1, 1, 1, 0, 0, 1, 0, 1, 0, 0, 0, 1, 1, 1, 1, 1, 1, 0, 0, 1, 1, 1, 1, 1, 1, 1, 0, 0, 1, 1, 1, 0, 1, 1, 1, 1, 1, 0, 0, 1, 1, 0, 1, 1, 1, 0, 0, 1, 1, 0, 1, 1, 1, 1, 1, 0, 0, 1, 0, 0, 1, 0, 0, 1, 0, 0, 1, 1, 1, 1, 0, 0, 0, 1, 1, 1, 1, 1, 0, 1, 1, 1, 1, 1, 1, 0, 1, 0, 0, 1, 1, 0, 1, 1, 0, 1, 0, 0, 0, 1, 1, 1, 0, 1, 1, 1, 1, 1, 1, 1, 0, 1, 0, 1, 0, 1, 1, 1, 1, 0, 1, 1, 1, 1, 0, 1, 0, 0, 0, 0, 0, 1, 1, 1, 1, 0, 1, 1, 1, 1, 0, 1, 1, 1, 0, 1, 1, 0, 0, 1, 0, 1, 0, 0, 1, 0, 1, 1, 1, 0, 1, 1, 1, 0, 1, 1, 0, 1, 1, 1, 1, 1, 1, 1, 1, 1, 0, 1, 1, 1, 1, 1, 0, 0, 1, 0, 1, 0, 1, 0, 0, 1, 0, 1, 0, 0, 1, 0, 0, 1, 1, 1, 0, 1, 0, 1, 1, 1, 1, 1, 0, 0, 1, 1, 1, 1, 1, 1, 1, 1, 1, 1, 0, 0, 0, 1, 1, 0, 1, 0, 0, 1, 1, 1, 1, 0, 1, 1, 1, 0, 1, 1, 1, 1, 1, 0, 1, 0, 0, 1, 1, 1, 0, 0, 1, 1, 1, 1, 1, 1, 1, 0, 1, 0, 0, 1, 1, 1, 1, 1, 1, 1, 1, 1, 1, 1, 1, 1, 1, 1, 0, 1, 1, 1, 1, 0, 1, 1, 0, 1, 0, 1, 1, 1, 1, 1, 0, 1, 1, 1, 0, 1, 1, 1, 1, 0, 1, 0, 1, 0, 0, 0, 1, 1, 0, 1, 0, 1, 0, 0, 1, 1, 1, 0, 0, 1, 0, 1, 1, 0, 1, 0, 0, 1, 0, 1, 1, 1, 1, 0, 1, 0, 1, 0, 1, 1, 0, 1, 1, 0, 1, 1, 1, 0, 1, 1, 1, 1, 1, 0, 0, 1, 1, 1, 1, 1, 0, 1, 1, 1, 0, 1, 1, 0, 1, 1, 0, 0, 1, 1, 1, 0, 1, 0, 0, 0, 1, 1, 0, 1, 1, 0, 1, 1, 0, 0, 1, 1, 1, 1, 1, 0, 0, 1, 1, 0, 0, 0, 1, 1, 0, 1, 1, 0, 1, 0, 1, 1, 1, 1, 0, 1, 1, 1, 0, 0, 1, 1, 1, 1, 0, 0, 1, 1, 1, 0, 0, 1, 1, 1, 0, 1, 1, 1, 1, 0, 1, 1, 0, 1, 1, 1, 1, 0, 0, 1, 1, 1, 1, 0, 1, 1, 0, 1, 1, 0, 1, 0, 0, 1, 1, 0, 0, 1, 1, 1, 1, 0, 0, 0, 1, 0, 0, 1, 0, 0, 1, 1, 1, 1, 1, 0, 1, 0, 1, 1, 1, 1, 0, 1, 1, 1, 0, 1, 0, 0, 1, 1, 1, 1, 0, 1, 1, 1, 1, 0, 1, 1, 0, 1, 0, 1, 0, 1, 1, 1, 1, 1, 1, 1, 1, 1, 1, 1, 0, 1, 1, 1, 0, 1, 0, 1, 1, 0, 1, 1, 1, 0, 1, 0, 1, 0, 1, 0, 1, 1, 1, 1, 1, 0, 1, 1, 0, 1, 1, 1, 0, 0, 1, 1, 1, 1, 0, 0, 1, 1, 0, 1, 0, 0, 1, 1, 1, 1, 0, 1, 1, 1, 1, 1, 0, 0, 1, 1, 1, 1, 0, 1, 0, 0, 1, 1, 1, 1, 1, 1, 1, 1, 0, 1, 0, 0, 1, 1, 1, 0, 0, 0, 0, 1, 0, 1, 0, 0, 0, 1, 1, 0, 0, 1, 0, 1, 1, 0, 1, 0, 1, 1, 1, 1, 1, 1, 1, 1, 1, 1, 0, 1, 1, 1, 1, 0, 1, 1, 0, 1, 1, 1, 1, 1, 0, 1, 0, 0, 0, 1, 1, 0, 1, 1, 1, 1, 1, 1, 0, 0, 1, 1, 1, 1, 0, 1, 0, 0, 1, 1, 1, 1, 1, 0, 1, 0, 1, 0, 1, 1, 0, 1, 1, 1, 1, 1, 1, 0, 0, 1, 0, 1, 1, 1, 1, 0, 1, 1, 1, 0, 1, 1, 1, 0, 1, 1, 1, 0, 0, 1, 0, 0, 0, 0, 1, 1, 1, 1, 1, 1, 1, 1, 1, 1, 0, 1, 1, 1, 1, 1, 1, 1, 0, 1, 1, 1, 1, 1, 1, 0, 1, 1, 1, 1, 1, 0, 1, 0, 1, 1, 0, 0, 1, 0, 1, 0, 1, 1, 1, 0, 1, 0, 0, 0, 1, 1, 1, 0, 0, 1, 0, 1, 0, 0, 1, 1, 1, 0, 1, 1, 1, 1, 1, 0, 1, 1, 1, 1, 1, 1, 1, 1, 1, 0, 0, 0, 0, 1, 1, 1, 1, 0, 1, 1, 0, 1, 1, 1, 1, 1, 1, 1, 0, 1, 0, 1, 1, 0, 0, 1, 0, 1, 1, 0, 1, 1, 1, 1, 0, 1, 1, 1, 0, 1, 1, 0, 0, 0, 1, 1, 1, 1, 1, 1, 1, 1, 1, 1, 0, 1, 1, 1, 0, 1, 1, 1, 1, 0, 1, 1, 1, 1, 1, 1, 1, 0, 1, 1, 1, 0, 1, 1, 0, 0, 1, 1, 1, 1, 1, 0, 0, 1, 1, 1, 1, 0, 1, 0, 1, 1, 1, 0, 0, 1, 0, 1, 0, 1, 0, 1, 0, 0, 1, 0, 0, 1, 1, 1, 1, 0, 0, 1, 0, 1, 1, 0, 0, 1, 1, 0, 1, 0, 0, 1, 0, 1, 0, 1, 1, 1, 0, 0, 1, 1, 1, 1, 0, 0, 0, 0, 1, 0, 0, 1, 1, 0, 1, 0, 0, 1, 1, 1, 1, 0, 0, 1, 1, 1, 1, 1, 1, 1, 1, 1, 1, 0, 0, 0, 1, 0, 1, 1, 1, 1, 1, 1, 1, 1, 1, 1, 1, 1, 1, 0, 0, 1, 1, 0, 1, 1, 1, 1, 1, 0, 0, 1, 0, 0, 1, 0, 0, 0, 1, 1, 1, 0, 1, 0, 0, 1, 0, 1, 1, 1, 1, 0, 0, 0, 0, 0, 0, 0, 0, 0, 0, 0, 0, 0, 0, 0, 0, 0, 0, 0, 0, 0, 0, 0, 0, 0, 0, 0, 0, 0, 0, 0, 0, 1, 0, 0, 0, 0, 0, 0, 0, 0, 0, 0, 0, 0, 0, 0, 0, 0, 0, 0, 0, 0, 0, 0, 0, 0, 0, 0, 0, 1, 0, 0, 0, 0, 0, 0, 0, 0, 0, 0, 0, 0, 0, 0, 0, 0, 0, 0, 0, 0, 0, 0, 0, 0, 0, 0, 0, 0, 0, 0, 0, 0, 0, 0, 0, 0, 0, 0, 0, 0, 0, 0, 0, 0, 0, 0, 0, 0, 0, 0, 0, 0, 0, 0, 0, 0, 0, 0, 0, 0, 0, 0, 0, 0, 0, 0, 0, 0, 0, 0, 0, 0, 0, 0, 0, 0, 0, 0, 0, 0, 0, 0, 0, 0, 0, 0, 0, 0, 0, 0, 0, 0, 0, 0, 0, 0, 0, 0, 0, 0, 0, 0, 0, 0, 0, 0, 0, 0, 0, 0, 0, 0, 0, 0, 0, 0, 0, 0, 0, 0, 0, 0, 0, 0, 0, 0, 0, 0, 0, 0, 0, 0, 0, 0, 0, 0, 0, 0, 0, 0, 0, 0, 0, 0, 0, 0, 0, 0, 0, 0, 0, 0, 0, 0, 0, 0, 0, 0, 0, 0, 0, 0, 0, 0, 0, 0, 0, 0, 0, 0, 0, 0, 0, 0, 0, 0, 0, 0, 0, 0, 0, 0, 0, 0, 0, 0, 0, 0, 0, 0, 0, 0, 0, 0, 0, 0, 0, 0, 0, 0, 0, 0, 0, 0, 0, 0, 0, 0, 0, 0, 0, 0, 0, 0, 0, 0, 0, 0, 0, 0, 0, 0, 0, 0, 0, 0, 0, 0, 0, 0, 0, 0, 0, 0, 0, 0, 0, 0, 0, 0, 0, 0, 0, 0, 0, 0, 0, 0, 0, 0, 0, 0, 0, 0, 0, 0, 0, 0, 0, 0, 0, 0, 0, 0, 0, 0, 0, 0, 0, 0, 0, 0, 0, 0, 0, 0, 0, 0, 0, 0, 0, 0, 0, 0, 0, 0, 0, 0, 0, 0, 0, 0, 0, 0, 0, 0, 0, 0, 0, 0, 0, 0, 0, 0, 0, 0, 0, 0, 0, 0, 0, 0, 0, 0, 0, 0, 0, 0, 0, 0, 0, 0, 0, 0, 0, 0, 0, 0, 0, 0, 0, 0, 0, 0, 0, 0, 0, 0, 0, 0, 0, 0, 0, 0, 0, 0, 0, 0, 0, 0, 0, 0, 0, 0, 0, 0, 0, 0, 0, 0, 0, 0, 0, 0, 0, 0, 0, 0, 0, 0, 0, 0, 0, 0, 0, 0, 0, 0, 0, 0, 0, 0, 0, 0, 0, 0, 0, 0, 0, 0, 0, 0, 0, 0, 0, 0, 0, 0, 0, 0, 0, 0, 0, 0, 0, 0, 0, 0, 0, 0, 0, 0, 0, 0, 0, 0, 0, 0, 0, 0, 0, 0, 0, 0, 0, 0, 0, 0, 0, 0, 0, 0, 0, 0, 0, 0, 0, 0, 0, 0, 0, 0, 0, 0, 0, 0, 0, 0, 0, 0, 0, 0, 0, 0, 0, 0, 0, 0, 0, 0, 0, 0, 0, 0, 0, 0, 0, 0, 0, 0, 0, 0, 0, 0, 0, 0, 0, 0, 0, 0, 0, 0, 0, 0, 0, 0, 0, 0, 0, 0, 0, 0, 0, 0, 0, 0, 1, 0, 0, 0, 0, 0, 0, 0, 0, 0, 0, 0, 0, 0, 0, 0, 0, 0, 0, 0, 0, 0, 0, 0, 0, 0, 0, 0, 0, 0, 0, 0, 0, 0, 0, 0, 0, 0, 0, 0, 0, 0, 0, 0, 0, 0, 0, 0, 0, 0, 0, 0, 0, 0, 0, 0, 0, 0, 0, 0, 0, 0, 0, 0, 0, 0, 0, 0, 0, 0, 0, 0, 0, 0, 0, 0, 0, 0, 0, 0, 0, 0, 0, 0, 0, 0, 0, 0, 0, 0, 0, 0, 0, 0, 0, 0, 0, 0, 0, 0, 0, 0, 0, 0, 0, 0, 0, 0, 0, 0, 0, 0, 0, 0, 0, 0, 0, 0, 0, 0, 0, 0, 0, 0, 0, 0, 0, 0, 0, 0, 0, 0, 0, 0, 0, 0, 0, 0, 0, 0, 0, 0, 0, 0, 0, 0, 0, 0, 0, 0, 0, 0, 0, 0, 0, 0, 0, 0, 0, 0, 0, 0, 0, 0, 0, 0, 0, 0, 0, 0, 0, 0, 0, 0, 0, 0, 0, 0, 0, 0, 0, 0, 0, 0, 0, 0, 0, 0, 0, 0, 0, 0, 0, 0, 0, 0, 0, 0, 0, 0, 0, 0, 0, 0, 0, 0, 0, 0, 0, 0, 0, 0, 0, 0, 0, 0, 0, 0, 0, 0, 0, 0, 0, 0, 0, 0, 0, 0, 0, 0, 0, 0, 0, 0, 0, 0, 0, 0, 0, 0, 0, 1, 0, 0, 0, 0, 0, 0, 0, 0, 0, 0, 0, 0, 0, 0, 0, 0, 0, 0, 0, 0, 0, 0, 0, 0, 0, 0, 0, 0, 0, 0, 0, 0, 0, 0, 0, 0, 0, 0, 0, 0]\n",
            "[0, 1, 2, 3, 4, 5, 6, 7, 8, 9, 10, 11, 12, 13, 14, 15, 16, 17, 18, 19, 20, 21, 22, 23, 24, 25, 26, 27, 28, 29, 30, 31, 32, 33, 34, 35, 36, 37, 38, 39, 40, 41, 42, 43, 44, 45, 46, 47, 48, 49, 50, 51, 52, 53, 54, 55, 56, 57, 58, 59, 60, 61, 62, 63, 64, 65, 66, 67, 68, 69, 70, 71, 72, 73, 74, 75, 76, 77, 78, 79, 80, 81, 82, 83, 84, 85, 86, 87, 88, 89, 90, 91, 92, 93, 94, 95, 96, 97, 98, 99, 100, 101, 102, 103, 104, 105, 106, 107, 108, 109, 110, 111, 112, 113, 114, 115, 116, 117, 118, 119, 120, 121, 122, 123, 124, 125, 126, 127, 128, 129, 130, 131, 132, 133, 134, 135, 136, 137, 138, 139, 140, 141, 142, 143, 144, 145, 146, 147, 148, 149, 150, 151, 152, 153, 154, 155, 156, 157, 158, 159, 160, 161, 162, 163, 164, 165, 166, 167, 168, 169, 170, 171, 172, 173, 174, 175, 176, 177, 178, 179, 180, 181, 182, 183, 184, 185, 186, 187, 188, 189, 190, 191, 192, 193, 194, 195, 196, 197, 198, 199, 200, 201, 202, 203, 204, 205, 206, 207, 208, 209, 210, 211, 212, 213, 214, 215, 216, 217, 218, 219, 220, 221, 222, 223, 224, 225, 226, 227, 228, 229, 230, 231, 232, 233, 234, 235, 236, 237, 238, 239, 240, 241, 242, 243, 244, 245, 246, 247, 248, 249, 250, 251, 252, 253, 254, 255, 256, 257, 258, 259, 260, 261, 262, 263, 264, 265, 266, 267, 268, 269, 270, 271, 272, 273, 274, 275, 276, 277, 278, 279, 280, 281, 282, 283, 284, 285, 286, 287, 288, 289, 290, 291, 292, 293, 294, 295, 296, 297, 298, 299, 300, 301, 302, 303, 304, 305, 306, 307, 308, 309, 310, 311, 312, 313, 314, 315, 316, 317, 318, 319, 320, 321, 322, 323, 324, 325, 326, 327, 328, 329, 330, 331, 332, 333, 334, 335, 336, 337, 338, 339, 340, 341, 342, 343, 344, 345, 346, 347, 348, 349, 350, 351, 352, 353, 354, 355, 356, 357, 358, 359, 360, 361, 362, 363, 364, 365, 366, 367, 368, 369, 370, 371, 372, 373, 374, 375, 376, 377, 378, 379, 380, 381, 382, 383, 384, 385, 386, 387, 388, 389, 390, 391, 392, 393, 394, 395, 396, 397, 398, 399, 400, 401, 402, 403, 404, 405, 406, 407, 408, 409, 410, 411, 412, 413, 414, 415, 416, 417, 418, 419, 420, 421, 422, 423, 424, 425, 426, 427, 428, 429, 430, 431, 432, 433, 434, 435, 436, 437, 438, 439, 440, 441, 442, 443, 444, 445, 446, 447, 448, 449, 450, 451, 452, 453, 454, 455, 456, 457, 458, 459, 460, 461, 462, 463, 464, 465, 466, 467, 468, 469, 470, 471, 472, 473, 474, 475, 476, 477, 478, 479, 480, 481, 482, 483, 484, 485, 486, 487, 488, 489, 490, 491, 492, 493, 494, 495, 496, 497, 498, 499, 500, 501, 502, 503, 504, 505, 506, 507, 508, 509, 510, 511, 512, 513, 514, 515, 516, 517, 518, 519, 520, 521, 522, 523, 524, 525, 526, 527, 528, 529, 530, 531, 532, 533, 534, 535, 536, 537, 538, 539, 540, 541, 542, 543, 544, 545, 546, 547, 548, 549, 550, 551, 552, 553, 554, 555, 556, 557, 558, 559, 560, 561, 562, 563, 564, 565, 566, 567, 568, 569, 570, 571, 572, 573, 574, 575, 576, 577, 578, 579, 580, 581, 582, 583, 584, 585, 586, 587, 588, 589, 590, 591, 592, 593, 594, 595, 596, 597, 598, 599, 600, 601, 602, 603, 604, 605, 606, 607, 608, 609, 610, 611, 612, 613, 614, 615, 616, 617, 618, 619, 620, 621, 622, 623, 624, 625, 626, 627, 628, 629, 630, 631, 632, 633, 634, 635, 636, 637, 638, 639, 640, 641, 642, 643, 644, 645, 646, 647, 648, 649, 650, 651, 652, 653, 654, 655, 656, 657, 658, 659, 660, 661, 662, 663, 664, 665, 666, 667, 668, 669, 670, 671, 672, 673, 674, 675, 676, 677, 678, 679, 680, 681, 682, 683, 684, 685, 686, 687, 688, 689, 690, 691, 692, 693, 694, 695, 696, 697, 698, 699, 700, 701, 702, 703, 704, 705, 706, 707, 708, 709, 710, 711, 712, 713, 714, 715, 716, 717, 718, 719, 720, 721, 722, 723, 724, 725, 726, 727, 728, 729, 730, 731, 732, 733, 734, 735, 736, 737, 738, 739, 740, 741, 742, 743, 744, 745, 746, 747, 748, 749, 750, 751, 752, 753, 754, 755, 756, 757, 758, 759, 760, 761, 762, 763, 764, 765, 766, 767, 768, 769, 770, 771, 772, 773, 774, 775, 776, 777, 778, 779, 780, 781, 782, 783, 784, 785, 786, 787, 788, 789, 790, 791, 792, 793, 794, 795, 796, 797, 798, 799, 800, 801, 802, 803, 804, 805, 806, 807, 808, 809, 810, 811, 812, 813, 814, 815, 816, 817, 818, 819, 820, 821, 822, 823, 824, 825, 826, 827, 828, 829, 830, 831, 832, 833, 834, 835, 836, 837, 838, 839, 840, 841, 842, 843, 844, 845, 846, 847, 848, 849, 850, 851, 852, 853, 854, 855, 856, 857, 858, 859, 860, 861, 862, 863, 864, 865, 866, 867, 868, 869, 870, 871, 872, 873, 874, 875, 876, 877, 878, 879, 880, 881, 882, 883, 884, 885, 886, 887, 888, 889, 890, 891, 892, 893, 894, 895, 896, 897, 898, 899, 900, 901, 902, 903, 904, 905, 906, 907, 908, 909, 910, 911, 912, 913, 914, 915, 916, 917, 918, 919, 920, 921, 922, 923, 924, 925, 926, 927, 928, 929, 930, 931, 932, 933, 934, 935, 936, 937, 938, 939, 940, 941, 942, 943, 944, 945, 946, 947, 948, 949, 950, 951, 952, 953, 954, 955, 956, 957, 958, 959, 960, 961, 962, 963, 964, 965, 966, 967, 968, 969, 970, 971, 972, 973, 974, 975, 976, 977, 978, 979, 980, 981, 982, 983, 984, 985, 986, 987, 988, 989, 990, 991, 992, 993, 994, 995, 996, 997, 998, 999, 1000, 1001, 1002, 1003, 1004, 1005, 1006, 1007, 1008, 1009, 1010, 1011, 1012, 1013, 1014, 1015, 1016, 1017, 1018, 1019, 1020, 1021, 1022, 1023, 1024, 1025, 1026, 1027, 1028, 1029, 1030, 1031, 1032, 1033, 1034, 1035, 1036, 1037, 1038, 1039, 1040, 1041, 1042, 1043, 1044, 1045, 1046, 1047, 1048, 1049, 1050, 1051, 1052, 1053, 1054, 1055, 1056, 1057, 1058, 1059, 1060, 1061, 1062, 1063, 1064, 1065, 1066, 1067, 1068, 1069, 1070, 1071, 1072, 1073, 1074, 1075, 1076, 1077, 1078, 1079, 1080, 1081, 1082, 1083, 1084, 1085, 1086, 1087, 1088, 1089, 1090, 1091, 1092, 1093, 1094, 1095, 1096, 1097, 1098, 1099, 1100, 1101, 1102, 1103, 1104, 1105, 1106, 1107, 1108, 1109, 1110, 1111, 1112, 1113, 1114, 1115, 1116, 1117, 1118, 1119, 1120, 1121, 1122, 1123, 1124, 1125, 1126, 1127, 1128, 1129, 1130, 1131, 1132, 1133, 1134, 1135, 1136, 1137, 1138, 1139, 1140, 1141, 1142, 1143, 1144, 1145, 1146, 1147, 1148, 1149, 1150, 1151, 1152, 1153, 1154, 1155, 1156, 1157, 1158, 1159, 1160, 1161, 1162, 1163, 1164, 1165, 1166, 1167, 1168, 1169, 1170, 1171, 1172, 1173, 1174, 1175, 1176, 1177, 1178, 1179, 1180, 1181, 1182, 1183, 1184, 1185, 1186, 1187, 1188, 1189, 1190, 1191, 1192, 1193, 1194, 1195, 1196, 1197, 1198, 1199, 1200, 1201, 1202, 1203, 1204, 1205, 1206, 1207, 1208, 1209, 1210, 1211, 1212, 1213, 1214, 1215, 1216, 1217, 1218, 1219, 1220, 1221, 1222, 1223, 1224, 1225, 1226, 1227, 1228, 1229, 1230, 1231, 1232, 1233, 1234, 1235, 1236, 1237, 1238, 1239, 1240, 1241, 1242, 1243, 1244, 1245, 1246, 1247, 1248, 1249, 1250, 1251, 1252, 1253, 1254, 1255, 1256, 1257, 1258, 1259, 1260, 1261, 1262, 1263, 1264, 1265, 1266, 1267, 1268, 1269, 1270, 1271, 1272, 1273, 1274, 1275, 1276, 1277, 1278, 1279, 1280, 1281, 1282, 1283, 1284, 1285, 1286, 1287, 1288, 1289, 1290, 1291, 1292, 1293, 1294, 1295, 1296, 1297, 1298, 1299, 1300, 1301, 1302, 1303, 1304, 1305, 1306, 1307, 1308, 1309, 1310, 1311, 1312, 1313, 1314, 1315, 1316, 1317, 1318, 1319, 1320, 1321, 1322, 1323, 1324, 1325, 1326, 1327, 1328, 1329, 1330, 1331, 1332, 1333, 1334, 1335, 1336, 1337, 1338, 1339, 1340, 1341, 1342, 1343, 1344, 1345, 1346, 1347, 1348, 1349, 1350, 1351, 1352, 1353, 1354, 1355, 1356, 1357, 1358, 1359, 1360, 1361, 1362, 1363, 1364, 1365, 1366, 1367, 1368, 1369, 1370, 1371, 1372, 1373, 1374, 1375, 1376, 1377, 1378, 1379, 1380, 1381, 1382, 1383, 1384, 1385, 1386, 1387, 1388, 1389, 1390, 1391, 1392, 1393, 1394, 1395, 1396, 1397, 1398, 1399, 1400, 1401, 1402, 1403, 1404, 1405, 1406, 1407, 1408, 1409, 1410, 1411, 1412, 1413, 1414, 1415, 1416, 1417, 1418, 1419, 1420, 1421, 1422, 1423, 1424, 1425, 1426, 1427, 1428, 1429, 1430, 1431, 1432, 1433, 1434, 1435, 1436, 1437, 1438, 1439, 1440, 1441, 1442, 1443, 1444, 1445, 1446, 1447, 1448, 1449, 1450, 1451, 1452, 1453, 1454, 1455, 1456, 1457, 1458, 1459, 1460, 1461, 1462, 1463, 1464, 1465, 1466, 1467, 1468, 1469, 1470, 1471, 1472, 1473, 1474, 1475, 1476, 1477, 1478, 1479, 1480, 1481, 1482, 1483, 1484, 1485, 1486, 1487, 1488, 1489, 1490, 1491, 1492, 1493, 1494, 1495, 1496, 1497, 1498, 1499, 1500, 1501, 1502, 1503, 1504, 1505, 1506, 1507, 1508, 1509, 1510, 1511, 1512, 1513, 1514, 1515, 1516, 1517, 1518, 1519, 1520, 1521, 1522, 1523, 1524, 1525, 1526, 1527, 1528, 1529, 1530, 1531, 1532, 1533, 1534, 1535, 1536, 1537, 1538, 1539, 1540, 1541, 1542, 1543, 1544, 1545, 1546, 1547, 1548, 1549, 1550, 1551, 1552, 1553, 1554, 1555, 1556, 1557, 1558, 1559, 1560, 1561, 1562, 1563, 1564, 1565, 1566, 1567, 1568, 1569, 1570, 1571, 1572, 1573, 1574, 1575, 1576, 1577, 1578, 1579, 1580, 1581, 1582, 1583, 1584, 1585, 1586, 1587, 1588, 1589, 1590, 1591, 1592, 1593, 1594, 1595, 1596, 1597, 1598, 1599, 1600, 1601, 1602, 1603, 1604, 1605, 1606, 1607, 1608, 1609, 1610, 1611, 1612, 1613, 1614, 1615, 1616, 1617, 1618, 1619, 1620, 1621, 1622, 1623, 1624, 1625, 1626, 1627, 1628, 1629, 1630, 1631, 1632, 1633, 1634, 1635, 1636, 1637, 1638, 1639, 1640, 1641, 1642, 1643, 1644, 1645, 1646, 1647, 1648, 1649, 1650, 1651, 1652, 1653, 1654, 1655, 1656, 1657, 1658, 1659, 1660, 1661, 1662, 1663, 1664, 1665, 1666, 1667, 1668, 1669, 1670, 1671, 1672, 1673, 1674, 1675, 1676, 1677, 1678, 1679, 1680, 1681, 1682, 1683, 1684, 1685, 1686, 1687, 1688, 1689, 1690, 1691, 1692, 1693, 1694, 1695, 1696, 1697, 1698, 1699, 1700, 1701, 1702, 1703, 1704, 1705, 1706, 1707, 1708, 1709, 1710, 1711, 1712, 1713, 1714, 1715, 1716, 1717, 1718, 1719, 1720, 1721, 1722, 1723, 1724, 1725, 1726, 1727, 1728, 1729, 1730, 1731, 1732, 1733, 1734, 1735, 1736, 1737, 1738, 1739, 1740, 1741, 1742, 1743, 1744, 1745, 1746, 1747, 1748, 1749, 1750, 1751, 1752, 1753, 1754, 1755, 1756, 1757, 1758, 1759, 1760, 1761, 1762, 1763, 1764, 1765, 1766, 1767, 1768, 1769, 1770, 1771, 1772, 1773, 1774, 1775, 1776, 1777, 1778, 1779, 1780, 1781, 1782, 1783, 1784, 1785, 1786, 1787, 1788, 1789, 1790, 1791, 1792, 1793, 1794, 1795, 1796, 1797, 1798, 1799, 1800, 1801, 1802, 1803, 1804, 1805, 1806, 1807, 1808, 1809, 1810, 1811, 1812, 1813, 1814, 1815, 1816, 1817, 1818, 1819, 1820, 1821, 1822, 1823, 1824, 1825, 1826, 1827, 1828, 1829, 1830, 1831, 1832, 1833, 1834, 1835, 1836, 1837, 1838, 1839, 1840, 1841, 1842, 1843, 1844, 1845, 1846, 1847, 1848, 1849, 1850, 1851, 1852, 1853, 1854, 1855, 1856, 1857, 1858, 1859, 1860, 1861, 1862, 1863, 1864, 1865, 1866, 1867, 1868, 1869, 1870, 1871, 1872, 1873, 1874, 1875, 1876, 1877, 1878, 1879, 1880, 1881, 1882, 1883, 1884, 1885, 1886, 1887, 1888, 1889, 1890, 1891, 1892, 1893, 1894, 1895, 1896, 1897, 1898, 1899, 1900, 1901, 1902, 1903, 1904, 1905, 1906, 1907, 1908, 1909, 1910, 1911, 1912, 1913, 1914, 1915, 1916, 1917, 1918, 1919, 1920, 1921, 1922, 1923, 1924, 1925, 1926, 1927, 1928, 1929, 1930, 1931, 1932, 1933, 1934, 1935, 1936, 1937, 1938, 1939, 1940, 1941, 1942, 1943, 1944, 1945, 1946, 1947]\n"
          ],
          "name": "stdout"
        }
      ]
    },
    {
      "cell_type": "code",
      "metadata": {
        "id": "syB57642EVPX",
        "colab_type": "code",
        "colab": {}
      },
      "source": [
        "tablita = pd.DataFrame(\n",
        "    {'idx': idx,\n",
        "     'y': y.values.ravel()})"
      ],
      "execution_count": 0,
      "outputs": []
    },
    {
      "cell_type": "code",
      "metadata": {
        "id": "Ck1sIliLIAcC",
        "colab_type": "code",
        "outputId": "b7fa6033-c374-44d6-cbb1-9b401fc6a397",
        "colab": {
          "base_uri": "https://localhost:8080/",
          "height": 34
        }
      },
      "source": [
        "len([i for i, j in zip(idx, y.values.ravel()) if i == j])/len(idx)"
      ],
      "execution_count": 0,
      "outputs": [
        {
          "output_type": "execute_result",
          "data": {
            "text/plain": [
              "0.8711498973305954"
            ]
          },
          "metadata": {
            "tags": []
          },
          "execution_count": 44
        }
      ]
    },
    {
      "cell_type": "code",
      "metadata": {
        "id": "G0-wfYitMj4V",
        "colab_type": "code",
        "colab": {}
      },
      "source": [
        "# Scaling attribute values to avoid few outiers\n",
        "cols = X.columns[0:10]\n",
        "subset_df = X[cols]\n",
        "\n",
        "from sklearn.preprocessing import StandardScaler\n",
        "ss = StandardScaler()\n",
        "\n",
        "scaled_df = ss.fit_transform(subset_df)\n",
        "scaled_df = pd.DataFrame(scaled_df, columns=cols)\n"
      ],
      "execution_count": 0,
      "outputs": []
    },
    {
      "cell_type": "code",
      "metadata": {
        "id": "X_JnEJv6PC_s",
        "colab_type": "code",
        "outputId": "a2010a38-15b2-4dda-8db8-49d54f870205",
        "colab": {
          "base_uri": "https://localhost:8080/",
          "height": 195
        }
      },
      "source": [
        "final_df = pd.concat([scaled_df, y], axis=1)\n",
        "final_df.head()"
      ],
      "execution_count": 0,
      "outputs": [
        {
          "output_type": "execute_result",
          "data": {
            "text/html": [
              "<div>\n",
              "<style scoped>\n",
              "    .dataframe tbody tr th:only-of-type {\n",
              "        vertical-align: middle;\n",
              "    }\n",
              "\n",
              "    .dataframe tbody tr th {\n",
              "        vertical-align: top;\n",
              "    }\n",
              "\n",
              "    .dataframe thead th {\n",
              "        text-align: right;\n",
              "    }\n",
              "</style>\n",
              "<table border=\"1\" class=\"dataframe\">\n",
              "  <thead>\n",
              "    <tr style=\"text-align: right;\">\n",
              "      <th></th>\n",
              "      <th>RFC2</th>\n",
              "      <th>HSPA6</th>\n",
              "      <th>PAX8</th>\n",
              "      <th>GUCA1A</th>\n",
              "      <th>THRA</th>\n",
              "      <th>PTPN21</th>\n",
              "      <th>CCL5</th>\n",
              "      <th>CYP2E1</th>\n",
              "      <th>EPHB3</th>\n",
              "      <th>ESRRA</th>\n",
              "      <th>Tumor</th>\n",
              "    </tr>\n",
              "  </thead>\n",
              "  <tbody>\n",
              "    <tr>\n",
              "      <th>0</th>\n",
              "      <td>-0.471185</td>\n",
              "      <td>-1.705388</td>\n",
              "      <td>1.914465</td>\n",
              "      <td>-0.473100</td>\n",
              "      <td>1.691113</td>\n",
              "      <td>0.497665</td>\n",
              "      <td>-0.374142</td>\n",
              "      <td>0.398077</td>\n",
              "      <td>-0.959257</td>\n",
              "      <td>1.603629</td>\n",
              "      <td>1.0</td>\n",
              "    </tr>\n",
              "    <tr>\n",
              "      <th>1</th>\n",
              "      <td>-1.000726</td>\n",
              "      <td>1.391741</td>\n",
              "      <td>0.580162</td>\n",
              "      <td>0.041409</td>\n",
              "      <td>-0.830731</td>\n",
              "      <td>-0.706896</td>\n",
              "      <td>0.349730</td>\n",
              "      <td>-0.457606</td>\n",
              "      <td>2.007771</td>\n",
              "      <td>-0.472653</td>\n",
              "      <td>1.0</td>\n",
              "    </tr>\n",
              "    <tr>\n",
              "      <th>2</th>\n",
              "      <td>-1.391275</td>\n",
              "      <td>-0.859656</td>\n",
              "      <td>0.465040</td>\n",
              "      <td>0.561292</td>\n",
              "      <td>1.507059</td>\n",
              "      <td>-1.258592</td>\n",
              "      <td>-0.920104</td>\n",
              "      <td>0.958097</td>\n",
              "      <td>0.391718</td>\n",
              "      <td>1.237048</td>\n",
              "      <td>1.0</td>\n",
              "    </tr>\n",
              "    <tr>\n",
              "      <th>3</th>\n",
              "      <td>1.135661</td>\n",
              "      <td>0.186705</td>\n",
              "      <td>0.681319</td>\n",
              "      <td>0.867969</td>\n",
              "      <td>-0.327683</td>\n",
              "      <td>-1.137050</td>\n",
              "      <td>-0.386583</td>\n",
              "      <td>-0.866691</td>\n",
              "      <td>2.402191</td>\n",
              "      <td>1.133082</td>\n",
              "      <td>1.0</td>\n",
              "    </tr>\n",
              "    <tr>\n",
              "      <th>4</th>\n",
              "      <td>2.478427</td>\n",
              "      <td>-2.026359</td>\n",
              "      <td>-0.985009</td>\n",
              "      <td>1.019894</td>\n",
              "      <td>1.024216</td>\n",
              "      <td>-1.653899</td>\n",
              "      <td>-2.641072</td>\n",
              "      <td>6.453578</td>\n",
              "      <td>0.606756</td>\n",
              "      <td>3.516064</td>\n",
              "      <td>1.0</td>\n",
              "    </tr>\n",
              "  </tbody>\n",
              "</table>\n",
              "</div>"
            ],
            "text/plain": [
              "       RFC2     HSPA6      PAX8    GUCA1A  ...    CYP2E1     EPHB3     ESRRA  Tumor\n",
              "0 -0.471185 -1.705388  1.914465 -0.473100  ...  0.398077 -0.959257  1.603629    1.0\n",
              "1 -1.000726  1.391741  0.580162  0.041409  ... -0.457606  2.007771 -0.472653    1.0\n",
              "2 -1.391275 -0.859656  0.465040  0.561292  ...  0.958097  0.391718  1.237048    1.0\n",
              "3  1.135661  0.186705  0.681319  0.867969  ... -0.866691  2.402191  1.133082    1.0\n",
              "4  2.478427 -2.026359 -0.985009  1.019894  ...  6.453578  0.606756  3.516064    1.0\n",
              "\n",
              "[5 rows x 11 columns]"
            ]
          },
          "metadata": {
            "tags": []
          },
          "execution_count": 64
        }
      ]
    },
    {
      "cell_type": "code",
      "metadata": {
        "id": "2Z2ltKW_PQHw",
        "colab_type": "code",
        "outputId": "7ddad6c0-24f3-4f05-9b6c-583e713c7155",
        "colab": {
          "base_uri": "https://localhost:8080/",
          "height": 491
        }
      },
      "source": [
        "# plot parallel coordinates\n",
        "from pandas.plotting import parallel_coordinates\n",
        "pc = parallel_coordinates(final_df, 'Tumor', color=('#FFE888', '#FF9999'))"
      ],
      "execution_count": 0,
      "outputs": [
        {
          "output_type": "display_data",
          "data": {
            "image/png": "[encoded data removed]",
            "text/plain": [
              "<Figure size 576x576 with 1 Axes>"
            ]
          },
          "metadata": {
            "tags": []
          }
        }
      ]
    },
    {
      "cell_type": "code",
      "metadata": {
        "id": "TJJ2-w3CVuzF",
        "colab_type": "code",
        "colab": {}
      },
      "source": [
        "# Scatter Plot with Hue for visualizing data in 3-D\n",
        "\n",
        "Xy = pd.concat([X, y], axis=1)\n",
        "\n",
        "cols = pd.concat([Xy[0:4],y], axis=1).columns\n",
        "pp = sns.pairplot(Xy[cols], hue='Tumor', height=1.8, aspect=1.8, \n",
        "                  palette={\"red\": \"#FF9999\", \"white\": \"#FFE888\"},\n",
        "                  plot_kws=dict(edgecolor=\"black\", linewidth=0.5))\n",
        "fig = pp.fig \n",
        "fig.subplots_adjust(top=0.93, wspace=0.3)\n",
        "t = fig.suptitle('Expresión genética a pares', fontsize=14)\n",
        "\n"
      ],
      "execution_count": 0,
      "outputs": []
    },
    {
      "cell_type": "code",
      "metadata": {
        "id": "g6sNdZ3_WKcM",
        "colab_type": "code",
        "colab": {}
      },
      "source": [
        ""
      ],
      "execution_count": 0,
      "outputs": []
    },
    {
      "cell_type": "code",
      "metadata": {
        "id": "TKFnSjrsbRdp",
        "colab_type": "code",
        "outputId": "156a800b-30f9-4519-cf18-378223e9c25f",
        "colab": {
          "base_uri": "https://localhost:8080/",
          "height": 244
        }
      },
      "source": [
        "Xy.head()"
      ],
      "execution_count": 0,
      "outputs": [
        {
          "output_type": "execute_result",
          "data": {
            "text/html": [
              "<div>\n",
              "<style scoped>\n",
              "    .dataframe tbody tr th:only-of-type {\n",
              "        vertical-align: middle;\n",
              "    }\n",
              "\n",
              "    .dataframe tbody tr th {\n",
              "        vertical-align: top;\n",
              "    }\n",
              "\n",
              "    .dataframe thead th {\n",
              "        text-align: right;\n",
              "    }\n",
              "</style>\n",
              "<table border=\"1\" class=\"dataframe\">\n",
              "  <thead>\n",
              "    <tr style=\"text-align: right;\">\n",
              "      <th></th>\n",
              "      <th>RFC2</th>\n",
              "      <th>HSPA6</th>\n",
              "      <th>PAX8</th>\n",
              "      <th>GUCA1A</th>\n",
              "      <th>THRA</th>\n",
              "      <th>PTPN21</th>\n",
              "      <th>CCL5</th>\n",
              "      <th>CYP2E1</th>\n",
              "      <th>EPHB3</th>\n",
              "      <th>ESRRA</th>\n",
              "      <th>CYP2A6</th>\n",
              "      <th>SCARB1</th>\n",
              "      <th>TTLL12</th>\n",
              "      <th>LINC00152</th>\n",
              "      <th>WFDC2</th>\n",
              "      <th>MAPK1</th>\n",
              "      <th>ADAM32</th>\n",
              "      <th>SPATA17</th>\n",
              "      <th>PRR22</th>\n",
              "      <th>PXK</th>\n",
              "      <th>VPS18</th>\n",
              "      <th>MSANTD3</th>\n",
              "      <th>SLC46A1</th>\n",
              "      <th>TIMD4</th>\n",
              "      <th>SLC39A5</th>\n",
              "      <th>ATP6V1E2</th>\n",
              "      <th>AFG3L1P</th>\n",
              "      <th>CILP2</th>\n",
              "      <th>PIGX</th>\n",
              "      <th>TMEM196</th>\n",
              "      <th>SLC39A13</th>\n",
              "      <th>BEST4</th>\n",
              "      <th>AK9</th>\n",
              "      <th>CORO6</th>\n",
              "      <th>TMEM106A</th>\n",
              "      <th>ALG10</th>\n",
              "      <th>TTC39C</th>\n",
              "      <th>NEXN</th>\n",
              "      <th>C15orf40</th>\n",
              "      <th>RAX2</th>\n",
              "      <th>...</th>\n",
              "      <th>DPF1</th>\n",
              "      <th>SMARCB1</th>\n",
              "      <th>CHRNA5</th>\n",
              "      <th>GRIN2A</th>\n",
              "      <th>SLC2A2</th>\n",
              "      <th>XIAP</th>\n",
              "      <th>MRAS</th>\n",
              "      <th>CYP4F12</th>\n",
              "      <th>GLB1L</th>\n",
              "      <th>KLKB1</th>\n",
              "      <th>SMARCA2</th>\n",
              "      <th>CD28</th>\n",
              "      <th>SYCP2</th>\n",
              "      <th>PPEF1</th>\n",
              "      <th>INSL4</th>\n",
              "      <th>NUP155</th>\n",
              "      <th>KLHL24</th>\n",
              "      <th>TAC1</th>\n",
              "      <th>THUMPD1</th>\n",
              "      <th>CLUL1</th>\n",
              "      <th>ZNF702P</th>\n",
              "      <th>MIA</th>\n",
              "      <th>AKR1B10</th>\n",
              "      <th>OPRL1</th>\n",
              "      <th>SMA4</th>\n",
              "      <th>SLC7A1</th>\n",
              "      <th>TNP1</th>\n",
              "      <th>IL24</th>\n",
              "      <th>PSG11</th>\n",
              "      <th>PTP4A3</th>\n",
              "      <th>CDKL5</th>\n",
              "      <th>CEACAM1</th>\n",
              "      <th>VIP</th>\n",
              "      <th>NKX2-5</th>\n",
              "      <th>EFEMP2</th>\n",
              "      <th>ADGRG1</th>\n",
              "      <th>KRBOX4</th>\n",
              "      <th>LY96</th>\n",
              "      <th>MKRN3</th>\n",
              "      <th>Tumor</th>\n",
              "    </tr>\n",
              "  </thead>\n",
              "  <tbody>\n",
              "    <tr>\n",
              "      <th>0</th>\n",
              "      <td>7.407253</td>\n",
              "      <td>6.204863</td>\n",
              "      <td>8.095520</td>\n",
              "      <td>5.415445</td>\n",
              "      <td>7.583902</td>\n",
              "      <td>7.852030</td>\n",
              "      <td>8.700219</td>\n",
              "      <td>5.336146</td>\n",
              "      <td>6.876974</td>\n",
              "      <td>8.209689</td>\n",
              "      <td>6.337378</td>\n",
              "      <td>8.472052</td>\n",
              "      <td>9.592294</td>\n",
              "      <td>4.037827</td>\n",
              "      <td>11.960187</td>\n",
              "      <td>8.273791</td>\n",
              "      <td>3.710529</td>\n",
              "      <td>6.184728</td>\n",
              "      <td>5.262566</td>\n",
              "      <td>6.988536</td>\n",
              "      <td>7.442556</td>\n",
              "      <td>8.017039</td>\n",
              "      <td>6.868443</td>\n",
              "      <td>3.734183</td>\n",
              "      <td>7.351920</td>\n",
              "      <td>5.803096</td>\n",
              "      <td>5.082037</td>\n",
              "      <td>5.285802</td>\n",
              "      <td>6.797279</td>\n",
              "      <td>4.687908</td>\n",
              "      <td>7.539919</td>\n",
              "      <td>3.899067</td>\n",
              "      <td>4.993603</td>\n",
              "      <td>4.731796</td>\n",
              "      <td>5.289668</td>\n",
              "      <td>4.467448</td>\n",
              "      <td>7.071395</td>\n",
              "      <td>7.750493</td>\n",
              "      <td>7.507153</td>\n",
              "      <td>6.372316</td>\n",
              "      <td>...</td>\n",
              "      <td>5.665427</td>\n",
              "      <td>7.058852</td>\n",
              "      <td>4.589996</td>\n",
              "      <td>4.630960</td>\n",
              "      <td>3.285501</td>\n",
              "      <td>9.350405</td>\n",
              "      <td>7.974948</td>\n",
              "      <td>6.799313</td>\n",
              "      <td>6.052795</td>\n",
              "      <td>5.250386</td>\n",
              "      <td>9.385324</td>\n",
              "      <td>4.932647</td>\n",
              "      <td>3.775187</td>\n",
              "      <td>4.184792</td>\n",
              "      <td>6.029930</td>\n",
              "      <td>7.009808</td>\n",
              "      <td>8.385115</td>\n",
              "      <td>3.331011</td>\n",
              "      <td>8.886485</td>\n",
              "      <td>3.628287</td>\n",
              "      <td>3.980185</td>\n",
              "      <td>10.730756</td>\n",
              "      <td>11.501456</td>\n",
              "      <td>4.951772</td>\n",
              "      <td>5.596105</td>\n",
              "      <td>9.602614</td>\n",
              "      <td>5.058940</td>\n",
              "      <td>4.245336</td>\n",
              "      <td>3.935324</td>\n",
              "      <td>7.412531</td>\n",
              "      <td>4.726577</td>\n",
              "      <td>6.512507</td>\n",
              "      <td>3.116127</td>\n",
              "      <td>5.548750</td>\n",
              "      <td>9.165610</td>\n",
              "      <td>10.151242</td>\n",
              "      <td>6.880232</td>\n",
              "      <td>9.969742</td>\n",
              "      <td>3.838012</td>\n",
              "      <td>1.0</td>\n",
              "    </tr>\n",
              "    <tr>\n",
              "      <th>1</th>\n",
              "      <td>7.123130</td>\n",
              "      <td>9.571917</td>\n",
              "      <td>7.713950</td>\n",
              "      <td>5.524888</td>\n",
              "      <td>6.521715</td>\n",
              "      <td>6.562020</td>\n",
              "      <td>9.463812</td>\n",
              "      <td>4.869831</td>\n",
              "      <td>8.651825</td>\n",
              "      <td>7.524439</td>\n",
              "      <td>6.792868</td>\n",
              "      <td>7.215739</td>\n",
              "      <td>7.820553</td>\n",
              "      <td>4.800296</td>\n",
              "      <td>9.652900</td>\n",
              "      <td>8.387023</td>\n",
              "      <td>3.790175</td>\n",
              "      <td>4.867427</td>\n",
              "      <td>5.555911</td>\n",
              "      <td>6.470041</td>\n",
              "      <td>6.694509</td>\n",
              "      <td>7.865227</td>\n",
              "      <td>6.775776</td>\n",
              "      <td>3.520910</td>\n",
              "      <td>6.639331</td>\n",
              "      <td>5.939561</td>\n",
              "      <td>6.104655</td>\n",
              "      <td>5.844467</td>\n",
              "      <td>6.209490</td>\n",
              "      <td>4.548614</td>\n",
              "      <td>8.107617</td>\n",
              "      <td>3.629168</td>\n",
              "      <td>4.383930</td>\n",
              "      <td>4.720145</td>\n",
              "      <td>5.367991</td>\n",
              "      <td>5.209278</td>\n",
              "      <td>7.128311</td>\n",
              "      <td>6.500195</td>\n",
              "      <td>6.724820</td>\n",
              "      <td>6.705220</td>\n",
              "      <td>...</td>\n",
              "      <td>5.117834</td>\n",
              "      <td>6.961695</td>\n",
              "      <td>3.623140</td>\n",
              "      <td>4.343284</td>\n",
              "      <td>3.369918</td>\n",
              "      <td>9.885140</td>\n",
              "      <td>7.637548</td>\n",
              "      <td>5.933176</td>\n",
              "      <td>6.413146</td>\n",
              "      <td>5.028126</td>\n",
              "      <td>8.585609</td>\n",
              "      <td>5.188967</td>\n",
              "      <td>3.748200</td>\n",
              "      <td>3.781760</td>\n",
              "      <td>4.074017</td>\n",
              "      <td>8.081139</td>\n",
              "      <td>8.748958</td>\n",
              "      <td>3.831345</td>\n",
              "      <td>8.907810</td>\n",
              "      <td>3.769394</td>\n",
              "      <td>4.063474</td>\n",
              "      <td>5.343234</td>\n",
              "      <td>6.539597</td>\n",
              "      <td>5.301405</td>\n",
              "      <td>6.251008</td>\n",
              "      <td>8.595977</td>\n",
              "      <td>5.477763</td>\n",
              "      <td>4.402177</td>\n",
              "      <td>4.202494</td>\n",
              "      <td>8.045272</td>\n",
              "      <td>4.379235</td>\n",
              "      <td>9.373695</td>\n",
              "      <td>2.865539</td>\n",
              "      <td>6.067992</td>\n",
              "      <td>8.942705</td>\n",
              "      <td>11.232603</td>\n",
              "      <td>7.889566</td>\n",
              "      <td>9.425093</td>\n",
              "      <td>3.537451</td>\n",
              "      <td>1.0</td>\n",
              "    </tr>\n",
              "    <tr>\n",
              "      <th>2</th>\n",
              "      <td>6.913583</td>\n",
              "      <td>7.124304</td>\n",
              "      <td>7.681029</td>\n",
              "      <td>5.635474</td>\n",
              "      <td>7.506380</td>\n",
              "      <td>5.971188</td>\n",
              "      <td>8.124298</td>\n",
              "      <td>5.641336</td>\n",
              "      <td>7.685116</td>\n",
              "      <td>8.088704</td>\n",
              "      <td>6.676825</td>\n",
              "      <td>6.271829</td>\n",
              "      <td>7.923400</td>\n",
              "      <td>4.411978</td>\n",
              "      <td>12.030296</td>\n",
              "      <td>8.341712</td>\n",
              "      <td>3.411909</td>\n",
              "      <td>3.665718</td>\n",
              "      <td>5.055155</td>\n",
              "      <td>7.012309</td>\n",
              "      <td>7.067541</td>\n",
              "      <td>8.072279</td>\n",
              "      <td>6.563121</td>\n",
              "      <td>3.698045</td>\n",
              "      <td>6.244219</td>\n",
              "      <td>5.552842</td>\n",
              "      <td>6.704413</td>\n",
              "      <td>5.559559</td>\n",
              "      <td>7.710178</td>\n",
              "      <td>4.808438</td>\n",
              "      <td>7.561447</td>\n",
              "      <td>3.675803</td>\n",
              "      <td>4.712736</td>\n",
              "      <td>4.510318</td>\n",
              "      <td>5.492269</td>\n",
              "      <td>3.650273</td>\n",
              "      <td>10.078010</td>\n",
              "      <td>5.623186</td>\n",
              "      <td>7.196058</td>\n",
              "      <td>6.491831</td>\n",
              "      <td>...</td>\n",
              "      <td>5.417765</td>\n",
              "      <td>7.632133</td>\n",
              "      <td>3.821807</td>\n",
              "      <td>4.609599</td>\n",
              "      <td>3.140366</td>\n",
              "      <td>10.527270</td>\n",
              "      <td>7.264266</td>\n",
              "      <td>5.984499</td>\n",
              "      <td>5.977472</td>\n",
              "      <td>5.732411</td>\n",
              "      <td>8.408930</td>\n",
              "      <td>4.441103</td>\n",
              "      <td>3.340208</td>\n",
              "      <td>3.439751</td>\n",
              "      <td>4.103417</td>\n",
              "      <td>7.720581</td>\n",
              "      <td>9.442246</td>\n",
              "      <td>2.971437</td>\n",
              "      <td>9.141352</td>\n",
              "      <td>3.566078</td>\n",
              "      <td>3.727950</td>\n",
              "      <td>5.778822</td>\n",
              "      <td>4.271846</td>\n",
              "      <td>5.067746</td>\n",
              "      <td>6.553988</td>\n",
              "      <td>8.096978</td>\n",
              "      <td>5.384451</td>\n",
              "      <td>4.941295</td>\n",
              "      <td>4.194393</td>\n",
              "      <td>5.890944</td>\n",
              "      <td>4.124105</td>\n",
              "      <td>6.852570</td>\n",
              "      <td>3.467253</td>\n",
              "      <td>5.833873</td>\n",
              "      <td>7.728383</td>\n",
              "      <td>10.594633</td>\n",
              "      <td>6.848785</td>\n",
              "      <td>7.832617</td>\n",
              "      <td>3.898009</td>\n",
              "      <td>1.0</td>\n",
              "    </tr>\n",
              "    <tr>\n",
              "      <th>3</th>\n",
              "      <td>8.269397</td>\n",
              "      <td>8.261858</td>\n",
              "      <td>7.742878</td>\n",
              "      <td>5.700708</td>\n",
              "      <td>6.733596</td>\n",
              "      <td>6.101352</td>\n",
              "      <td>8.687095</td>\n",
              "      <td>4.646895</td>\n",
              "      <td>8.887764</td>\n",
              "      <td>8.054391</td>\n",
              "      <td>6.322472</td>\n",
              "      <td>8.095853</td>\n",
              "      <td>8.765869</td>\n",
              "      <td>4.437958</td>\n",
              "      <td>8.413734</td>\n",
              "      <td>8.895672</td>\n",
              "      <td>3.842700</td>\n",
              "      <td>5.876491</td>\n",
              "      <td>4.922976</td>\n",
              "      <td>5.976445</td>\n",
              "      <td>6.846830</td>\n",
              "      <td>7.661499</td>\n",
              "      <td>6.941072</td>\n",
              "      <td>3.435661</td>\n",
              "      <td>6.187267</td>\n",
              "      <td>6.422086</td>\n",
              "      <td>7.066251</td>\n",
              "      <td>5.601832</td>\n",
              "      <td>7.818187</td>\n",
              "      <td>4.328076</td>\n",
              "      <td>7.693133</td>\n",
              "      <td>4.004105</td>\n",
              "      <td>5.687191</td>\n",
              "      <td>4.292941</td>\n",
              "      <td>5.238326</td>\n",
              "      <td>4.347060</td>\n",
              "      <td>7.633299</td>\n",
              "      <td>6.117128</td>\n",
              "      <td>7.388982</td>\n",
              "      <td>6.347638</td>\n",
              "      <td>...</td>\n",
              "      <td>5.318295</td>\n",
              "      <td>7.752443</td>\n",
              "      <td>5.913596</td>\n",
              "      <td>4.299841</td>\n",
              "      <td>3.063797</td>\n",
              "      <td>9.434471</td>\n",
              "      <td>8.244588</td>\n",
              "      <td>5.669271</td>\n",
              "      <td>6.447835</td>\n",
              "      <td>5.014674</td>\n",
              "      <td>8.639521</td>\n",
              "      <td>4.568071</td>\n",
              "      <td>6.611726</td>\n",
              "      <td>3.406370</td>\n",
              "      <td>3.813070</td>\n",
              "      <td>7.971651</td>\n",
              "      <td>9.687826</td>\n",
              "      <td>2.827409</td>\n",
              "      <td>8.246166</td>\n",
              "      <td>5.064825</td>\n",
              "      <td>4.823515</td>\n",
              "      <td>5.659988</td>\n",
              "      <td>3.821531</td>\n",
              "      <td>4.589128</td>\n",
              "      <td>6.457474</td>\n",
              "      <td>8.673705</td>\n",
              "      <td>5.235744</td>\n",
              "      <td>3.962395</td>\n",
              "      <td>3.996402</td>\n",
              "      <td>7.216246</td>\n",
              "      <td>4.402420</td>\n",
              "      <td>6.774328</td>\n",
              "      <td>2.981992</td>\n",
              "      <td>5.294247</td>\n",
              "      <td>7.757590</td>\n",
              "      <td>9.464898</td>\n",
              "      <td>7.524853</td>\n",
              "      <td>8.304161</td>\n",
              "      <td>3.770603</td>\n",
              "      <td>1.0</td>\n",
              "    </tr>\n",
              "    <tr>\n",
              "      <th>4</th>\n",
              "      <td>8.989851</td>\n",
              "      <td>5.855919</td>\n",
              "      <td>7.266360</td>\n",
              "      <td>5.733025</td>\n",
              "      <td>7.303009</td>\n",
              "      <td>5.547839</td>\n",
              "      <td>6.308892</td>\n",
              "      <td>8.636168</td>\n",
              "      <td>7.813750</td>\n",
              "      <td>8.840865</td>\n",
              "      <td>6.610658</td>\n",
              "      <td>8.131180</td>\n",
              "      <td>10.207226</td>\n",
              "      <td>4.571704</td>\n",
              "      <td>9.740826</td>\n",
              "      <td>9.132486</td>\n",
              "      <td>3.160109</td>\n",
              "      <td>4.951635</td>\n",
              "      <td>5.287033</td>\n",
              "      <td>5.741862</td>\n",
              "      <td>6.764211</td>\n",
              "      <td>6.797436</td>\n",
              "      <td>6.943303</td>\n",
              "      <td>3.596228</td>\n",
              "      <td>6.082801</td>\n",
              "      <td>6.408388</td>\n",
              "      <td>6.818458</td>\n",
              "      <td>5.645551</td>\n",
              "      <td>7.592188</td>\n",
              "      <td>4.436275</td>\n",
              "      <td>6.883914</td>\n",
              "      <td>3.505326</td>\n",
              "      <td>4.424904</td>\n",
              "      <td>4.312881</td>\n",
              "      <td>5.112056</td>\n",
              "      <td>6.115428</td>\n",
              "      <td>9.024834</td>\n",
              "      <td>3.941173</td>\n",
              "      <td>7.658199</td>\n",
              "      <td>6.496743</td>\n",
              "      <td>...</td>\n",
              "      <td>6.053118</td>\n",
              "      <td>7.804659</td>\n",
              "      <td>6.001228</td>\n",
              "      <td>4.571630</td>\n",
              "      <td>2.799604</td>\n",
              "      <td>9.920486</td>\n",
              "      <td>5.871433</td>\n",
              "      <td>7.224919</td>\n",
              "      <td>5.164154</td>\n",
              "      <td>4.781147</td>\n",
              "      <td>7.807237</td>\n",
              "      <td>3.878693</td>\n",
              "      <td>4.734358</td>\n",
              "      <td>3.385596</td>\n",
              "      <td>3.897174</td>\n",
              "      <td>8.758859</td>\n",
              "      <td>8.359535</td>\n",
              "      <td>2.750796</td>\n",
              "      <td>8.665638</td>\n",
              "      <td>3.414271</td>\n",
              "      <td>5.045215</td>\n",
              "      <td>5.689633</td>\n",
              "      <td>12.774530</td>\n",
              "      <td>4.802906</td>\n",
              "      <td>5.677955</td>\n",
              "      <td>10.169469</td>\n",
              "      <td>4.961344</td>\n",
              "      <td>4.118469</td>\n",
              "      <td>3.863558</td>\n",
              "      <td>7.040980</td>\n",
              "      <td>4.260985</td>\n",
              "      <td>8.507840</td>\n",
              "      <td>2.831098</td>\n",
              "      <td>5.477797</td>\n",
              "      <td>5.986532</td>\n",
              "      <td>10.156301</td>\n",
              "      <td>6.285692</td>\n",
              "      <td>7.345865</td>\n",
              "      <td>3.554386</td>\n",
              "      <td>1.0</td>\n",
              "    </tr>\n",
              "  </tbody>\n",
              "</table>\n",
              "<p>5 rows × 9083 columns</p>\n",
              "</div>"
            ],
            "text/plain": [
              "       RFC2     HSPA6      PAX8    GUCA1A  ...    KRBOX4      LY96     MKRN3  Tumor\n",
              "0  7.407253  6.204863  8.095520  5.415445  ...  6.880232  9.969742  3.838012    1.0\n",
              "1  7.123130  9.571917  7.713950  5.524888  ...  7.889566  9.425093  3.537451    1.0\n",
              "2  6.913583  7.124304  7.681029  5.635474  ...  6.848785  7.832617  3.898009    1.0\n",
              "3  8.269397  8.261858  7.742878  5.700708  ...  7.524853  8.304161  3.770603    1.0\n",
              "4  8.989851  5.855919  7.266360  5.733025  ...  6.285692  7.345865  3.554386    1.0\n",
              "\n",
              "[5 rows x 9083 columns]"
            ]
          },
          "metadata": {
            "tags": []
          },
          "execution_count": 18
        }
      ]
    },
    {
      "cell_type": "code",
      "metadata": {
        "id": "nY7cbAJqcwXg",
        "colab_type": "code",
        "colab": {}
      },
      "source": [
        "Xy = pd.concat([X, y1], axis=1)"
      ],
      "execution_count": 0,
      "outputs": []
    },
    {
      "cell_type": "code",
      "metadata": {
        "id": "vasSwda7cCmq",
        "colab_type": "code",
        "colab": {}
      },
      "source": [
        "cols = pd.concat([Xy.iloc[:,0:4], y1], axis=1).columns "
      ],
      "execution_count": 0,
      "outputs": []
    },
    {
      "cell_type": "code",
      "metadata": {
        "id": "6U-ZmrokcwUs",
        "colab_type": "code",
        "outputId": "deb73252-3260-4748-d7df-ff1f7fe96f3d",
        "colab": {
          "base_uri": "https://localhost:8080/",
          "height": 34
        }
      },
      "source": [
        ""
      ],
      "execution_count": 0,
      "outputs": [
        {
          "output_type": "execute_result",
          "data": {
            "text/plain": [
              "'RFC2'"
            ]
          },
          "metadata": {
            "tags": []
          },
          "execution_count": 53
        }
      ]
    },
    {
      "cell_type": "code",
      "metadata": {
        "id": "x8Bcgq01YrFf",
        "colab_type": "code",
        "outputId": "6512d64a-52df-4a19-e125-2b325572869b",
        "colab": {
          "base_uri": "https://localhost:8080/",
          "height": 417
        }
      },
      "source": [
        "# Visualizing 4-D mix data using scatter plots\n",
        "# leveraging the concepts of hue and depth\n",
        "\n",
        "fig = plt.figure(figsize=(8, 6))\n",
        "t = fig.suptitle('Expresión genética vs clases', fontsize=14)\n",
        "ax = fig.add_subplot(111, projection='3d')\n",
        "\n",
        "xs = list(Xy[Xy.columns[12]])\n",
        "ys = list(Xy[Xy.columns[13]])\n",
        "zs = list(Xy[Xy.columns[14]])\n",
        "data_points = [(x, y, z) for x, y, z in zip(xs, ys, zs)]\n",
        "colors = ['red' if wt == 1 else 'yellow' for wt in list(Xy['Tumor'])]\n",
        "\n",
        "for data, color in zip(data_points, colors):\n",
        "    x, y, z = data\n",
        "    ax.scatter(x, y, z, alpha=0.4, c=color, edgecolors='none', s=30)\n",
        "\n",
        "ax.set_xlabel(Xy.columns[12])\n",
        "ax.set_ylabel(Xy.columns[13])\n",
        "ax.set_zlabel(Xy.columns[14])"
      ],
      "execution_count": 0,
      "outputs": [
        {
          "output_type": "execute_result",
          "data": {
            "text/plain": [
              "Text(0.5, 0, 'WFDC2')"
            ]
          },
          "metadata": {
            "tags": []
          },
          "execution_count": 58
        },
        {
          "output_type": "display_data",
          "data": {
            "image/png": "[encoded data removed]",
            "text/plain": [
              "<Figure size 576x432 with 1 Axes>"
            ]
          },
          "metadata": {
            "tags": []
          }
        }
      ]
    },
    {
      "cell_type": "markdown",
      "metadata": {
        "id": "6pXrfMwqyEAB",
        "colab_type": "text"
      },
      "source": [
        "## Entrenamiento del modelo SVM"
      ]
    },
    {
      "cell_type": "code",
      "metadata": {
        "id": "900SxL5x2sxV",
        "colab_type": "code",
        "colab": {}
      },
      "source": [
        "svc = svm.SVC(kernel='linear', probability=True)\n",
        "\n",
        "Cs = np.logspace(-6, -1, 10)\n",
        "Gs = 10.0 ** np.arange(-4, 4)\n",
        "\n",
        "clf1_grid = GridSearchCV(estimator=svc, param_grid=dict(C=Cs, gamma=Gs), n_jobs=-1, scoring = 'recall', cv=2)"
      ],
      "execution_count": 0,
      "outputs": []
    },
    {
      "cell_type": "code",
      "metadata": {
        "id": "9qwFz1ZE2-uJ",
        "colab_type": "code",
        "outputId": "2265f833-dada-43e0-c0ff-44f86e21e2a6",
        "colab": {
          "base_uri": "https://localhost:8080/",
          "height": 298
        }
      },
      "source": [
        "clf1_grid.fit(X, y)"
      ],
      "execution_count": 0,
      "outputs": [
        {
          "output_type": "stream",
          "text": [
            "/usr/local/lib/python3.6/dist-packages/sklearn/utils/validation.py:724: DataConversionWarning: A column-vector y was passed when a 1d array was expected. Please change the shape of y to (n_samples, ), for example using ravel().\n",
            "  y = column_or_1d(y, warn=True)\n"
          ],
          "name": "stderr"
        },
        {
          "output_type": "execute_result",
          "data": {
            "text/plain": [
              "GridSearchCV(cv=2, error_score='raise-deprecating',\n",
              "             estimator=SVC(C=1.0, cache_size=200, class_weight=None, coef0=0.0,\n",
              "                           decision_function_shape='ovr', degree=3,\n",
              "                           gamma='auto_deprecated', kernel='linear',\n",
              "                           max_iter=-1, probability=True, random_state=None,\n",
              "                           shrinking=True, tol=0.001, verbose=False),\n",
              "             iid='warn', n_jobs=-1,\n",
              "             param_grid={'C': array([1.00000000e-06, 3.59381366e-06, 1.29154967e-05, 4.64158883e-05,\n",
              "       1.66810054e-04, 5.99484250e-04, 2.15443469e-03, 7.74263683e-03,\n",
              "       2.78255940e-02, 1.00000000e-01]),\n",
              "                         'gamma': array([1.e-04, 1.e-03, 1.e-02, 1.e-01, 1.e+00, 1.e+01, 1.e+02, 1.e+03])},\n",
              "             pre_dispatch='2*n_jobs', refit=True, return_train_score=False,\n",
              "             scoring='recall', verbose=0)"
            ]
          },
          "metadata": {
            "tags": []
          },
          "execution_count": 18
        }
      ]
    },
    {
      "cell_type": "code",
      "metadata": {
        "id": "DVl_Y0iC6Kxb",
        "colab_type": "code",
        "outputId": "11135470-5755-431a-e876-8e112979c4c1",
        "colab": {
          "base_uri": "https://localhost:8080/",
          "height": 86
        }
      },
      "source": [
        "svm_best = clf1_grid.best_estimator_\n",
        "print(svm_best, \". Recall:\", clf1_grid.best_score_)"
      ],
      "execution_count": 0,
      "outputs": [
        {
          "output_type": "stream",
          "text": [
            "SVC(C=0.007742636826811277, cache_size=200, class_weight=None, coef0=0.0,\n",
            "    decision_function_shape='ovr', degree=3, gamma=0.0001, kernel='linear',\n",
            "    max_iter=-1, probability=True, random_state=None, shrinking=True, tol=0.001,\n",
            "    verbose=False) . Recall: 0.9763860369609856\n"
          ],
          "name": "stdout"
        }
      ]
    },
    {
      "cell_type": "markdown",
      "metadata": {
        "id": "BQB8l4rRMloX",
        "colab_type": "text"
      },
      "source": [
        "\n",
        "---\n",
        "C = 0.007742636826811277\n",
        "\n",
        "---\n",
        "\n",
        "gamma = 0.0001\n",
        "\n",
        "\n",
        "---\n",
        "\n"
      ]
    },
    {
      "cell_type": "code",
      "metadata": {
        "id": "U8bPZ3Fj2pkz",
        "colab_type": "code",
        "colab": {}
      },
      "source": [
        "C_best = 0.007742636826811277\n",
        "gamma_best = 0.0001"
      ],
      "execution_count": 0,
      "outputs": []
    },
    {
      "cell_type": "code",
      "metadata": {
        "id": "PNz_PpfUYSNl",
        "colab_type": "code",
        "colab": {}
      },
      "source": [
        "clf1 = modelo_svm = SVC(kernel='linear',\n",
        "                        C = C_best,\n",
        "                        gamma = gamma_best,\n",
        "                        probability = True)"
      ],
      "execution_count": 0,
      "outputs": []
    },
    {
      "cell_type": "code",
      "metadata": {
        "id": "XlFQfRWoYqlK",
        "colab_type": "code",
        "outputId": "ebe181a8-d455-48ef-bbe9-1f5b41669dbb",
        "colab": {
          "base_uri": "https://localhost:8080/",
          "height": 138
        }
      },
      "source": [
        "clf1.fit(X, y)"
      ],
      "execution_count": 0,
      "outputs": [
        {
          "output_type": "stream",
          "text": [
            "/usr/local/lib/python3.6/dist-packages/sklearn/utils/validation.py:724: DataConversionWarning: A column-vector y was passed when a 1d array was expected. Please change the shape of y to (n_samples, ), for example using ravel().\n",
            "  y = column_or_1d(y, warn=True)\n"
          ],
          "name": "stderr"
        },
        {
          "output_type": "execute_result",
          "data": {
            "text/plain": [
              "SVC(C=0.007742636826811277, cache_size=200, class_weight=None, coef0=0.0,\n",
              "    decision_function_shape='ovr', degree=3, gamma=0.0001, kernel='linear',\n",
              "    max_iter=-1, probability=True, random_state=None, shrinking=True, tol=0.001,\n",
              "    verbose=False)"
            ]
          },
          "metadata": {
            "tags": []
          },
          "execution_count": 28
        }
      ]
    },
    {
      "cell_type": "code",
      "metadata": {
        "id": "I5M8Sxa9TJpA",
        "colab_type": "code",
        "colab": {}
      },
      "source": [
        "y_preds = clf1.predict_proba(X)\n",
        "preds = y_preds[:,1]\n",
        "\n",
        "fpr, tpr, _ = metrics.roc_curve(y, preds)\n",
        "auc_score = metrics.auc(fpr, tpr)"
      ],
      "execution_count": 0,
      "outputs": []
    },
    {
      "cell_type": "code",
      "metadata": {
        "id": "gRDoluU0YCKl",
        "colab_type": "code",
        "outputId": "16e033f7-3050-4b13-9f42-0b671dfc5d5f",
        "colab": {
          "base_uri": "https://localhost:8080/",
          "height": 518
        }
      },
      "source": [
        "plt.clf()\n",
        "\n",
        "plt.title('ROC Curve')\n",
        "plt.plot(fpr, tpr, label='AUC = {:.2f}'.format(auc_score))\n",
        "\n",
        "# it's helpful to add a diagonal to indicate where chance \n",
        "# scores lie (i.e. just flipping a coin)\n",
        "plt.plot([0,1],[0,1],'r--')\n",
        "\n",
        "plt.xlim([-0.1,1.1])\n",
        "plt.ylim([-0.1,1.1])\n",
        "plt.ylabel('Exhaustividad')\n",
        "plt.xlabel('Frecuencia de falsos positivos')\n",
        "\n",
        "plt.legend(loc='lower right')\n",
        "plt.show()"
      ],
      "execution_count": 0,
      "outputs": [
        {
          "output_type": "display_data",
          "data": {
            "image/png": "[encoded data removed]",
            "text/plain": [
              "<Figure size 576x576 with 1 Axes>"
            ]
          },
          "metadata": {
            "tags": []
          }
        }
      ]
    },
    {
      "cell_type": "code",
      "metadata": {
        "id": "iiQm81eGaRuo",
        "colab_type": "code",
        "colab": {}
      },
      "source": [
        "y_preds = (y_preds > 0.5).astype(int)\n",
        "a = []\n",
        "for i in range(0,len(y_preds)):\n",
        "  if y_preds[i][0] == 1:\n",
        "    a.append(0)\n",
        "  elif y_preds[i][1] == 1:\n",
        "    a.append(1)"
      ],
      "execution_count": 0,
      "outputs": []
    },
    {
      "cell_type": "code",
      "metadata": {
        "id": "B73pCkkLZEm1",
        "colab_type": "code",
        "outputId": "be8e0629-cf78-4b50-c358-309a5c5b30c0",
        "colab": {
          "base_uri": "https://localhost:8080/",
          "height": 52
        }
      },
      "source": [
        "c_matrix = confusion_matrix(y,a)\n",
        "c_matrix"
      ],
      "execution_count": 0,
      "outputs": [
        {
          "output_type": "execute_result",
          "data": {
            "text/plain": [
              "array([[974,   0],\n",
              "       [  0, 974]])"
            ]
          },
          "metadata": {
            "tags": []
          },
          "execution_count": 104
        }
      ]
    },
    {
      "cell_type": "code",
      "metadata": {
        "id": "I0GmmwqBjn3X",
        "colab_type": "code",
        "outputId": "adf84812-b2e8-4da3-96ae-3598a3a6d8e7",
        "colab": {
          "base_uri": "https://localhost:8080/",
          "height": 139
        }
      },
      "source": [
        "tn = c_matrix[0,0]\n",
        "tp = c_matrix[1,1]\n",
        "fn = c_matrix[1,0]\n",
        "fp = c_matrix[0,1]\n",
        "\n",
        "print(\"Recall:\", tp/(tp+fn))\n",
        "print(\"Specificity:\", tn/(tn+fp))\n",
        "print(\"Precision:\", tp/(tp+fp))\n",
        "print(\"Negative predictive value:\", tn/(tn+fn))\n",
        "print(\"Acuracy:\", (tp+tn)/(tp+tn+fp+fn))\n",
        "print(\"Matthews correlation coefficient:\", (tp*tn-fp*fn)/((tp+fp)*(tp+fn)*(tn+fp)*(tn+fn))**(1/2.0))\n",
        "print(\"Cohen Kappa\", cohen_kappa_score(y,a))"
      ],
      "execution_count": 0,
      "outputs": [
        {
          "output_type": "stream",
          "text": [
            "Recall: 1.0\n",
            "Specificity: 1.0\n",
            "Precision: 1.0\n",
            "Negative predictive value: 1.0\n",
            "Acuracy: 1.0\n",
            "Matthews correlation coefficient: 1.0\n",
            "Cohen Kappa 1.0\n"
          ],
          "name": "stdout"
        }
      ]
    },
    {
      "cell_type": "markdown",
      "metadata": {
        "id": "zF62vkD_lm83",
        "colab_type": "text"
      },
      "source": [
        "**Conjunto de datos de prueba:**"
      ]
    },
    {
      "cell_type": "code",
      "metadata": {
        "id": "ZPOeaiqOlbcm",
        "colab_type": "code",
        "outputId": "0f9384eb-0c85-4490-a1ed-44ef987779ca",
        "colab": {
          "base_uri": "https://localhost:8080/",
          "height": 52
        }
      },
      "source": [
        "y_preds = clf1.predict_proba(X_test)\n",
        "preds = y_preds[:,1]\n",
        "\n",
        "y_preds = (y_preds > 0.5).astype(int)\n",
        "a = []\n",
        "for i in range(0,len(y_preds)):\n",
        "  if y_preds[i][0] == 1:\n",
        "    a.append(0)\n",
        "  elif y_preds[i][1] == 1:\n",
        "    a.append(1)\n",
        "    \n",
        "c_matrix = confusion_matrix(y_test,a)\n",
        "c_matrix"
      ],
      "execution_count": 0,
      "outputs": [
        {
          "output_type": "execute_result",
          "data": {
            "text/plain": [
              "array([[  9,   3],\n",
              "       [  0, 112]])"
            ]
          },
          "metadata": {
            "tags": []
          },
          "execution_count": 106
        }
      ]
    },
    {
      "cell_type": "code",
      "metadata": {
        "id": "Bda9STfImj-E",
        "colab_type": "code",
        "outputId": "c0351817-5fd6-49df-a0b8-2a5a1a169fd2",
        "colab": {
          "base_uri": "https://localhost:8080/",
          "height": 139
        }
      },
      "source": [
        "tn = c_matrix[0,0]\n",
        "tp = c_matrix[1,1]\n",
        "fn = c_matrix[1,0]\n",
        "fp = c_matrix[0,1]\n",
        "\n",
        "print(\"Recall:\", tp/(tp+fn))\n",
        "print(\"Specificity:\", tn/(tn+fp))\n",
        "print(\"Precision:\", tp/(tp+fp))\n",
        "print(\"Negative predictive value:\", tn/(tn+fn))\n",
        "print(\"Acuracy:\", (tp+tn)/(tp+tn+fp+fn))\n",
        "print(\"Matthews correlation coefficient:\", (tp*tn-fp*fn)/((tp+fp)*(tp+fn)*(tn+fp)*(tn+fn))**(1/2.0))\n",
        "print(\"Cohen Kappa\", cohen_kappa_score(y_test,a))"
      ],
      "execution_count": 0,
      "outputs": [
        {
          "output_type": "stream",
          "text": [
            "Recall: 1.0\n",
            "Specificity: 0.75\n",
            "Precision: 0.9739130434782609\n",
            "Negative predictive value: 1.0\n",
            "Acuracy: 0.9758064516129032\n",
            "Matthews correlation coefficient: 0.8546547739343037\n",
            "Cohen Kappa 0.8442211055276382\n"
          ],
          "name": "stdout"
        }
      ]
    },
    {
      "cell_type": "markdown",
      "metadata": {
        "id": "KEONa6L_07jC",
        "colab_type": "text"
      },
      "source": [
        "## Entrenamiento del modelo Redes Neuronales"
      ]
    },
    {
      "cell_type": "code",
      "metadata": {
        "id": "sEAs-12uRJMi",
        "colab_type": "code",
        "colab": {}
      },
      "source": [
        "mlp = MLPClassifier(hidden_layer_sizes=(2,2000),\n",
        "                    solver='lbfgs')"
      ],
      "execution_count": 0,
      "outputs": []
    },
    {
      "cell_type": "code",
      "metadata": {
        "id": "1YPpAioc8Qa6",
        "colab_type": "code",
        "colab": {}
      },
      "source": [
        "iters = [500]\n",
        "alphas = [1e-5]\n",
        "\n",
        "clf2_grid = GridSearchCV(mlp,\n",
        "                         param_grid = dict(max_iter = iters, alpha = alphas),\n",
        "                         n_jobs = -1,\n",
        "                         scoring = 'recall',\n",
        "                         cv = 2,\n",
        "                         verbose = 10)"
      ],
      "execution_count": 0,
      "outputs": []
    },
    {
      "cell_type": "code",
      "metadata": {
        "id": "QFbWSYAKPp4X",
        "colab_type": "code",
        "outputId": "15706ff3-7560-46bd-b681-db1e2ff89930",
        "colab": {
          "base_uri": "https://localhost:8080/",
          "height": 454
        }
      },
      "source": [
        "clf2_grid.fit(X, y)"
      ],
      "execution_count": 0,
      "outputs": [
        {
          "output_type": "stream",
          "text": [
            "Fitting 2 folds for each of 1 candidates, totalling 2 fits\n"
          ],
          "name": "stdout"
        },
        {
          "output_type": "stream",
          "text": [
            "[Parallel(n_jobs=-1)]: Using backend LokyBackend with 2 concurrent workers.\n",
            "[Parallel(n_jobs=-1)]: Done   2 out of   2 | elapsed:    2.8s remaining:    0.0s\n",
            "[Parallel(n_jobs=-1)]: Done   2 out of   2 | elapsed:    2.8s finished\n",
            "/usr/local/lib/python3.6/dist-packages/sklearn/neural_network/multilayer_perceptron.py:921: DataConversionWarning: A column-vector y was passed when a 1d array was expected. Please change the shape of y to (n_samples, ), for example using ravel().\n",
            "  y = column_or_1d(y, warn=True)\n"
          ],
          "name": "stderr"
        },
        {
          "output_type": "execute_result",
          "data": {
            "text/plain": [
              "GridSearchCV(cv=2, error_score='raise-deprecating',\n",
              "             estimator=MLPClassifier(activation='relu', alpha=0.0001,\n",
              "                                     batch_size='auto', beta_1=0.9,\n",
              "                                     beta_2=0.999, early_stopping=False,\n",
              "                                     epsilon=1e-08,\n",
              "                                     hidden_layer_sizes=(2, 2000),\n",
              "                                     learning_rate='constant',\n",
              "                                     learning_rate_init=0.001, max_iter=200,\n",
              "                                     momentum=0.9, n_iter_no_change=10,\n",
              "                                     nesterovs_momentum=True, power_t=0.5,\n",
              "                                     random_state=None, shuffle=True,\n",
              "                                     solver='lbfgs', tol=0.0001,\n",
              "                                     validation_fraction=0.1, verbose=False,\n",
              "                                     warm_start=False),\n",
              "             iid='warn', n_jobs=-1,\n",
              "             param_grid={'alpha': [1e-05], 'max_iter': [500]},\n",
              "             pre_dispatch='2*n_jobs', refit=True, return_train_score=False,\n",
              "             scoring='recall', verbose=10)"
            ]
          },
          "metadata": {
            "tags": []
          },
          "execution_count": 43
        }
      ]
    },
    {
      "cell_type": "code",
      "metadata": {
        "id": "_D_V1tpnJzOX",
        "colab_type": "code",
        "outputId": "25ea7354-c986-4402-f50c-510f12c5779c",
        "colab": {
          "base_uri": "https://localhost:8080/",
          "height": 139
        }
      },
      "source": [
        "nn_best = clf2_grid.best_estimator_\n",
        "print(nn_best, \". Recall:\", clf2_grid.best_score_)"
      ],
      "execution_count": 0,
      "outputs": [
        {
          "output_type": "stream",
          "text": [
            "MLPClassifier(activation='relu', alpha=1e-05, batch_size='auto', beta_1=0.9,\n",
            "              beta_2=0.999, early_stopping=False, epsilon=1e-08,\n",
            "              hidden_layer_sizes=(2, 2000), learning_rate='constant',\n",
            "              learning_rate_init=0.001, max_iter=500, momentum=0.9,\n",
            "              n_iter_no_change=10, nesterovs_momentum=True, power_t=0.5,\n",
            "              random_state=None, shuffle=True, solver='lbfgs', tol=0.0001,\n",
            "              validation_fraction=0.1, verbose=False, warm_start=False) . Recall: 0.5\n"
          ],
          "name": "stdout"
        }
      ]
    },
    {
      "cell_type": "markdown",
      "metadata": {
        "id": "p2mv31DkvBvm",
        "colab_type": "text"
      },
      "source": [
        "\n",
        "\n",
        "---\n",
        "\n",
        "max_iter = 500\n",
        "\n",
        "\n",
        "---\n",
        "alpha = 0.01\n",
        "\n",
        "\n",
        "---\n",
        "\n",
        "hidden_layer_sizes = 2000\n",
        "\n",
        "---\n",
        "\n",
        "\n"
      ]
    },
    {
      "cell_type": "code",
      "metadata": {
        "id": "GsfKMbAVEWSW",
        "colab_type": "code",
        "outputId": "be9e7c1f-5a72-4933-ab3a-cbca64cf4322",
        "colab": {
          "base_uri": "https://localhost:8080/",
          "height": 188
        }
      },
      "source": [
        "clf2 = MLPClassifier(activation='relu', alpha=1e-05, batch_size='auto', beta_1=0.9,\n",
        "              beta_2=0.999, early_stopping=False, epsilon=1e-08,\n",
        "              hidden_layer_sizes=(2, 2000), learning_rate='constant',\n",
        "              learning_rate_init=0.001, max_iter=500, momentum=0.9,\n",
        "              n_iter_no_change=10, nesterovs_momentum=True, power_t=0.5,\n",
        "              random_state=None, shuffle=True, solver='lbfgs', tol=0.0001,\n",
        "              validation_fraction=0.1, verbose=False, warm_start=False)\n",
        "\n",
        "clf2.fit(X, y)"
      ],
      "execution_count": 0,
      "outputs": [
        {
          "output_type": "stream",
          "text": [
            "/usr/local/lib/python3.6/dist-packages/sklearn/neural_network/multilayer_perceptron.py:921: DataConversionWarning: A column-vector y was passed when a 1d array was expected. Please change the shape of y to (n_samples, ), for example using ravel().\n",
            "  y = column_or_1d(y, warn=True)\n"
          ],
          "name": "stderr"
        },
        {
          "output_type": "execute_result",
          "data": {
            "text/plain": [
              "MLPClassifier(activation='relu', alpha=1e-05, batch_size='auto', beta_1=0.9,\n",
              "              beta_2=0.999, early_stopping=False, epsilon=1e-08,\n",
              "              hidden_layer_sizes=(2, 2000), learning_rate='constant',\n",
              "              learning_rate_init=0.001, max_iter=500, momentum=0.9,\n",
              "              n_iter_no_change=10, nesterovs_momentum=True, power_t=0.5,\n",
              "              random_state=None, shuffle=True, solver='lbfgs', tol=0.0001,\n",
              "              validation_fraction=0.1, verbose=False, warm_start=False)"
            ]
          },
          "metadata": {
            "tags": []
          },
          "execution_count": 29
        }
      ]
    },
    {
      "cell_type": "code",
      "metadata": {
        "id": "ZxUSUQeMvDh1",
        "colab_type": "code",
        "colab": {}
      },
      "source": [
        "y_preds = clf2.predict_proba(X)\n",
        "preds = y_preds[:,1]\n",
        "\n",
        "fpr, tpr, _ = metrics.roc_curve(y, preds)\n",
        "auc_score = metrics.auc(fpr, tpr)"
      ],
      "execution_count": 0,
      "outputs": []
    },
    {
      "cell_type": "code",
      "metadata": {
        "id": "lErb6SDCvR45",
        "colab_type": "code",
        "outputId": "224f7904-f70e-4a78-f060-caecf9e899cc",
        "colab": {
          "base_uri": "https://localhost:8080/",
          "height": 518
        }
      },
      "source": [
        "plt.clf()\n",
        "\n",
        "plt.title('ROC Curve')\n",
        "plt.plot(fpr, tpr, label='AUC = {:.2f}'.format(auc_score))\n",
        "\n",
        "# it's helpful to add a diagonal to indicate where chance \n",
        "# scores lie (i.e. just flipping a coin)\n",
        "plt.plot([0,1],[0,1],'r--')\n",
        "\n",
        "plt.xlim([-0.1,1.1])\n",
        "plt.ylim([-0.1,1.1])\n",
        "plt.ylabel('Exhaustividad')\n",
        "plt.xlabel('Frecuencia de falsos positivos')\n",
        "\n",
        "plt.legend(loc='lower right')\n",
        "plt.show()"
      ],
      "execution_count": 0,
      "outputs": [
        {
          "output_type": "display_data",
          "data": {
            "image/png": "[encoded data removed]",
            "text/plain": [
              "<Figure size 576x576 with 1 Axes>"
            ]
          },
          "metadata": {
            "tags": []
          }
        }
      ]
    },
    {
      "cell_type": "code",
      "metadata": {
        "id": "HAvGMZljvUxE",
        "colab_type": "code",
        "colab": {}
      },
      "source": [
        "y_preds = (y_preds > 0.5).astype(int)\n",
        "a = []\n",
        "for i in range(0,len(y_preds)):\n",
        "  if y_preds[i][0] == 1:\n",
        "    a.append(0)\n",
        "  elif y_preds[i][1] == 1:\n",
        "    a.append(1)"
      ],
      "execution_count": 0,
      "outputs": []
    },
    {
      "cell_type": "code",
      "metadata": {
        "id": "ti_btd9QvXZU",
        "colab_type": "code",
        "outputId": "90257b45-6eb3-4632-f167-440106cb3e87",
        "colab": {
          "base_uri": "https://localhost:8080/",
          "height": 52
        }
      },
      "source": [
        "c_matrix = confusion_matrix(y,a)\n",
        "c_matrix"
      ],
      "execution_count": 0,
      "outputs": [
        {
          "output_type": "execute_result",
          "data": {
            "text/plain": [
              "array([[974,   0],\n",
              "       [  0, 974]])"
            ]
          },
          "metadata": {
            "tags": []
          },
          "execution_count": 97
        }
      ]
    },
    {
      "cell_type": "code",
      "metadata": {
        "id": "7OW-egWOva30",
        "colab_type": "code",
        "outputId": "e3c682e0-9834-4211-d921-8af970241e17",
        "colab": {
          "base_uri": "https://localhost:8080/",
          "height": 139
        }
      },
      "source": [
        "tn = c_matrix[0,0]\n",
        "tp = c_matrix[1,1]\n",
        "fn = c_matrix[1,0]\n",
        "fp = c_matrix[0,1]\n",
        "\n",
        "print(\"Exhaustividad:\", tp/(tp+fn))\n",
        "print(\"Especificidad:\", tn/(tn+fp))\n",
        "print(\"Precisión:\", tp/(tp+fp))\n",
        "print(\"Valor predictivo negativo:\", tn/(tn+fn))\n",
        "print(\"Exactitud:\", (tp+tn)/(tp+tn+fp+fn))\n",
        "print(\"Coeficiente de correlación de Matthews:\", (tp*tn-fp*fn)/((tp+fp)*(tp+fn)*(tn+fp)*(tn+fn))**(1/2.0))\n",
        "print(\"Cohen Kappa\", cohen_kappa_score(y,a))"
      ],
      "execution_count": 0,
      "outputs": [
        {
          "output_type": "stream",
          "text": [
            "Exhaustividad: 1.0\n",
            "Especificidad: 1.0\n",
            "Precisión: 1.0\n",
            "Valor predictivo negativo: 1.0\n",
            "Exactitud: 1.0\n",
            "Coeficiente de correlación de Matthews: 1.0\n",
            "Cohen Kappa 1.0\n"
          ],
          "name": "stdout"
        }
      ]
    },
    {
      "cell_type": "markdown",
      "metadata": {
        "id": "HuNATMzb4SJH",
        "colab_type": "text"
      },
      "source": [
        "**Conjunto de datos de prueba**"
      ]
    },
    {
      "cell_type": "code",
      "metadata": {
        "id": "CCDqeBkY4RmC",
        "colab_type": "code",
        "outputId": "48b5181a-df1a-4115-ff3f-c4cb029e0249",
        "colab": {
          "base_uri": "https://localhost:8080/",
          "height": 52
        }
      },
      "source": [
        "y_preds = clf3.predict_proba(X_test)\n",
        "preds = y_preds[:,1]\n",
        "\n",
        "y_preds = (y_preds > 0.5).astype(int)\n",
        "a = []\n",
        "for i in range(0,len(y_preds)):\n",
        "  if y_preds[i][0] == 1:\n",
        "    a.append(0)\n",
        "  elif y_preds[i][1] == 1:\n",
        "    a.append(1)\n",
        "    \n",
        "c_matrix = confusion_matrix(y_test,a)\n",
        "c_matrix"
      ],
      "execution_count": 0,
      "outputs": [
        {
          "output_type": "execute_result",
          "data": {
            "text/plain": [
              "array([[ 10,   2],\n",
              "       [  8, 104]])"
            ]
          },
          "metadata": {
            "tags": []
          },
          "execution_count": 99
        }
      ]
    },
    {
      "cell_type": "code",
      "metadata": {
        "id": "D1yGckdM4SrS",
        "colab_type": "code",
        "outputId": "e3d9b875-cd79-45ad-aa93-a00b2f2f124a",
        "colab": {
          "base_uri": "https://localhost:8080/",
          "height": 139
        }
      },
      "source": [
        "tn = c_matrix[0,0]\n",
        "tp = c_matrix[1,1]\n",
        "fn = c_matrix[1,0]\n",
        "fp = c_matrix[0,1]\n",
        "\n",
        "print(\"Recall:\", tp/(tp+fn))\n",
        "print(\"Specificity:\", tn/(tn+fp))\n",
        "print(\"Precision:\", tp/(tp+fp))\n",
        "print(\"Negative predictive value:\", tn/(tn+fn))\n",
        "print(\"Acuracy:\", (tp+tn)/(tp+tn+fp+fn))\n",
        "print(\"Matthews correlation coefficient:\", (tp*tn-fp*fn)/((tp+fp)*(tp+fn)*(tn+fp)*(tn+fn))**(1/2.0))\n",
        "print(\"Cohen Kappa\", cohen_kappa_score(y_test,a))"
      ],
      "execution_count": 0,
      "outputs": [
        {
          "output_type": "stream",
          "text": [
            "Recall: 0.9285714285714286\n",
            "Specificity: 0.8333333333333334\n",
            "Precision: 0.9811320754716981\n",
            "Negative predictive value: 0.5555555555555556\n",
            "Acuracy: 0.9193548387096774\n",
            "Matthews correlation coefficient: 0.6394566926188594\n",
            "Cohen Kappa 0.6228710462287105\n"
          ],
          "name": "stdout"
        }
      ]
    },
    {
      "cell_type": "markdown",
      "metadata": {
        "id": "Uh_lVlpUEHvW",
        "colab_type": "text"
      },
      "source": [
        "## Entrenamiento del modelo Naive Bayes"
      ]
    },
    {
      "cell_type": "code",
      "metadata": {
        "id": "IXG-fG4dJzXW",
        "colab_type": "code",
        "colab": {}
      },
      "source": [
        "parameters = {\"var_smoothing\" : np.linspace(1e-01,1e-10,10).astype(int)}"
      ],
      "execution_count": 0,
      "outputs": []
    },
    {
      "cell_type": "code",
      "metadata": {
        "id": "g_wPVD5HJzTH",
        "colab_type": "code",
        "outputId": "6c716d32-f1b3-4cc9-8ce4-c60b9bb3eafc",
        "colab": {
          "base_uri": "https://localhost:8080/",
          "height": 315
        }
      },
      "source": [
        "clf3_grid = GridSearchCV(GaussianNB(), parameters, n_jobs=-1, scoring = 'recall', cv=2, verbose=10)\n",
        "clf3_grid.fit(X, y)"
      ],
      "execution_count": 0,
      "outputs": [
        {
          "output_type": "stream",
          "text": [
            "Fitting 2 folds for each of 10 candidates, totalling 20 fits\n"
          ],
          "name": "stdout"
        },
        {
          "output_type": "stream",
          "text": [
            "[Parallel(n_jobs=-1)]: Using backend LokyBackend with 2 concurrent workers.\n",
            "[Parallel(n_jobs=-1)]: Done   1 tasks      | elapsed:    1.9s\n",
            "[Parallel(n_jobs=-1)]: Done   4 tasks      | elapsed:    3.0s\n",
            "[Parallel(n_jobs=-1)]: Done   9 tasks      | elapsed:    5.0s\n",
            "[Parallel(n_jobs=-1)]: Done  14 tasks      | elapsed:    6.8s\n",
            "[Parallel(n_jobs=-1)]: Done  20 out of  20 | elapsed:    8.9s remaining:    0.0s\n",
            "[Parallel(n_jobs=-1)]: Done  20 out of  20 | elapsed:    8.9s finished\n",
            "/usr/local/lib/python3.6/dist-packages/sklearn/utils/validation.py:724: DataConversionWarning: A column-vector y was passed when a 1d array was expected. Please change the shape of y to (n_samples, ), for example using ravel().\n",
            "  y = column_or_1d(y, warn=True)\n"
          ],
          "name": "stderr"
        },
        {
          "output_type": "execute_result",
          "data": {
            "text/plain": [
              "GridSearchCV(cv=2, error_score='raise-deprecating',\n",
              "             estimator=GaussianNB(priors=None, var_smoothing=1e-09), iid='warn',\n",
              "             n_jobs=-1,\n",
              "             param_grid={'var_smoothing': array([0, 0, 0, 0, 0, 0, 0, 0, 0, 0])},\n",
              "             pre_dispatch='2*n_jobs', refit=True, return_train_score=False,\n",
              "             scoring='recall', verbose=10)"
            ]
          },
          "metadata": {
            "tags": []
          },
          "execution_count": 18
        }
      ]
    },
    {
      "cell_type": "code",
      "metadata": {
        "id": "pYX-9OFUJzQ0",
        "colab_type": "code",
        "outputId": "f56dc76e-770d-45b3-db0c-fb38dff1d4c6",
        "colab": {
          "base_uri": "https://localhost:8080/",
          "height": 34
        }
      },
      "source": [
        "nb_best = clf3_grid.best_estimator_\n",
        "print(nb_best, \". Recall:\", clf3_grid.best_score_)"
      ],
      "execution_count": 0,
      "outputs": [
        {
          "output_type": "stream",
          "text": [
            "GaussianNB(priors=None, var_smoothing=0) . Recall: 0.9342915811088296\n"
          ],
          "name": "stdout"
        }
      ]
    },
    {
      "cell_type": "markdown",
      "metadata": {
        "id": "UP7nUj8CqPTY",
        "colab_type": "text"
      },
      "source": [
        "\n",
        "\n",
        "---\n",
        "\n",
        "var_smoothing = 0\n",
        "\n",
        "---\n",
        "\n"
      ]
    },
    {
      "cell_type": "code",
      "metadata": {
        "id": "UB41S03C2yfW",
        "colab_type": "code",
        "colab": {}
      },
      "source": [
        "var_smoothing_best = 0"
      ],
      "execution_count": 0,
      "outputs": []
    },
    {
      "cell_type": "code",
      "metadata": {
        "id": "DEi89jo7JzKK",
        "colab_type": "code",
        "outputId": "13a8cf81-937b-42d6-8966-5aad10dd1a56",
        "colab": {
          "base_uri": "https://localhost:8080/",
          "height": 87
        }
      },
      "source": [
        "clf3 = GaussianNB(var_smoothing = var_smoothing_best)\n",
        "clf3.fit(X, y)"
      ],
      "execution_count": 0,
      "outputs": [
        {
          "output_type": "stream",
          "text": [
            "/usr/local/lib/python3.6/dist-packages/sklearn/utils/validation.py:724: DataConversionWarning: A column-vector y was passed when a 1d array was expected. Please change the shape of y to (n_samples, ), for example using ravel().\n",
            "  y = column_or_1d(y, warn=True)\n"
          ],
          "name": "stderr"
        },
        {
          "output_type": "execute_result",
          "data": {
            "text/plain": [
              "GaussianNB(priors=None, var_smoothing=0)"
            ]
          },
          "metadata": {
            "tags": []
          },
          "execution_count": 31
        }
      ]
    },
    {
      "cell_type": "code",
      "metadata": {
        "id": "f9TKVCPvrgwt",
        "colab_type": "code",
        "colab": {}
      },
      "source": [
        "y_preds = clf3.predict_proba(X)\n",
        "preds = y_preds[:,1]\n",
        "\n",
        "fpr, tpr, _ = metrics.roc_curve(y, preds)\n",
        "auc_score = metrics.auc(fpr, tpr)"
      ],
      "execution_count": 0,
      "outputs": []
    },
    {
      "cell_type": "code",
      "metadata": {
        "id": "CnjS0reVsQ7V",
        "colab_type": "code",
        "outputId": "8d71e2c4-6c04-4906-c018-dac40ec47d46",
        "colab": {
          "base_uri": "https://localhost:8080/",
          "height": 518
        }
      },
      "source": [
        "plt.clf()\n",
        "\n",
        "plt.title('ROC Curve')\n",
        "plt.plot(fpr, tpr, label='AUC = {:.2f}'.format(auc_score))\n",
        "\n",
        "# it's helpful to add a diagonal to indicate where chance \n",
        "# scores lie (i.e. just flipping a coin)\n",
        "plt.plot([0,1],[0,1],'r--')\n",
        "\n",
        "plt.xlim([-0.1,1.1])\n",
        "plt.ylim([-0.1,1.1])\n",
        "plt.ylabel('Exhaustividad')\n",
        "plt.xlabel('Frecuencia de falsos positivos')\n",
        "\n",
        "plt.legend(loc='lower right')\n",
        "plt.show()"
      ],
      "execution_count": 0,
      "outputs": [
        {
          "output_type": "display_data",
          "data": {
            "image/png": "[encoded data removed]",
            "text/plain": [
              "<Figure size 576x576 with 1 Axes>"
            ]
          },
          "metadata": {
            "tags": []
          }
        }
      ]
    },
    {
      "cell_type": "code",
      "metadata": {
        "id": "6YdN5LiMshhI",
        "colab_type": "code",
        "colab": {}
      },
      "source": [
        "y_preds = (y_preds > 0.5).astype(int)\n",
        "a = []\n",
        "for i in range(0,len(y_preds)):\n",
        "  if y_preds[i][0] == 1:\n",
        "    a.append(0)\n",
        "  elif y_preds[i][1] == 1:\n",
        "    a.append(1)"
      ],
      "execution_count": 0,
      "outputs": []
    },
    {
      "cell_type": "code",
      "metadata": {
        "id": "TG_Nc-fpsnQ0",
        "colab_type": "code",
        "outputId": "9aa41302-e1cf-429f-c437-9261ab9b74da",
        "colab": {
          "base_uri": "https://localhost:8080/",
          "height": 52
        }
      },
      "source": [
        "c_matrix = confusion_matrix(y,a)\n",
        "c_matrix"
      ],
      "execution_count": 0,
      "outputs": [
        {
          "output_type": "execute_result",
          "data": {
            "text/plain": [
              "array([[923,  51],\n",
              "       [ 66, 908]])"
            ]
          },
          "metadata": {
            "tags": []
          },
          "execution_count": 24
        }
      ]
    },
    {
      "cell_type": "code",
      "metadata": {
        "id": "SGPWCw6EsrL3",
        "colab_type": "code",
        "outputId": "f481ec0c-f115-4c86-835d-9cdd87cbad21",
        "colab": {
          "base_uri": "https://localhost:8080/",
          "height": 139
        }
      },
      "source": [
        "tn = c_matrix[0,0]\n",
        "tp = c_matrix[1,1]\n",
        "fn = c_matrix[1,0]\n",
        "fp = c_matrix[0,1]\n",
        "\n",
        "print(\"Recall:\", tp/(tp+fn))\n",
        "print(\"Specificity:\", tn/(tn+fp))\n",
        "print(\"Precision:\", tp/(tp+fp))\n",
        "print(\"Negative predictive value:\", tn/(tn+fn))\n",
        "print(\"Acuracy:\", (tp+tn)/(tp+tn+fp+fn))\n",
        "print(\"Matthews correlation coefficient:\", (tp*tn-fp*fn)/((tp+fp)*(tp+fn)*(tn+fp)*(tn+fn))**(1/2.0))\n",
        "print(\"Cohen Kappa\", cohen_kappa_score(y,a))"
      ],
      "execution_count": 0,
      "outputs": [
        {
          "output_type": "stream",
          "text": [
            "Recall: 0.9322381930184805\n",
            "Specificity: 0.9476386036960985\n",
            "Precision: 0.9468196037539103\n",
            "Negative predictive value: 0.9332659251769464\n",
            "Acuracy: 0.9399383983572895\n",
            "Matthews correlation coefficient: 0.8799811566337873\n",
            "Cohen Kappa 0.8798767967145791\n"
          ],
          "name": "stdout"
        }
      ]
    },
    {
      "cell_type": "markdown",
      "metadata": {
        "id": "EE40AqBWnDAI",
        "colab_type": "text"
      },
      "source": [
        "**Conjunto de datos de prueba**"
      ]
    },
    {
      "cell_type": "code",
      "metadata": {
        "id": "CCPMcywanCg8",
        "colab_type": "code",
        "outputId": "813a586f-61ea-4feb-d649-57209e8b2f15",
        "colab": {
          "base_uri": "https://localhost:8080/",
          "height": 52
        }
      },
      "source": [
        "y_preds = clf3.predict_proba(X_test)\n",
        "preds = y_preds[:,1]\n",
        "\n",
        "y_preds = (y_preds > 0.5).astype(int)\n",
        "a = []\n",
        "for i in range(0,len(y_preds)):\n",
        "  if y_preds[i][0] == 1:\n",
        "    a.append(0)\n",
        "  elif y_preds[i][1] == 1:\n",
        "    a.append(1)\n",
        "    \n",
        "c_matrix = confusion_matrix(y_test,a)\n",
        "c_matrix"
      ],
      "execution_count": 0,
      "outputs": [
        {
          "output_type": "execute_result",
          "data": {
            "text/plain": [
              "array([[ 10,   2],\n",
              "       [  8, 104]])"
            ]
          },
          "metadata": {
            "tags": []
          },
          "execution_count": 31
        }
      ]
    },
    {
      "cell_type": "code",
      "metadata": {
        "id": "Pa3LC9VunNGD",
        "colab_type": "code",
        "outputId": "de8cbbe7-d699-452d-aaed-e04e8d5152b1",
        "colab": {
          "base_uri": "https://localhost:8080/",
          "height": 139
        }
      },
      "source": [
        "tn = c_matrix[0,0]\n",
        "tp = c_matrix[1,1]\n",
        "fn = c_matrix[1,0]\n",
        "fp = c_matrix[0,1]\n",
        "\n",
        "print(\"Recall:\", tp/(tp+fn))\n",
        "print(\"Specificity:\", tn/(tn+fp))\n",
        "print(\"Precision:\", tp/(tp+fp))\n",
        "print(\"Negative predictive value:\", tn/(tn+fn))\n",
        "print(\"Acuracy:\", (tp+tn)/(tp+tn+fp+fn))\n",
        "print(\"Matthews correlation coefficient:\", (tp*tn-fp*fn)/((tp+fp)*(tp+fn)*(tn+fp)*(tn+fn))**(1/2.0))\n",
        "print(\"Cohen Kappa\", cohen_kappa_score(y_test,a))"
      ],
      "execution_count": 0,
      "outputs": [
        {
          "output_type": "stream",
          "text": [
            "Recall: 0.9285714285714286\n",
            "Specificity: 0.8333333333333334\n",
            "Precision: 0.9811320754716981\n",
            "Negative predictive value: 0.5555555555555556\n",
            "Acuracy: 0.9193548387096774\n",
            "Matthews correlation coefficient: 0.6394566926188594\n",
            "Cohen Kappa 0.6228710462287105\n"
          ],
          "name": "stdout"
        }
      ]
    },
    {
      "cell_type": "markdown",
      "metadata": {
        "id": "wSofqf_Yvpjx",
        "colab_type": "text"
      },
      "source": [
        "## Entrenamiento del modelo Random Forest"
      ]
    },
    {
      "cell_type": "code",
      "metadata": {
        "id": "yd_jJ2pAvocd",
        "colab_type": "code",
        "colab": {}
      },
      "source": [
        "parameters = { \n",
        "    'n_estimators': [30, 50, 75, 100, 150, 200, 500],\n",
        "    'max_features': ['auto', 'sqrt', 'log2'],\n",
        "    'max_depth' : [4, 5, 6, 7, 8, 15, 20],\n",
        "    'criterion' :['gini', 'entropy']\n",
        "}"
      ],
      "execution_count": 0,
      "outputs": []
    },
    {
      "cell_type": "code",
      "metadata": {
        "id": "FB318DewwG97",
        "colab_type": "code",
        "colab": {}
      },
      "source": [
        "clf4_grid = GridSearchCV(RandomForestClassifier(), \n",
        "                         param_grid=parameters, \n",
        "                         cv = 2, \n",
        "                         n_jobs = -1, \n",
        "                         scoring = 'recall', \n",
        "                         verbose = 10)\n",
        "clf4_grid.fit(X, y)"
      ],
      "execution_count": 0,
      "outputs": []
    },
    {
      "cell_type": "code",
      "metadata": {
        "id": "bqsbB3dfw9I0",
        "colab_type": "code",
        "colab": {}
      },
      "source": [
        "rf_best = clf4_grid.best_estimator_\n",
        "print(rf_best, \". Recall:\", clf4_grid.best_score_)"
      ],
      "execution_count": 0,
      "outputs": []
    },
    {
      "cell_type": "markdown",
      "metadata": {
        "id": "7WaYkDi4xGd7",
        "colab_type": "text"
      },
      "source": [
        "\n",
        "\n",
        "---\n",
        "\n",
        "\n",
        "n_estimators_best = 50\n",
        "\n",
        "\n",
        "---\n",
        "\n",
        "\n",
        "max_features_best = 'sqrt'\n",
        "\n",
        "\n",
        "---\n",
        "\n",
        "\n",
        "max_depth_best = 8\n",
        "\n",
        "\n",
        "---\n",
        "\n",
        "\n",
        "criterion_best = 'entropy'\n",
        "\n",
        "\n",
        "\n",
        "---\n",
        "\n",
        "\n"
      ]
    },
    {
      "cell_type": "code",
      "metadata": {
        "id": "P0uF3tlsxSQK",
        "colab_type": "code",
        "outputId": "5d7d5d5c-709d-4feb-f020-257743d716d5",
        "colab": {
          "base_uri": "https://localhost:8080/",
          "height": 188
        }
      },
      "source": [
        "clf4 = RandomForestClassifier(bootstrap=True, class_weight=None, criterion='entropy',\n",
        "                              max_depth=8, max_features='sqrt', max_leaf_nodes=None,\n",
        "                              min_impurity_decrease=0.0, min_impurity_split=None,\n",
        "                              min_samples_leaf=1, min_samples_split=2,\n",
        "                              min_weight_fraction_leaf=0.0, n_estimators=50,\n",
        "                              n_jobs=None, oob_score=False, random_state=None,\n",
        "                              verbose=0, warm_start=False)\n",
        "clf4.fit(X, y)"
      ],
      "execution_count": 0,
      "outputs": [
        {
          "output_type": "stream",
          "text": [
            "/usr/local/lib/python3.6/dist-packages/ipykernel_launcher.py:8: DataConversionWarning: A column-vector y was passed when a 1d array was expected. Please change the shape of y to (n_samples,), for example using ravel().\n",
            "  \n"
          ],
          "name": "stderr"
        },
        {
          "output_type": "execute_result",
          "data": {
            "text/plain": [
              "RandomForestClassifier(bootstrap=True, class_weight=None, criterion='entropy',\n",
              "                       max_depth=8, max_features='sqrt', max_leaf_nodes=None,\n",
              "                       min_impurity_decrease=0.0, min_impurity_split=None,\n",
              "                       min_samples_leaf=1, min_samples_split=2,\n",
              "                       min_weight_fraction_leaf=0.0, n_estimators=50,\n",
              "                       n_jobs=None, oob_score=False, random_state=None,\n",
              "                       verbose=0, warm_start=False)"
            ]
          },
          "metadata": {
            "tags": []
          },
          "execution_count": 32
        }
      ]
    },
    {
      "cell_type": "code",
      "metadata": {
        "id": "IR4pFnVpxI2s",
        "colab_type": "code",
        "colab": {}
      },
      "source": [
        "y_preds = clf4.predict_proba(X)\n",
        "preds = y_preds[:,1]\n",
        "\n",
        "fpr, tpr, _ = metrics.roc_curve(y, preds)\n",
        "auc_score = metrics.auc(fpr, tpr)"
      ],
      "execution_count": 0,
      "outputs": []
    },
    {
      "cell_type": "code",
      "metadata": {
        "id": "6TV8JXnvxi8L",
        "colab_type": "code",
        "outputId": "643d67b9-d7d4-470c-e3c3-78ce3cfd0b56",
        "colab": {
          "base_uri": "https://localhost:8080/",
          "height": 518
        }
      },
      "source": [
        "plt.clf()\n",
        "\n",
        "plt.title('ROC Curve')\n",
        "plt.plot(fpr, tpr, label='AUC = {:.2f}'.format(auc_score))\n",
        "\n",
        "# it's helpful to add a diagonal to indicate where chance \n",
        "# scores lie (i.e. just flipping a coin)\n",
        "plt.plot([0,1],[0,1],'r--')\n",
        "\n",
        "plt.xlim([-0.1,1.1])\n",
        "plt.ylim([-0.1,1.1])\n",
        "plt.ylabel('Exhaustividad')\n",
        "plt.xlabel('Frecuencia de falsos positivos')\n",
        "\n",
        "plt.legend(loc='lower right')\n",
        "plt.show()"
      ],
      "execution_count": 0,
      "outputs": [
        {
          "output_type": "display_data",
          "data": {
            "image/png": "[encoded data removed]",
            "text/plain": [
              "<Figure size 576x576 with 1 Axes>"
            ]
          },
          "metadata": {
            "tags": []
          }
        }
      ]
    },
    {
      "cell_type": "code",
      "metadata": {
        "id": "KgQmIABjxoE6",
        "colab_type": "code",
        "colab": {}
      },
      "source": [
        "y_preds = (y_preds > 0.5).astype(int)\n",
        "a = []\n",
        "for i in range(0,len(y_preds)):\n",
        "  if y_preds[i][0] == 1:\n",
        "    a.append(0)\n",
        "  elif y_preds[i][1] == 1:\n",
        "    a.append(1)"
      ],
      "execution_count": 0,
      "outputs": []
    },
    {
      "cell_type": "code",
      "metadata": {
        "id": "i1cbUs1VxtLI",
        "colab_type": "code",
        "outputId": "40b67229-8167-496e-ff1c-43d38ab3ffd2",
        "colab": {
          "base_uri": "https://localhost:8080/",
          "height": 52
        }
      },
      "source": [
        "c_matrix = confusion_matrix(y,a)\n",
        "c_matrix"
      ],
      "execution_count": 0,
      "outputs": [
        {
          "output_type": "execute_result",
          "data": {
            "text/plain": [
              "array([[974,   0],\n",
              "       [  3, 971]])"
            ]
          },
          "metadata": {
            "tags": []
          },
          "execution_count": 85
        }
      ]
    },
    {
      "cell_type": "code",
      "metadata": {
        "id": "4mK8KjSKxuGu",
        "colab_type": "code",
        "outputId": "74893533-d7d5-443c-cc03-331d2a6d5bb3",
        "colab": {
          "base_uri": "https://localhost:8080/",
          "height": 139
        }
      },
      "source": [
        "tn = c_matrix[0,0]\n",
        "tp = c_matrix[1,1]\n",
        "fn = c_matrix[1,0]\n",
        "fp = c_matrix[0,1]\n",
        "\n",
        "print(\"Recall:\", tp/(tp+fn))\n",
        "print(\"Specificity:\", tn/(tn+fp))\n",
        "print(\"Precision:\", tp/(tp+fp))\n",
        "print(\"Negative predictive value:\", tn/(tn+fn))\n",
        "print(\"Acuracy:\", (tp+tn)/(tp+tn+fp+fn))\n",
        "print(\"Matthews correlation coefficient:\", (tp*tn-fp*fn)/((tp+fp)*(tp+fn)*(tn+fp)*(tn+fn))**(1/2.0))\n",
        "print(\"Cohen Kappa\", cohen_kappa_score(y,a))"
      ],
      "execution_count": 0,
      "outputs": [
        {
          "output_type": "stream",
          "text": [
            "Recall: 0.9969199178644764\n",
            "Specificity: 1.0\n",
            "Precision: 1.0\n",
            "Negative predictive value: 0.9969293756397134\n",
            "Acuracy: 0.9984599589322382\n",
            "Matthews correlation coefficient: 0.9969246467408792\n",
            "Cohen Kappa 0.9969199178644764\n"
          ],
          "name": "stdout"
        }
      ]
    },
    {
      "cell_type": "markdown",
      "metadata": {
        "id": "H1w99cABnYzW",
        "colab_type": "text"
      },
      "source": [
        "**Conjunto de datos de prueba**"
      ]
    },
    {
      "cell_type": "code",
      "metadata": {
        "id": "UdpBjphhnXtf",
        "colab_type": "code",
        "outputId": "44c7ea6d-7eec-4ef0-b3fa-673bca63f834",
        "colab": {
          "base_uri": "https://localhost:8080/",
          "height": 52
        }
      },
      "source": [
        "y_preds = clf4.predict_proba(X_test)\n",
        "preds = y_preds[:,1]\n",
        "\n",
        "y_preds = (y_preds > 0.5).astype(int)\n",
        "a = []\n",
        "for i in range(0,len(y_preds)):\n",
        "  if y_preds[i][0] == 1:\n",
        "    a.append(0)\n",
        "  elif y_preds[i][1] == 1:\n",
        "    a.append(1)\n",
        "    \n",
        "c_matrix = confusion_matrix(y_test,a)\n",
        "c_matrix"
      ],
      "execution_count": 0,
      "outputs": [
        {
          "output_type": "execute_result",
          "data": {
            "text/plain": [
              "array([[ 11,   1],\n",
              "       [  2, 110]])"
            ]
          },
          "metadata": {
            "tags": []
          },
          "execution_count": 87
        }
      ]
    },
    {
      "cell_type": "code",
      "metadata": {
        "id": "v5IAYk_snhLy",
        "colab_type": "code",
        "outputId": "a9afc0c7-077e-43f1-e87d-f34a1bd19129",
        "colab": {
          "base_uri": "https://localhost:8080/",
          "height": 139
        }
      },
      "source": [
        "tn = c_matrix[0,0]\n",
        "tp = c_matrix[1,1]\n",
        "fn = c_matrix[1,0]\n",
        "fp = c_matrix[0,1]\n",
        "\n",
        "print(\"Recall:\", tp/(tp+fn))\n",
        "print(\"Specificity:\", tn/(tn+fp))\n",
        "print(\"Precision:\", tp/(tp+fp))\n",
        "print(\"Negative predictive value:\", tn/(tn+fn))\n",
        "print(\"Acuracy:\", (tp+tn)/(tp+tn+fp+fn))\n",
        "print(\"Matthews correlation coefficient:\", (tp*tn-fp*fn)/((tp+fp)*(tp+fn)*(tn+fp)*(tn+fn))**(1/2.0))\n",
        "print(\"Cohen Kappa\", cohen_kappa_score(y_test,a))"
      ],
      "execution_count": 0,
      "outputs": [
        {
          "output_type": "stream",
          "text": [
            "Recall: 0.9821428571428571\n",
            "Specificity: 0.9166666666666666\n",
            "Precision: 0.990990990990991\n",
            "Negative predictive value: 0.8461538461538461\n",
            "Acuracy: 0.9758064516129032\n",
            "Matthews correlation coefficient: 0.8674293933420475\n",
            "Cohen Kappa 0.866571018651363\n"
          ],
          "name": "stdout"
        }
      ]
    },
    {
      "cell_type": "markdown",
      "metadata": {
        "id": "adk6p72W2Hz1",
        "colab_type": "text"
      },
      "source": [
        "## Ensemble de clasificadores"
      ]
    },
    {
      "cell_type": "markdown",
      "metadata": {
        "id": "2pro9UGavCTN",
        "colab_type": "text"
      },
      "source": [
        "Disminuir la varianza aplicando un método del tipo Bagging"
      ]
    },
    {
      "cell_type": "code",
      "metadata": {
        "id": "0vm8PCCs4e2i",
        "colab_type": "code",
        "outputId": "f69ca19c-71a3-41db-e90e-2275e4f5090e",
        "colab": {
          "base_uri": "https://localhost:8080/",
          "height": 206
        }
      },
      "source": [
        "predicciones_base_train = pd.concat([pd.DataFrame(clf1.predict_proba(X_train)),\n",
        "                                     pd.DataFrame(clf2.predict_proba(X_train)),\n",
        "                                     pd.DataFrame(clf3.predict_proba(X_train)),\n",
        "                                     pd.DataFrame(clf4.predict_proba(X_train))], axis=1)\n",
        "predicciones_base_train.columns = ['SVM_0', 'SVM_1', 'NN_0', 'NN_1', 'NB_0', 'NB_1', 'RF_0', 'RF_1']\n",
        "predicciones_base_train['Tumor'] = y_train.values\n",
        "\n",
        "predicciones_base_train = predicciones_base_train.round(4)\n",
        "predicciones_base_train.head()"
      ],
      "execution_count": 0,
      "outputs": [
        {
          "output_type": "execute_result",
          "data": {
            "text/html": [
              "<div>\n",
              "<style scoped>\n",
              "    .dataframe tbody tr th:only-of-type {\n",
              "        vertical-align: middle;\n",
              "    }\n",
              "\n",
              "    .dataframe tbody tr th {\n",
              "        vertical-align: top;\n",
              "    }\n",
              "\n",
              "    .dataframe thead th {\n",
              "        text-align: right;\n",
              "    }\n",
              "</style>\n",
              "<table border=\"1\" class=\"dataframe\">\n",
              "  <thead>\n",
              "    <tr style=\"text-align: right;\">\n",
              "      <th></th>\n",
              "      <th>SVM_0</th>\n",
              "      <th>SVM_1</th>\n",
              "      <th>NN_0</th>\n",
              "      <th>NN_1</th>\n",
              "      <th>NB_0</th>\n",
              "      <th>NB_1</th>\n",
              "      <th>RF_0</th>\n",
              "      <th>RF_1</th>\n",
              "      <th>Tumor</th>\n",
              "    </tr>\n",
              "  </thead>\n",
              "  <tbody>\n",
              "    <tr>\n",
              "      <th>0</th>\n",
              "      <td>0.0000</td>\n",
              "      <td>1.0000</td>\n",
              "      <td>0.0</td>\n",
              "      <td>1.0</td>\n",
              "      <td>0.0</td>\n",
              "      <td>1.0</td>\n",
              "      <td>0.0200</td>\n",
              "      <td>0.9800</td>\n",
              "      <td>1.0</td>\n",
              "    </tr>\n",
              "    <tr>\n",
              "      <th>1</th>\n",
              "      <td>1.0000</td>\n",
              "      <td>0.0000</td>\n",
              "      <td>1.0</td>\n",
              "      <td>0.0</td>\n",
              "      <td>1.0</td>\n",
              "      <td>0.0</td>\n",
              "      <td>0.9940</td>\n",
              "      <td>0.0060</td>\n",
              "      <td>0.0</td>\n",
              "    </tr>\n",
              "    <tr>\n",
              "      <th>2</th>\n",
              "      <td>0.9977</td>\n",
              "      <td>0.0023</td>\n",
              "      <td>1.0</td>\n",
              "      <td>0.0</td>\n",
              "      <td>1.0</td>\n",
              "      <td>0.0</td>\n",
              "      <td>0.9956</td>\n",
              "      <td>0.0044</td>\n",
              "      <td>0.0</td>\n",
              "    </tr>\n",
              "    <tr>\n",
              "      <th>3</th>\n",
              "      <td>0.0000</td>\n",
              "      <td>1.0000</td>\n",
              "      <td>0.0</td>\n",
              "      <td>1.0</td>\n",
              "      <td>0.0</td>\n",
              "      <td>1.0</td>\n",
              "      <td>0.0597</td>\n",
              "      <td>0.9403</td>\n",
              "      <td>1.0</td>\n",
              "    </tr>\n",
              "    <tr>\n",
              "      <th>4</th>\n",
              "      <td>0.9873</td>\n",
              "      <td>0.0127</td>\n",
              "      <td>1.0</td>\n",
              "      <td>0.0</td>\n",
              "      <td>1.0</td>\n",
              "      <td>0.0</td>\n",
              "      <td>0.9535</td>\n",
              "      <td>0.0465</td>\n",
              "      <td>0.0</td>\n",
              "    </tr>\n",
              "  </tbody>\n",
              "</table>\n",
              "</div>"
            ],
            "text/plain": [
              "    SVM_0   SVM_1  NN_0  NN_1  NB_0  NB_1    RF_0    RF_1  Tumor\n",
              "0  0.0000  1.0000   0.0   1.0   0.0   1.0  0.0200  0.9800    1.0\n",
              "1  1.0000  0.0000   1.0   0.0   1.0   0.0  0.9940  0.0060    0.0\n",
              "2  0.9977  0.0023   1.0   0.0   1.0   0.0  0.9956  0.0044    0.0\n",
              "3  0.0000  1.0000   0.0   1.0   0.0   1.0  0.0597  0.9403    1.0\n",
              "4  0.9873  0.0127   1.0   0.0   1.0   0.0  0.9535  0.0465    0.0"
            ]
          },
          "metadata": {
            "tags": []
          },
          "execution_count": 61
        }
      ]
    },
    {
      "cell_type": "code",
      "metadata": {
        "id": "7Pwubf014hY6",
        "colab_type": "code",
        "colab": {}
      },
      "source": [
        "np.random.seed(43)\n",
        "\n",
        "df = pd.DataFrame(columns=('w1', 'w2', 'w3', 'w4', 'recall', 'specificity', 'precision', 'npv', 'accuracy', 'mcc', 'kappa'))\n",
        "\n",
        "i = 0\n",
        "for w1 in range(1,7):\n",
        "  for w2 in range(1,7):\n",
        "    for w3 in range(1,7):\n",
        "      for w4 in range(1,7):\n",
        "\n",
        "          if len(set((w1,w2,w3,w4))) == 1: \n",
        "            continue\n",
        "\n",
        "          eclf = EnsembleVoteClassifier(clfs=[clf1, clf2, clf3, clf4], weights=[w1, w2, w3, w4], refit=False, voting='soft')\n",
        "          eclf.fit(X_train, y_train.values.ravel())\n",
        "          y_predict = eclf.predict(X_val)\n",
        "          \n",
        "          c_matrix = confusion_matrix(y_val,y_predict)\n",
        "          recall = tp/(tp+fn)\n",
        "          specificity = tn/(tn+fp)\n",
        "          precision = tp/(tp+fp)\n",
        "          npv = tn/(tn+fn)\n",
        "          accuracy = (tp+tn)/(tp+tn+fp+fn)\n",
        "          mcc = (tp*tn-fp*fn)/((tp+fp)*(tp+fn)*(tn+fp)*(tn+fn))**(1/2.0)\n",
        "          kappa = cohen_kappa_score(y_val,y_predict)\n",
        "          \n",
        "          df.loc[i] = [w1, w2, w3, w4, recall, specificity, precision, npv, accuracy, mcc, kappa]\n",
        "          i += 1"
      ],
      "execution_count": 0,
      "outputs": []
    },
    {
      "cell_type": "code",
      "metadata": {
        "id": "YvKCl1v34tHY",
        "colab_type": "code",
        "outputId": "a5f70327-8f91-40ef-bea4-9907e2043282",
        "colab": {
          "base_uri": "https://localhost:8080/",
          "height": 677
        }
      },
      "source": [
        "df.sort_values(by=['recall', 'kappa'], ascending=False).head(20)"
      ],
      "execution_count": 0,
      "outputs": [
        {
          "output_type": "execute_result",
          "data": {
            "text/html": [
              "<div>\n",
              "<style scoped>\n",
              "    .dataframe tbody tr th:only-of-type {\n",
              "        vertical-align: middle;\n",
              "    }\n",
              "\n",
              "    .dataframe tbody tr th {\n",
              "        vertical-align: top;\n",
              "    }\n",
              "\n",
              "    .dataframe thead th {\n",
              "        text-align: right;\n",
              "    }\n",
              "</style>\n",
              "<table border=\"1\" class=\"dataframe\">\n",
              "  <thead>\n",
              "    <tr style=\"text-align: right;\">\n",
              "      <th></th>\n",
              "      <th>w1</th>\n",
              "      <th>w2</th>\n",
              "      <th>w3</th>\n",
              "      <th>w4</th>\n",
              "      <th>recall</th>\n",
              "      <th>specificity</th>\n",
              "      <th>precision</th>\n",
              "      <th>npv</th>\n",
              "      <th>accuracy</th>\n",
              "      <th>mcc</th>\n",
              "      <th>kappa</th>\n",
              "    </tr>\n",
              "  </thead>\n",
              "  <tbody>\n",
              "    <tr>\n",
              "      <th>0</th>\n",
              "      <td>1.0</td>\n",
              "      <td>1.0</td>\n",
              "      <td>1.0</td>\n",
              "      <td>2.0</td>\n",
              "      <td>1.0</td>\n",
              "      <td>1.0</td>\n",
              "      <td>1.0</td>\n",
              "      <td>1.0</td>\n",
              "      <td>1.0</td>\n",
              "      <td>1.0</td>\n",
              "      <td>1.0</td>\n",
              "    </tr>\n",
              "    <tr>\n",
              "      <th>1</th>\n",
              "      <td>1.0</td>\n",
              "      <td>1.0</td>\n",
              "      <td>1.0</td>\n",
              "      <td>3.0</td>\n",
              "      <td>1.0</td>\n",
              "      <td>1.0</td>\n",
              "      <td>1.0</td>\n",
              "      <td>1.0</td>\n",
              "      <td>1.0</td>\n",
              "      <td>1.0</td>\n",
              "      <td>1.0</td>\n",
              "    </tr>\n",
              "    <tr>\n",
              "      <th>2</th>\n",
              "      <td>1.0</td>\n",
              "      <td>1.0</td>\n",
              "      <td>1.0</td>\n",
              "      <td>4.0</td>\n",
              "      <td>1.0</td>\n",
              "      <td>1.0</td>\n",
              "      <td>1.0</td>\n",
              "      <td>1.0</td>\n",
              "      <td>1.0</td>\n",
              "      <td>1.0</td>\n",
              "      <td>1.0</td>\n",
              "    </tr>\n",
              "    <tr>\n",
              "      <th>3</th>\n",
              "      <td>1.0</td>\n",
              "      <td>1.0</td>\n",
              "      <td>1.0</td>\n",
              "      <td>5.0</td>\n",
              "      <td>1.0</td>\n",
              "      <td>1.0</td>\n",
              "      <td>1.0</td>\n",
              "      <td>1.0</td>\n",
              "      <td>1.0</td>\n",
              "      <td>1.0</td>\n",
              "      <td>1.0</td>\n",
              "    </tr>\n",
              "    <tr>\n",
              "      <th>4</th>\n",
              "      <td>1.0</td>\n",
              "      <td>1.0</td>\n",
              "      <td>1.0</td>\n",
              "      <td>6.0</td>\n",
              "      <td>1.0</td>\n",
              "      <td>1.0</td>\n",
              "      <td>1.0</td>\n",
              "      <td>1.0</td>\n",
              "      <td>1.0</td>\n",
              "      <td>1.0</td>\n",
              "      <td>1.0</td>\n",
              "    </tr>\n",
              "    <tr>\n",
              "      <th>5</th>\n",
              "      <td>1.0</td>\n",
              "      <td>1.0</td>\n",
              "      <td>2.0</td>\n",
              "      <td>1.0</td>\n",
              "      <td>1.0</td>\n",
              "      <td>1.0</td>\n",
              "      <td>1.0</td>\n",
              "      <td>1.0</td>\n",
              "      <td>1.0</td>\n",
              "      <td>1.0</td>\n",
              "      <td>1.0</td>\n",
              "    </tr>\n",
              "    <tr>\n",
              "      <th>6</th>\n",
              "      <td>1.0</td>\n",
              "      <td>1.0</td>\n",
              "      <td>2.0</td>\n",
              "      <td>2.0</td>\n",
              "      <td>1.0</td>\n",
              "      <td>1.0</td>\n",
              "      <td>1.0</td>\n",
              "      <td>1.0</td>\n",
              "      <td>1.0</td>\n",
              "      <td>1.0</td>\n",
              "      <td>1.0</td>\n",
              "    </tr>\n",
              "    <tr>\n",
              "      <th>7</th>\n",
              "      <td>1.0</td>\n",
              "      <td>1.0</td>\n",
              "      <td>2.0</td>\n",
              "      <td>3.0</td>\n",
              "      <td>1.0</td>\n",
              "      <td>1.0</td>\n",
              "      <td>1.0</td>\n",
              "      <td>1.0</td>\n",
              "      <td>1.0</td>\n",
              "      <td>1.0</td>\n",
              "      <td>1.0</td>\n",
              "    </tr>\n",
              "    <tr>\n",
              "      <th>8</th>\n",
              "      <td>1.0</td>\n",
              "      <td>1.0</td>\n",
              "      <td>2.0</td>\n",
              "      <td>4.0</td>\n",
              "      <td>1.0</td>\n",
              "      <td>1.0</td>\n",
              "      <td>1.0</td>\n",
              "      <td>1.0</td>\n",
              "      <td>1.0</td>\n",
              "      <td>1.0</td>\n",
              "      <td>1.0</td>\n",
              "    </tr>\n",
              "    <tr>\n",
              "      <th>9</th>\n",
              "      <td>1.0</td>\n",
              "      <td>1.0</td>\n",
              "      <td>2.0</td>\n",
              "      <td>5.0</td>\n",
              "      <td>1.0</td>\n",
              "      <td>1.0</td>\n",
              "      <td>1.0</td>\n",
              "      <td>1.0</td>\n",
              "      <td>1.0</td>\n",
              "      <td>1.0</td>\n",
              "      <td>1.0</td>\n",
              "    </tr>\n",
              "    <tr>\n",
              "      <th>10</th>\n",
              "      <td>1.0</td>\n",
              "      <td>1.0</td>\n",
              "      <td>2.0</td>\n",
              "      <td>6.0</td>\n",
              "      <td>1.0</td>\n",
              "      <td>1.0</td>\n",
              "      <td>1.0</td>\n",
              "      <td>1.0</td>\n",
              "      <td>1.0</td>\n",
              "      <td>1.0</td>\n",
              "      <td>1.0</td>\n",
              "    </tr>\n",
              "    <tr>\n",
              "      <th>12</th>\n",
              "      <td>1.0</td>\n",
              "      <td>1.0</td>\n",
              "      <td>3.0</td>\n",
              "      <td>2.0</td>\n",
              "      <td>1.0</td>\n",
              "      <td>1.0</td>\n",
              "      <td>1.0</td>\n",
              "      <td>1.0</td>\n",
              "      <td>1.0</td>\n",
              "      <td>1.0</td>\n",
              "      <td>1.0</td>\n",
              "    </tr>\n",
              "    <tr>\n",
              "      <th>13</th>\n",
              "      <td>1.0</td>\n",
              "      <td>1.0</td>\n",
              "      <td>3.0</td>\n",
              "      <td>3.0</td>\n",
              "      <td>1.0</td>\n",
              "      <td>1.0</td>\n",
              "      <td>1.0</td>\n",
              "      <td>1.0</td>\n",
              "      <td>1.0</td>\n",
              "      <td>1.0</td>\n",
              "      <td>1.0</td>\n",
              "    </tr>\n",
              "    <tr>\n",
              "      <th>14</th>\n",
              "      <td>1.0</td>\n",
              "      <td>1.0</td>\n",
              "      <td>3.0</td>\n",
              "      <td>4.0</td>\n",
              "      <td>1.0</td>\n",
              "      <td>1.0</td>\n",
              "      <td>1.0</td>\n",
              "      <td>1.0</td>\n",
              "      <td>1.0</td>\n",
              "      <td>1.0</td>\n",
              "      <td>1.0</td>\n",
              "    </tr>\n",
              "    <tr>\n",
              "      <th>15</th>\n",
              "      <td>1.0</td>\n",
              "      <td>1.0</td>\n",
              "      <td>3.0</td>\n",
              "      <td>5.0</td>\n",
              "      <td>1.0</td>\n",
              "      <td>1.0</td>\n",
              "      <td>1.0</td>\n",
              "      <td>1.0</td>\n",
              "      <td>1.0</td>\n",
              "      <td>1.0</td>\n",
              "      <td>1.0</td>\n",
              "    </tr>\n",
              "    <tr>\n",
              "      <th>16</th>\n",
              "      <td>1.0</td>\n",
              "      <td>1.0</td>\n",
              "      <td>3.0</td>\n",
              "      <td>6.0</td>\n",
              "      <td>1.0</td>\n",
              "      <td>1.0</td>\n",
              "      <td>1.0</td>\n",
              "      <td>1.0</td>\n",
              "      <td>1.0</td>\n",
              "      <td>1.0</td>\n",
              "      <td>1.0</td>\n",
              "    </tr>\n",
              "    <tr>\n",
              "      <th>20</th>\n",
              "      <td>1.0</td>\n",
              "      <td>1.0</td>\n",
              "      <td>4.0</td>\n",
              "      <td>4.0</td>\n",
              "      <td>1.0</td>\n",
              "      <td>1.0</td>\n",
              "      <td>1.0</td>\n",
              "      <td>1.0</td>\n",
              "      <td>1.0</td>\n",
              "      <td>1.0</td>\n",
              "      <td>1.0</td>\n",
              "    </tr>\n",
              "    <tr>\n",
              "      <th>21</th>\n",
              "      <td>1.0</td>\n",
              "      <td>1.0</td>\n",
              "      <td>4.0</td>\n",
              "      <td>5.0</td>\n",
              "      <td>1.0</td>\n",
              "      <td>1.0</td>\n",
              "      <td>1.0</td>\n",
              "      <td>1.0</td>\n",
              "      <td>1.0</td>\n",
              "      <td>1.0</td>\n",
              "      <td>1.0</td>\n",
              "    </tr>\n",
              "    <tr>\n",
              "      <th>22</th>\n",
              "      <td>1.0</td>\n",
              "      <td>1.0</td>\n",
              "      <td>4.0</td>\n",
              "      <td>6.0</td>\n",
              "      <td>1.0</td>\n",
              "      <td>1.0</td>\n",
              "      <td>1.0</td>\n",
              "      <td>1.0</td>\n",
              "      <td>1.0</td>\n",
              "      <td>1.0</td>\n",
              "      <td>1.0</td>\n",
              "    </tr>\n",
              "    <tr>\n",
              "      <th>28</th>\n",
              "      <td>1.0</td>\n",
              "      <td>1.0</td>\n",
              "      <td>5.0</td>\n",
              "      <td>6.0</td>\n",
              "      <td>1.0</td>\n",
              "      <td>1.0</td>\n",
              "      <td>1.0</td>\n",
              "      <td>1.0</td>\n",
              "      <td>1.0</td>\n",
              "      <td>1.0</td>\n",
              "      <td>1.0</td>\n",
              "    </tr>\n",
              "  </tbody>\n",
              "</table>\n",
              "</div>"
            ],
            "text/plain": [
              "     w1   w2   w3   w4  recall  ...  precision  npv  accuracy  mcc  kappa\n",
              "0   1.0  1.0  1.0  2.0     1.0  ...        1.0  1.0       1.0  1.0    1.0\n",
              "1   1.0  1.0  1.0  3.0     1.0  ...        1.0  1.0       1.0  1.0    1.0\n",
              "2   1.0  1.0  1.0  4.0     1.0  ...        1.0  1.0       1.0  1.0    1.0\n",
              "3   1.0  1.0  1.0  5.0     1.0  ...        1.0  1.0       1.0  1.0    1.0\n",
              "4   1.0  1.0  1.0  6.0     1.0  ...        1.0  1.0       1.0  1.0    1.0\n",
              "5   1.0  1.0  2.0  1.0     1.0  ...        1.0  1.0       1.0  1.0    1.0\n",
              "6   1.0  1.0  2.0  2.0     1.0  ...        1.0  1.0       1.0  1.0    1.0\n",
              "7   1.0  1.0  2.0  3.0     1.0  ...        1.0  1.0       1.0  1.0    1.0\n",
              "8   1.0  1.0  2.0  4.0     1.0  ...        1.0  1.0       1.0  1.0    1.0\n",
              "9   1.0  1.0  2.0  5.0     1.0  ...        1.0  1.0       1.0  1.0    1.0\n",
              "10  1.0  1.0  2.0  6.0     1.0  ...        1.0  1.0       1.0  1.0    1.0\n",
              "12  1.0  1.0  3.0  2.0     1.0  ...        1.0  1.0       1.0  1.0    1.0\n",
              "13  1.0  1.0  3.0  3.0     1.0  ...        1.0  1.0       1.0  1.0    1.0\n",
              "14  1.0  1.0  3.0  4.0     1.0  ...        1.0  1.0       1.0  1.0    1.0\n",
              "15  1.0  1.0  3.0  5.0     1.0  ...        1.0  1.0       1.0  1.0    1.0\n",
              "16  1.0  1.0  3.0  6.0     1.0  ...        1.0  1.0       1.0  1.0    1.0\n",
              "20  1.0  1.0  4.0  4.0     1.0  ...        1.0  1.0       1.0  1.0    1.0\n",
              "21  1.0  1.0  4.0  5.0     1.0  ...        1.0  1.0       1.0  1.0    1.0\n",
              "22  1.0  1.0  4.0  6.0     1.0  ...        1.0  1.0       1.0  1.0    1.0\n",
              "28  1.0  1.0  5.0  6.0     1.0  ...        1.0  1.0       1.0  1.0    1.0\n",
              "\n",
              "[20 rows x 11 columns]"
            ]
          },
          "metadata": {
            "tags": []
          },
          "execution_count": 63
        }
      ]
    },
    {
      "cell_type": "code",
      "metadata": {
        "id": "6LYfU9c84003",
        "colab_type": "code",
        "outputId": "1260ebb8-3ee7-4837-9454-171c839140c9",
        "colab": {
          "base_uri": "https://localhost:8080/",
          "height": 225
        }
      },
      "source": [
        "df.loc[df['recall'].idxmax()]"
      ],
      "execution_count": 0,
      "outputs": [
        {
          "output_type": "execute_result",
          "data": {
            "text/plain": [
              "w1             1.0\n",
              "w2             1.0\n",
              "w3             1.0\n",
              "w4             2.0\n",
              "recall         1.0\n",
              "specificity    1.0\n",
              "precision      1.0\n",
              "npv            1.0\n",
              "accuracy       1.0\n",
              "mcc            1.0\n",
              "kappa          1.0\n",
              "Name: 0, dtype: float64"
            ]
          },
          "metadata": {
            "tags": []
          },
          "execution_count": 64
        }
      ]
    },
    {
      "cell_type": "markdown",
      "metadata": {
        "id": "rIrmCIoJ6oIS",
        "colab_type": "text"
      },
      "source": [
        "\n",
        "\n",
        "---\n",
        "w1 = 1\n",
        "\n",
        "\n",
        "---\n",
        "w2 = 1\n",
        "\n",
        "\n",
        "---\n",
        "w3 = 1\n",
        "\n",
        "\n",
        "---\n",
        "w4 = 2\n",
        "\n",
        "---\n",
        "\n",
        "\n"
      ]
    },
    {
      "cell_type": "code",
      "metadata": {
        "id": "VYjPSbr360YF",
        "colab_type": "code",
        "colab": {}
      },
      "source": [
        "w1 = 1\n",
        "w2 = 1\n",
        "w3 = 1\n",
        "w4 = 2"
      ],
      "execution_count": 0,
      "outputs": []
    },
    {
      "cell_type": "code",
      "metadata": {
        "id": "J5zM0QU842kN",
        "colab_type": "code",
        "colab": {}
      },
      "source": [
        "eclf = EnsembleVoteClassifier(clfs=[clf1, clf2, clf3, clf4],\n",
        "                              weights=[w1,w2,w3,w4],\n",
        "                              refit=False,\n",
        "                              voting='soft')\n"
      ],
      "execution_count": 0,
      "outputs": []
    },
    {
      "cell_type": "code",
      "metadata": {
        "id": "eDJfAUhtq72W",
        "colab_type": "code",
        "outputId": "937e58e7-e759-40fe-8ee6-cd1fe5b165e1",
        "colab": {
          "base_uri": "https://localhost:8080/",
          "height": 470
        }
      },
      "source": [
        "eclf.fit(X, y.values.ravel())"
      ],
      "execution_count": 0,
      "outputs": [
        {
          "output_type": "execute_result",
          "data": {
            "text/plain": [
              "EnsembleVoteClassifier(clfs=[SVC(C=0.007742636826811277, cache_size=200,\n",
              "                                 class_weight=None, coef0=0.0,\n",
              "                                 decision_function_shape='ovr', degree=3,\n",
              "                                 gamma=0.0001, kernel='linear', max_iter=-1,\n",
              "                                 probability=True, random_state=None,\n",
              "                                 shrinking=True, tol=0.001, verbose=False),\n",
              "                             MLPClassifier(activation='relu', alpha=1e-05,\n",
              "                                           batch_size='auto', beta_1=0.9,\n",
              "                                           beta_2=0.999, early_stop...\n",
              "                                                    class_weight=None,\n",
              "                                                    criterion='entropy',\n",
              "                                                    max_depth=8,\n",
              "                                                    max_features='sqrt',\n",
              "                                                    max_leaf_nodes=None,\n",
              "                                                    min_impurity_decrease=0.0,\n",
              "                                                    min_impurity_split=None,\n",
              "                                                    min_samples_leaf=1,\n",
              "                                                    min_samples_split=2,\n",
              "                                                    min_weight_fraction_leaf=0.0,\n",
              "                                                    n_estimators=50,\n",
              "                                                    n_jobs=None,\n",
              "                                                    oob_score=False,\n",
              "                                                    random_state=None,\n",
              "                                                    verbose=0,\n",
              "                                                    warm_start=False)],\n",
              "                       refit=False, verbose=0, voting='soft',\n",
              "                       weights=[1, 1, 1, 2])"
            ]
          },
          "metadata": {
            "tags": []
          },
          "execution_count": 81
        }
      ]
    },
    {
      "cell_type": "code",
      "metadata": {
        "id": "VYk8Xq7K5A1X",
        "colab_type": "code",
        "colab": {}
      },
      "source": [
        "y_preds = eclf.predict_proba(X)\n",
        "preds = y_preds[:,1]\n",
        "\n",
        "fpr, tpr, _ = metrics.roc_curve(y, preds)\n",
        "auc_score = metrics.auc(fpr, tpr)"
      ],
      "execution_count": 0,
      "outputs": []
    },
    {
      "cell_type": "code",
      "metadata": {
        "id": "qJ9YqXFt44xs",
        "colab_type": "code",
        "outputId": "630085b6-9bda-4f13-9b71-4a64de1ad52a",
        "colab": {
          "base_uri": "https://localhost:8080/",
          "height": 518
        }
      },
      "source": [
        "plt.clf()\n",
        "\n",
        "plt.title('ROC Curve')\n",
        "plt.plot(fpr, tpr, label='AUC = {:.2f}'.format(auc_score))\n",
        "\n",
        "# it's helpful to add a diagonal to indicate where chance \n",
        "# scores lie (i.e. just flipping a coin)\n",
        "plt.plot([0,1],[0,1],'r--')\n",
        "\n",
        "plt.xlim([-0.1,1.1])\n",
        "plt.ylim([-0.1,1.1])\n",
        "plt.ylabel('Exhaustividad')\n",
        "plt.xlabel('Frecuencia de falsos positivos')\n",
        "\n",
        "plt.legend(loc='lower right')\n",
        "plt.show()"
      ],
      "execution_count": 0,
      "outputs": [
        {
          "output_type": "display_data",
          "data": {
            "image/png": "[encoded data removed]",
            "text/plain": [
              "<Figure size 576x576 with 1 Axes>"
            ]
          },
          "metadata": {
            "tags": []
          }
        }
      ]
    },
    {
      "cell_type": "code",
      "metadata": {
        "id": "NKE_3yBZ47Mq",
        "colab_type": "code",
        "colab": {}
      },
      "source": [
        "y_preds = (y_preds > 0.5).astype(int)\n",
        "a = []\n",
        "for i in range(0,len(y_preds)):\n",
        "  if y_preds[i][0] == 1:\n",
        "    a.append(0)\n",
        "  elif y_preds[i][1] == 1:\n",
        "    a.append(1)"
      ],
      "execution_count": 0,
      "outputs": []
    },
    {
      "cell_type": "code",
      "metadata": {
        "id": "C5iWWNlm6CKC",
        "colab_type": "code",
        "outputId": "bcde8837-66ff-4e33-e83a-ad4c0505e67a",
        "colab": {
          "base_uri": "https://localhost:8080/",
          "height": 52
        }
      },
      "source": [
        "c_matrix = confusion_matrix(y,a)\n",
        "c_matrix"
      ],
      "execution_count": 0,
      "outputs": [
        {
          "output_type": "execute_result",
          "data": {
            "text/plain": [
              "array([[974,   0],\n",
              "       [  0, 974]])"
            ]
          },
          "metadata": {
            "tags": []
          },
          "execution_count": 73
        }
      ]
    },
    {
      "cell_type": "code",
      "metadata": {
        "id": "yvL4649W6Gcb",
        "colab_type": "code",
        "outputId": "a51245e4-a98f-48ce-95cc-747b32dcb543",
        "colab": {
          "base_uri": "https://localhost:8080/",
          "height": 139
        }
      },
      "source": [
        "tn = c_matrix[0,0]\n",
        "tp = c_matrix[1,1]\n",
        "fn = c_matrix[1,0]\n",
        "fp = c_matrix[0,1]\n",
        "\n",
        "print(\"Recall:\", tp/(tp+fn))\n",
        "print(\"Specificity:\", tn/(tn+fp))\n",
        "print(\"Precision:\", tp/(tp+fp))\n",
        "print(\"Negative predictive value:\", tn/(tn+fn))\n",
        "print(\"Acuracy:\", (tp+tn)/(tp+tn+fp+fn))\n",
        "print(\"Matthews correlation coefficient:\", (tp*tn-fp*fn)/((tp+fp)*(tp+fn)*(tn+fp)*(tn+fn))**(1/2.0))\n",
        "print(\"Cohen Kappa\", cohen_kappa_score(y,a))"
      ],
      "execution_count": 0,
      "outputs": [
        {
          "output_type": "stream",
          "text": [
            "Recall: 1.0\n",
            "Specificity: 1.0\n",
            "Precision: 1.0\n",
            "Negative predictive value: 1.0\n",
            "Acuracy: 1.0\n",
            "Matthews correlation coefficient: 1.0\n",
            "Cohen Kappa 1.0\n"
          ],
          "name": "stdout"
        }
      ]
    },
    {
      "cell_type": "markdown",
      "metadata": {
        "id": "pgIaKDQv8xgE",
        "colab_type": "text"
      },
      "source": [
        "**Conjunto de datos de prueba**"
      ]
    },
    {
      "cell_type": "code",
      "metadata": {
        "id": "9eSR9lrK83t5",
        "colab_type": "code",
        "outputId": "c7cad7a4-4f11-4148-efa5-a4f8d0f4fdbe",
        "colab": {
          "base_uri": "https://localhost:8080/",
          "height": 52
        }
      },
      "source": [
        "y_preds = eclf.predict_proba(X_test)\n",
        "preds = y_preds[:,1]\n",
        "\n",
        "y_preds = (y_preds > 0.5).astype(int)\n",
        "a = []\n",
        "for i in range(0,len(y_preds)):\n",
        "  if y_preds[i][0] == 1:\n",
        "    a.append(0)\n",
        "  elif y_preds[i][1] == 1:\n",
        "    a.append(1)\n",
        "    \n",
        "c_matrix = confusion_matrix(y_test,a)\n",
        "c_matrix"
      ],
      "execution_count": 0,
      "outputs": [
        {
          "output_type": "execute_result",
          "data": {
            "text/plain": [
              "array([[  9,   3],\n",
              "       [  1, 111]])"
            ]
          },
          "metadata": {
            "tags": []
          },
          "execution_count": 92
        }
      ]
    },
    {
      "cell_type": "code",
      "metadata": {
        "id": "wakPiuOi837G",
        "colab_type": "code",
        "outputId": "3cde6c37-e794-4915-df39-37bd855ccf3e",
        "colab": {
          "base_uri": "https://localhost:8080/",
          "height": 139
        }
      },
      "source": [
        "tn = c_matrix[0,0]\n",
        "tp = c_matrix[1,1]\n",
        "fn = c_matrix[1,0]\n",
        "fp = c_matrix[0,1]\n",
        "\n",
        "print(\"Recall:\", tp/(tp+fn))\n",
        "print(\"Specificity:\", tn/(tn+fp))\n",
        "print(\"Precision:\", tp/(tp+fp))\n",
        "print(\"Negative predictive value:\", tn/(tn+fn))\n",
        "print(\"Acuracy:\", (tp+tn)/(tp+tn+fp+fn))\n",
        "print(\"Matthews correlation coefficient:\", (tp*tn-fp*fn)/((tp+fp)*(tp+fn)*(tn+fp)*(tn+fn))**(1/2.0))\n",
        "print(\"Cohen Kappa\", cohen_kappa_score(y_test,a))"
      ],
      "execution_count": 0,
      "outputs": [
        {
          "output_type": "stream",
          "text": [
            "Recall: 0.9910714285714286\n",
            "Specificity: 0.75\n",
            "Precision: 0.9736842105263158\n",
            "Negative predictive value: 0.9\n",
            "Acuracy: 0.967741935483871\n",
            "Matthews correlation coefficient: 0.8046504868668368\n",
            "Cohen Kappa 0.8006430868167203\n"
          ],
          "name": "stdout"
        }
      ]
    }
  ]
}