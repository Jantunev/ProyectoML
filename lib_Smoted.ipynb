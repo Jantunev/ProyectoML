{
 "cells": [
  {
   "cell_type": "code",
   "execution_count": 1,
   "metadata": {},
   "outputs": [],
   "source": [
    "import pandas as pd\n",
    "import matplotlib.pyplot as plt\n",
    "import seaborn as sns\n",
    "import numpy as np\n",
    "import random"
   ]
  },
  {
   "cell_type": "code",
   "execution_count": 2,
   "metadata": {},
   "outputs": [],
   "source": [
    "# Dataset original\n",
    "df_caract = pd.read_csv('data\\df_carac_train.csv',index_col=0)\n",
    "df_result = pd.read_csv('data\\df_y_train.csv',index_col=0)"
   ]
  },
  {
   "cell_type": "markdown",
   "metadata": {},
   "source": [
    "## OVERSAMPLING\n",
    "### SMOTE"
   ]
  },
  {
   "cell_type": "code",
   "execution_count": 10,
   "metadata": {},
   "outputs": [],
   "source": [
    "# Se junta las caracteristicas con el targete\n",
    "dataset = pd.concat([df_caract, df_result], axis=1, sort=False)"
   ]
  },
  {
   "cell_type": "code",
   "execution_count": 11,
   "metadata": {},
   "outputs": [
    {
     "data": {
      "text/plain": [
       "Tumor\n",
       "0    135\n",
       "1    974\n",
       "dtype: int64"
      ]
     },
     "execution_count": 11,
     "metadata": {},
     "output_type": "execute_result"
    }
   ],
   "source": [
    "dataset.groupby('Tumor').agg('size')"
   ]
  },
  {
   "cell_type": "code",
   "execution_count": 12,
   "metadata": {},
   "outputs": [
    {
     "data": {
      "text/plain": [
       "<matplotlib.axes._subplots.AxesSubplot at 0xbee7c44b70>"
      ]
     },
     "execution_count": 12,
     "metadata": {},
     "output_type": "execute_result"
    },
    {
     "data": {
      "image/png": "[encoded data removed]",
      "text/plain": [
       "<Figure size 432x288 with 1 Axes>"
      ]
     },
     "metadata": {
      "needs_background": "light"
     },
     "output_type": "display_data"
    }
   ],
   "source": [
    "# Data claramente desbalanceada\n",
    "%matplotlib inline\n",
    "sns.countplot(x='Tumor', data=dataset)"
   ]
  },
  {
   "cell_type": "code",
   "execution_count": 13,
   "metadata": {},
   "outputs": [],
   "source": [
    "# Undersampling\n",
    "# variable target = t\n",
    "t = dataset[['Tumor']]\n",
    "n_samples = t.shape[0]\n",
    "n_samples_1 = (t == 1).sum()\n",
    "n_samples_0 = (t == 0).sum()\n",
    "n_samples_0_new = 0.50 * n_samples_1 / 0.5 - n_samples_0"
   ]
  },
  {
   "cell_type": "code",
   "execution_count": 14,
   "metadata": {},
   "outputs": [],
   "source": [
    "# funcion para seleccionar un row aleatorio de un dataframe\n",
    "def random_row_df(df):\n",
    "    index_random = random.choice(range(len(df)))\n",
    "    i = 0\n",
    "    for index,row in df.iterrows():\n",
    "        if i==index_random:\n",
    "            d = {}\n",
    "            indexs = row.index.tolist()\n",
    "            values = row.values.tolist()\n",
    "            for j in range(len(indexs)):\n",
    "                d[indexs[j]] = [values[j]]\n",
    "            df_row = pd.DataFrame(d)\n",
    "            break\n",
    "        i = i + 1\n",
    "    return df_row"
   ]
  },
  {
   "cell_type": "code",
   "execution_count": 15,
   "metadata": {},
   "outputs": [],
   "source": [
    "# seleccionando los puntos base para nueva data de SMOTE\n",
    "sel_ = dataset.loc[dataset['Tumor'] == 0].iloc[: , :-1].sample(n = int(n_samples_0_new) , replace = True , random_state = 10)"
   ]
  },
  {
   "cell_type": "code",
   "execution_count": 16,
   "metadata": {},
   "outputs": [],
   "source": [
    "sel_flt= sel_.astype(float)"
   ]
  },
  {
   "cell_type": "code",
   "execution_count": null,
   "metadata": {},
   "outputs": [],
   "source": [
    "# randoms para generacion de nueva data \n",
    "steps = np.random.uniform(size = int(n_samples_0_new[0]))\n",
    "\n",
    "# generacion de nueva data (rows) con SMOTE\n",
    "i=0\n",
    "df_news = None\n",
    "for index , row in sel_flt.iterrows():\n",
    "    d = {}\n",
    "    indexs = row.index.tolist()\n",
    "    values = row.values.tolist()\n",
    "    for j in range(len(indexs)):\n",
    "        d[indexs[j]] = [values [j]]\n",
    "    df_initial = pd.DataFrame(d)\n",
    "    \n",
    "    step = steps[i]\n",
    "    \n",
    "    #SMOTE\n",
    "    # df_new ES EL PUNTO SINTETICO Y TOMADO COMO MUESTRA DE \n",
    "    # LA CLASE MINORITARIA (0)\n",
    "    df_new = df_initial - step * (df_initial - random_row_df(sel_flt))\n",
    "    \n",
    "    #se concatena todos nuevos rows generados del SMOTE\n",
    "    df_news = pd.concat([df_news , df_new])\n",
    "    i = i +1 \n"
   ]
  },
  {
   "cell_type": "code",
   "execution_count": null,
   "metadata": {},
   "outputs": [],
   "source": [
    "df_news['Tumor'] = 0\n",
    "dataset_smoted = pd.concat([dataset , df_news])\n",
    "# reseto de indices\n",
    "#dataset_smoted.reset_index(drop = True , inplace = True)"
   ]
  },
  {
   "cell_type": "code",
   "execution_count": null,
   "metadata": {},
   "outputs": [],
   "source": [
    "sns.countplot(x='Tumor', data=dataset_smoted)"
   ]
  },
  {
   "cell_type": "code",
   "execution_count": null,
   "metadata": {},
   "outputs": [],
   "source": [
    "dataset_smoted.groupby('Tumor').agg('size')"
   ]
  },
  {
   "cell_type": "code",
   "execution_count": null,
   "metadata": {},
   "outputs": [],
   "source": [
    "dataset_smoted.to_csv('data\\dataset_smoted.csv',header=True,index=True)"
   ]
  }
 ],
 "metadata": {
  "kernelspec": {
   "display_name": "Python 3",
   "language": "python",
   "name": "python3"
  },
  "language_info": {
   "codemirror_mode": {
    "name": "ipython",
    "version": 3
   },
   "file_extension": ".py",
   "mimetype": "text/x-python",
   "name": "python",
   "nbconvert_exporter": "python",
   "pygments_lexer": "ipython3",
   "version": "3.7.3"
  }
 },
 "nbformat": 4,
 "nbformat_minor": 2
}
