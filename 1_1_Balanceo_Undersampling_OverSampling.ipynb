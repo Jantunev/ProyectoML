{
 "cells": [
  {
   "cell_type": "code",
   "execution_count": 82,
   "metadata": {},
   "outputs": [],
   "source": [
    "import pandas as pd\n",
    "import matplotlib.pyplot as plt\n",
    "import seaborn as sns\n",
    "import numpy as np\n",
    "import random"
   ]
  },
  {
   "cell_type": "code",
   "execution_count": 83,
   "metadata": {},
   "outputs": [],
   "source": [
    "# Dataset original\n",
    "df = pd.read_csv('data\\esets_lung_exprs_genes.txt',sep=\"\\t\",header=None,index_col=0)"
   ]
  },
  {
   "cell_type": "code",
   "execution_count": 84,
   "metadata": {},
   "outputs": [],
   "source": [
    "# Preparación de Data - Pablo\n",
    "df2=df.transpose()\n",
    "df2.columns=df2.columns.fillna('sample_name')\n",
    "df2['sample_name']=df2['sample_name'].str[:9]\n",
    "df3=pd.read_csv('data\\E-MTAB-6699.sdrf.txt', sep=\"\\t\",header=0,index_col=False)\n",
    "df4=df3.drop(['Extract Name','Factor Value[disease]'],axis=1)\n",
    "df5=df3.drop(df4,axis=1)\n",
    "df5['Tumor']=np.where(df5['Factor Value[disease]']=='tumor',1 ,0)\n",
    "df6=df5.drop(['Factor Value[disease]'],axis=1)\n",
    "null_columns4=df2.columns[df2.isna().any()]\n",
    "df2[null_columns4].isna().sum()\n",
    "df7=df2.merge(df6,how='inner',left_on='sample_name',right_on='Extract Name',left_index=True)\n",
    "df7.set_index(df7['sample_name'],inplace=True)\n",
    "df7=df7.drop(['sample_name','Extract Name'],axis=1)\n",
    "df_caract=df7.drop('Tumor',axis=1)\n",
    "df_result=df7.drop(df_caract,axis=1)\n"
   ]
  },
  {
   "cell_type": "code",
   "execution_count": 85,
   "metadata": {},
   "outputs": [],
   "source": [
    "# Se junta las caracteristicas con el target\n",
    "dataset = pd.concat([df_caract, df_result], axis=1, sort=False)"
   ]
  },
  {
   "cell_type": "code",
   "execution_count": 86,
   "metadata": {},
   "outputs": [
    {
     "data": {
      "text/html": [
       "<div>\n",
       "<style scoped>\n",
       "    .dataframe tbody tr th:only-of-type {\n",
       "        vertical-align: middle;\n",
       "    }\n",
       "\n",
       "    .dataframe tbody tr th {\n",
       "        vertical-align: top;\n",
       "    }\n",
       "\n",
       "    .dataframe thead th {\n",
       "        text-align: right;\n",
       "    }\n",
       "</style>\n",
       "<table border=\"1\" class=\"dataframe\">\n",
       "  <thead>\n",
       "    <tr style=\"text-align: right;\">\n",
       "      <th></th>\n",
       "      <th>RFC2</th>\n",
       "      <th>HSPA6</th>\n",
       "      <th>PAX8</th>\n",
       "      <th>GUCA1A</th>\n",
       "      <th>THRA</th>\n",
       "      <th>PTPN21</th>\n",
       "      <th>CCL5</th>\n",
       "      <th>CYP2E1</th>\n",
       "      <th>EPHB3</th>\n",
       "      <th>ESRRA</th>\n",
       "      <th>...</th>\n",
       "      <th>CCDC63</th>\n",
       "      <th>C16orf52</th>\n",
       "      <th>LOC101929475</th>\n",
       "      <th>LOC389641</th>\n",
       "      <th>LOC400499</th>\n",
       "      <th>GALR3</th>\n",
       "      <th>NUS1P3</th>\n",
       "      <th>TMEM231</th>\n",
       "      <th>LOC100505915</th>\n",
       "      <th>Tumor</th>\n",
       "    </tr>\n",
       "    <tr>\n",
       "      <th>sample_name</th>\n",
       "      <th></th>\n",
       "      <th></th>\n",
       "      <th></th>\n",
       "      <th></th>\n",
       "      <th></th>\n",
       "      <th></th>\n",
       "      <th></th>\n",
       "      <th></th>\n",
       "      <th></th>\n",
       "      <th></th>\n",
       "      <th></th>\n",
       "      <th></th>\n",
       "      <th></th>\n",
       "      <th></th>\n",
       "      <th></th>\n",
       "      <th></th>\n",
       "      <th></th>\n",
       "      <th></th>\n",
       "      <th></th>\n",
       "      <th></th>\n",
       "      <th></th>\n",
       "    </tr>\n",
       "  </thead>\n",
       "  <tbody>\n",
       "    <tr>\n",
       "      <th>GSM475770</th>\n",
       "      <td>6.7280180474803</td>\n",
       "      <td>7.48841995402248</td>\n",
       "      <td>7.77630072697348</td>\n",
       "      <td>5.89385580070634</td>\n",
       "      <td>6.39363330461782</td>\n",
       "      <td>6.06063375024237</td>\n",
       "      <td>6.67811381822516</td>\n",
       "      <td>5.33369260788808</td>\n",
       "      <td>7.84605591352432</td>\n",
       "      <td>8.13780853503939</td>\n",
       "      <td>...</td>\n",
       "      <td>4.91554</td>\n",
       "      <td>3.62438</td>\n",
       "      <td>4.35067</td>\n",
       "      <td>5.35736</td>\n",
       "      <td>6.2268</td>\n",
       "      <td>6.49372</td>\n",
       "      <td>3.77186</td>\n",
       "      <td>5.96545</td>\n",
       "      <td>5.23756</td>\n",
       "      <td>1</td>\n",
       "    </tr>\n",
       "    <tr>\n",
       "      <th>GSM318121</th>\n",
       "      <td>7.66869832738631</td>\n",
       "      <td>8.27167210087508</td>\n",
       "      <td>7.58269252147026</td>\n",
       "      <td>5.33709780535457</td>\n",
       "      <td>6.28866788371302</td>\n",
       "      <td>7.24005790559874</td>\n",
       "      <td>8.34278638304241</td>\n",
       "      <td>4.39737661559608</td>\n",
       "      <td>8.28901169479499</td>\n",
       "      <td>7.34884903334131</td>\n",
       "      <td>...</td>\n",
       "      <td>4.64682</td>\n",
       "      <td>3.57661</td>\n",
       "      <td>3.9408</td>\n",
       "      <td>5.06341</td>\n",
       "      <td>5.90604</td>\n",
       "      <td>5.70265</td>\n",
       "      <td>4.01983</td>\n",
       "      <td>6.41594</td>\n",
       "      <td>5.4185</td>\n",
       "      <td>1</td>\n",
       "    </tr>\n",
       "    <tr>\n",
       "      <th>GSM773550</th>\n",
       "      <td>8.12616705958644</td>\n",
       "      <td>7.74708253744207</td>\n",
       "      <td>7.40350968894167</td>\n",
       "      <td>5.4971924713988</td>\n",
       "      <td>6.71588876113445</td>\n",
       "      <td>6.59432617257244</td>\n",
       "      <td>6.8728961649409</td>\n",
       "      <td>4.58021687099884</td>\n",
       "      <td>8.68370635730192</td>\n",
       "      <td>7.85053954728567</td>\n",
       "      <td>...</td>\n",
       "      <td>5.08112</td>\n",
       "      <td>4.49831</td>\n",
       "      <td>4.20927</td>\n",
       "      <td>4.94039</td>\n",
       "      <td>6.47339</td>\n",
       "      <td>6.25298</td>\n",
       "      <td>4.06776</td>\n",
       "      <td>6.61327</td>\n",
       "      <td>4.89534</td>\n",
       "      <td>1</td>\n",
       "    </tr>\n",
       "    <tr>\n",
       "      <th>GSM773760</th>\n",
       "      <td>7.66674629538423</td>\n",
       "      <td>7.54196355603892</td>\n",
       "      <td>7.64097600109524</td>\n",
       "      <td>5.77550206086997</td>\n",
       "      <td>7.2799083450108</td>\n",
       "      <td>6.62164825918507</td>\n",
       "      <td>9.16259981591191</td>\n",
       "      <td>5.23579182463082</td>\n",
       "      <td>7.92310138444072</td>\n",
       "      <td>7.37245549361444</td>\n",
       "      <td>...</td>\n",
       "      <td>4.83531</td>\n",
       "      <td>3.45986</td>\n",
       "      <td>4.51582</td>\n",
       "      <td>4.60038</td>\n",
       "      <td>6.15944</td>\n",
       "      <td>5.40411</td>\n",
       "      <td>3.73865</td>\n",
       "      <td>5.48817</td>\n",
       "      <td>5.63406</td>\n",
       "      <td>1</td>\n",
       "    </tr>\n",
       "    <tr>\n",
       "      <th>GSM748283</th>\n",
       "      <td>7.77571830746289</td>\n",
       "      <td>8.01577060804185</td>\n",
       "      <td>7.95383564621354</td>\n",
       "      <td>5.74194436468927</td>\n",
       "      <td>6.60585368786714</td>\n",
       "      <td>6.49925728572694</td>\n",
       "      <td>9.28962715739883</td>\n",
       "      <td>4.74440823913591</td>\n",
       "      <td>8.11885910508339</td>\n",
       "      <td>7.85174566015926</td>\n",
       "      <td>...</td>\n",
       "      <td>4.8488</td>\n",
       "      <td>3.84321</td>\n",
       "      <td>4.58965</td>\n",
       "      <td>4.86561</td>\n",
       "      <td>5.77841</td>\n",
       "      <td>6.26458</td>\n",
       "      <td>4.62721</td>\n",
       "      <td>5.67274</td>\n",
       "      <td>4.90644</td>\n",
       "      <td>1</td>\n",
       "    </tr>\n",
       "    <tr>\n",
       "      <th>GSM494566</th>\n",
       "      <td>7.65277223494819</td>\n",
       "      <td>7.81113324169889</td>\n",
       "      <td>7.3795943440216</td>\n",
       "      <td>5.4554409523857</td>\n",
       "      <td>6.9965368777712</td>\n",
       "      <td>6.68425202706862</td>\n",
       "      <td>9.47602755706686</td>\n",
       "      <td>5.12779691881224</td>\n",
       "      <td>7.51626635073946</td>\n",
       "      <td>7.54220945929497</td>\n",
       "      <td>...</td>\n",
       "      <td>4.38344</td>\n",
       "      <td>3.64714</td>\n",
       "      <td>4.20357</td>\n",
       "      <td>4.65128</td>\n",
       "      <td>6.09576</td>\n",
       "      <td>5.83729</td>\n",
       "      <td>4.62516</td>\n",
       "      <td>5.68025</td>\n",
       "      <td>6.24279</td>\n",
       "      <td>1</td>\n",
       "    </tr>\n",
       "    <tr>\n",
       "      <th>GSM475669</th>\n",
       "      <td>7.50522907005343</td>\n",
       "      <td>6.84953819717234</td>\n",
       "      <td>7.45181770535708</td>\n",
       "      <td>5.43014110843769</td>\n",
       "      <td>6.78745121361182</td>\n",
       "      <td>7.71732487091326</td>\n",
       "      <td>8.48050543841173</td>\n",
       "      <td>4.51523875830608</td>\n",
       "      <td>7.22387019458546</td>\n",
       "      <td>7.73301948735161</td>\n",
       "      <td>...</td>\n",
       "      <td>4.48586</td>\n",
       "      <td>3.75322</td>\n",
       "      <td>4.39053</td>\n",
       "      <td>4.80119</td>\n",
       "      <td>5.89566</td>\n",
       "      <td>6.02609</td>\n",
       "      <td>4.61664</td>\n",
       "      <td>5.81731</td>\n",
       "      <td>5.19529</td>\n",
       "      <td>0</td>\n",
       "    </tr>\n",
       "    <tr>\n",
       "      <th>GSM494645</th>\n",
       "      <td>7.99552441080449</td>\n",
       "      <td>9.137089720926</td>\n",
       "      <td>7.55646859130625</td>\n",
       "      <td>5.68691090062481</td>\n",
       "      <td>6.92794999357585</td>\n",
       "      <td>8.15589744758025</td>\n",
       "      <td>8.32550817008394</td>\n",
       "      <td>4.93597012280096</td>\n",
       "      <td>7.07067817783732</td>\n",
       "      <td>7.37644407615366</td>\n",
       "      <td>...</td>\n",
       "      <td>4.7806</td>\n",
       "      <td>3.65597</td>\n",
       "      <td>4.131</td>\n",
       "      <td>4.81083</td>\n",
       "      <td>5.96588</td>\n",
       "      <td>5.95801</td>\n",
       "      <td>4.42141</td>\n",
       "      <td>6.67621</td>\n",
       "      <td>5.08693</td>\n",
       "      <td>1</td>\n",
       "    </tr>\n",
       "    <tr>\n",
       "      <th>GSM748203</th>\n",
       "      <td>8.76516040401987</td>\n",
       "      <td>8.31808991689983</td>\n",
       "      <td>7.1808155104317</td>\n",
       "      <td>5.78637493494612</td>\n",
       "      <td>6.74186804900212</td>\n",
       "      <td>6.86413476050293</td>\n",
       "      <td>8.05536862721164</td>\n",
       "      <td>4.49744895746166</td>\n",
       "      <td>7.07432829840034</td>\n",
       "      <td>7.51947927486739</td>\n",
       "      <td>...</td>\n",
       "      <td>4.81351</td>\n",
       "      <td>4.85444</td>\n",
       "      <td>4.46281</td>\n",
       "      <td>4.85074</td>\n",
       "      <td>5.83322</td>\n",
       "      <td>5.89211</td>\n",
       "      <td>5.33233</td>\n",
       "      <td>6.95317</td>\n",
       "      <td>5.72749</td>\n",
       "      <td>1</td>\n",
       "    </tr>\n",
       "    <tr>\n",
       "      <th>GSM748327</th>\n",
       "      <td>8.26939720597634</td>\n",
       "      <td>8.26185824502424</td>\n",
       "      <td>7.74287809671567</td>\n",
       "      <td>5.70070842071722</td>\n",
       "      <td>6.73359612877595</td>\n",
       "      <td>6.10135194101514</td>\n",
       "      <td>8.68709492062451</td>\n",
       "      <td>4.6468952117217</td>\n",
       "      <td>8.88776405911467</td>\n",
       "      <td>8.0543911470413</td>\n",
       "      <td>...</td>\n",
       "      <td>4.48164</td>\n",
       "      <td>3.77449</td>\n",
       "      <td>4.27832</td>\n",
       "      <td>4.59266</td>\n",
       "      <td>5.91576</td>\n",
       "      <td>6.04297</td>\n",
       "      <td>4.96135</td>\n",
       "      <td>5.94573</td>\n",
       "      <td>5.13247</td>\n",
       "      <td>1</td>\n",
       "    </tr>\n",
       "  </tbody>\n",
       "</table>\n",
       "<p>10 rows × 20546 columns</p>\n",
       "</div>"
      ],
      "text/plain": [
       "                         RFC2             HSPA6              PAX8  \\\n",
       "sample_name                                                         \n",
       "GSM475770     6.7280180474803  7.48841995402248  7.77630072697348   \n",
       "GSM318121    7.66869832738631  8.27167210087508  7.58269252147026   \n",
       "GSM773550    8.12616705958644  7.74708253744207  7.40350968894167   \n",
       "GSM773760    7.66674629538423  7.54196355603892  7.64097600109524   \n",
       "GSM748283    7.77571830746289  8.01577060804185  7.95383564621354   \n",
       "GSM494566    7.65277223494819  7.81113324169889   7.3795943440216   \n",
       "GSM475669    7.50522907005343  6.84953819717234  7.45181770535708   \n",
       "GSM494645    7.99552441080449    9.137089720926  7.55646859130625   \n",
       "GSM748203    8.76516040401987  8.31808991689983   7.1808155104317   \n",
       "GSM748327    8.26939720597634  8.26185824502424  7.74287809671567   \n",
       "\n",
       "                       GUCA1A              THRA            PTPN21  \\\n",
       "sample_name                                                         \n",
       "GSM475770    5.89385580070634  6.39363330461782  6.06063375024237   \n",
       "GSM318121    5.33709780535457  6.28866788371302  7.24005790559874   \n",
       "GSM773550     5.4971924713988  6.71588876113445  6.59432617257244   \n",
       "GSM773760    5.77550206086997   7.2799083450108  6.62164825918507   \n",
       "GSM748283    5.74194436468927  6.60585368786714  6.49925728572694   \n",
       "GSM494566     5.4554409523857   6.9965368777712  6.68425202706862   \n",
       "GSM475669    5.43014110843769  6.78745121361182  7.71732487091326   \n",
       "GSM494645    5.68691090062481  6.92794999357585  8.15589744758025   \n",
       "GSM748203    5.78637493494612  6.74186804900212  6.86413476050293   \n",
       "GSM748327    5.70070842071722  6.73359612877595  6.10135194101514   \n",
       "\n",
       "                         CCL5            CYP2E1             EPHB3  \\\n",
       "sample_name                                                         \n",
       "GSM475770    6.67811381822516  5.33369260788808  7.84605591352432   \n",
       "GSM318121    8.34278638304241  4.39737661559608  8.28901169479499   \n",
       "GSM773550     6.8728961649409  4.58021687099884  8.68370635730192   \n",
       "GSM773760    9.16259981591191  5.23579182463082  7.92310138444072   \n",
       "GSM748283    9.28962715739883  4.74440823913591  8.11885910508339   \n",
       "GSM494566    9.47602755706686  5.12779691881224  7.51626635073946   \n",
       "GSM475669    8.48050543841173  4.51523875830608  7.22387019458546   \n",
       "GSM494645    8.32550817008394  4.93597012280096  7.07067817783732   \n",
       "GSM748203    8.05536862721164  4.49744895746166  7.07432829840034   \n",
       "GSM748327    8.68709492062451   4.6468952117217  8.88776405911467   \n",
       "\n",
       "                        ESRRA  ...   CCDC63 C16orf52 LOC101929475 LOC389641  \\\n",
       "sample_name                    ...                                            \n",
       "GSM475770    8.13780853503939  ...  4.91554  3.62438      4.35067   5.35736   \n",
       "GSM318121    7.34884903334131  ...  4.64682  3.57661       3.9408   5.06341   \n",
       "GSM773550    7.85053954728567  ...  5.08112  4.49831      4.20927   4.94039   \n",
       "GSM773760    7.37245549361444  ...  4.83531  3.45986      4.51582   4.60038   \n",
       "GSM748283    7.85174566015926  ...   4.8488  3.84321      4.58965   4.86561   \n",
       "GSM494566    7.54220945929497  ...  4.38344  3.64714      4.20357   4.65128   \n",
       "GSM475669    7.73301948735161  ...  4.48586  3.75322      4.39053   4.80119   \n",
       "GSM494645    7.37644407615366  ...   4.7806  3.65597        4.131   4.81083   \n",
       "GSM748203    7.51947927486739  ...  4.81351  4.85444      4.46281   4.85074   \n",
       "GSM748327     8.0543911470413  ...  4.48164  3.77449      4.27832   4.59266   \n",
       "\n",
       "            LOC400499    GALR3   NUS1P3  TMEM231 LOC100505915 Tumor  \n",
       "sample_name                                                          \n",
       "GSM475770      6.2268  6.49372  3.77186  5.96545      5.23756     1  \n",
       "GSM318121     5.90604  5.70265  4.01983  6.41594       5.4185     1  \n",
       "GSM773550     6.47339  6.25298  4.06776  6.61327      4.89534     1  \n",
       "GSM773760     6.15944  5.40411  3.73865  5.48817      5.63406     1  \n",
       "GSM748283     5.77841  6.26458  4.62721  5.67274      4.90644     1  \n",
       "GSM494566     6.09576  5.83729  4.62516  5.68025      6.24279     1  \n",
       "GSM475669     5.89566  6.02609  4.61664  5.81731      5.19529     0  \n",
       "GSM494645     5.96588  5.95801  4.42141  6.67621      5.08693     1  \n",
       "GSM748203     5.83322  5.89211  5.33233  6.95317      5.72749     1  \n",
       "GSM748327     5.91576  6.04297  4.96135  5.94573      5.13247     1  \n",
       "\n",
       "[10 rows x 20546 columns]"
      ]
     },
     "execution_count": 86,
     "metadata": {},
     "output_type": "execute_result"
    }
   ],
   "source": [
    "dataset.sample(10)"
   ]
  },
  {
   "cell_type": "code",
   "execution_count": 87,
   "metadata": {},
   "outputs": [
    {
     "data": {
      "text/plain": [
       "Tumor\n",
       "0     147\n",
       "1    1086\n",
       "dtype: int64"
      ]
     },
     "execution_count": 87,
     "metadata": {},
     "output_type": "execute_result"
    }
   ],
   "source": [
    "dataset.groupby('Tumor').agg('size')"
   ]
  },
  {
   "cell_type": "code",
   "execution_count": 88,
   "metadata": {},
   "outputs": [
    {
     "data": {
      "text/plain": [
       "<matplotlib.axes._subplots.AxesSubplot at 0x17534e566a0>"
      ]
     },
     "execution_count": 88,
     "metadata": {},
     "output_type": "execute_result"
    },
    {
     "data": {
      "image/png": "[encoded data removed]",
      "text/plain": [
       "<Figure size 432x288 with 1 Axes>"
      ]
     },
     "metadata": {
      "needs_background": "light"
     },
     "output_type": "display_data"
    }
   ],
   "source": [
    "# Data claramente desbalanceada\n",
    "%matplotlib inline\n",
    "sns.countplot(x='Tumor', data=dataset)"
   ]
  },
  {
   "cell_type": "markdown",
   "metadata": {},
   "source": [
    "## Undersampling\n"
   ]
  },
  {
   "cell_type": "code",
   "execution_count": 89,
   "metadata": {},
   "outputs": [],
   "source": [
    "# Undersampling\n",
    "\n",
    "# variable target = t\n",
    "t = dataset[['Tumor']]\n",
    "n_samples = t.shape[0]\n",
    "n_samples_1 = (t == 1).sum()\n",
    "n_samples_0 = (t == 0).sum()\n",
    "\n",
    "## Si se quiere que la clase minoritaria sea el 50% del total\n",
    "## formula para hallar la cantidad de registros a seleccionar (de la clase mayoritaria) para el undersampling\n",
    "n_samples_1_new =  n_samples_0 / 0.50 - n_samples_0\n",
    "n_samples_1_new_per = n_samples_1_new / n_samples_1\n",
    "\n",
    "dataset_undersampled = pd.concat( \n",
    "    [dataset.loc[dataset['Tumor']!=0].sample(frac=n_samples_Y_new_per, replace=False , random_state = 10) , \n",
    "     dataset.loc[dataset['Tumor']==0] ])\n",
    "\n",
    "# reseteamos indices ----\n",
    "dataset_undersampled.reset_index(drop=True, inplace=True)"
   ]
  },
  {
   "cell_type": "code",
   "execution_count": 90,
   "metadata": {},
   "outputs": [
    {
     "data": {
      "text/plain": [
       "<matplotlib.axes._subplots.AxesSubplot at 0x174eccb4ba8>"
      ]
     },
     "execution_count": 90,
     "metadata": {},
     "output_type": "execute_result"
    },
    {
     "data": {
      "image/png": "[encoded data removed]",
      "text/plain": [
       "<Figure size 432x288 with 1 Axes>"
      ]
     },
     "metadata": {
      "needs_background": "light"
     },
     "output_type": "display_data"
    }
   ],
   "source": [
    "sns.countplot(x='Tumor', data=dataset_undersampled)"
   ]
  },
  {
   "cell_type": "markdown",
   "metadata": {},
   "source": [
    "## OVERSAMPLING\n",
    "### SMOTE"
   ]
  },
  {
   "cell_type": "code",
   "execution_count": 91,
   "metadata": {},
   "outputs": [
    {
     "data": {
      "text/plain": [
       "Tumor\n",
       "0     147\n",
       "1    1086\n",
       "dtype: int64"
      ]
     },
     "execution_count": 91,
     "metadata": {},
     "output_type": "execute_result"
    }
   ],
   "source": [
    "dataset.groupby('Tumor').agg('size')"
   ]
  },
  {
   "cell_type": "code",
   "execution_count": 92,
   "metadata": {},
   "outputs": [
    {
     "name": "stdout",
     "output_type": "stream",
     "text": [
      "Tumor    0.135359\n",
      "dtype: float64\n"
     ]
    }
   ],
   "source": [
    "n_samples_1_new_per = n_samples_1_new / n_samples_1\n",
    "print(n_samples_1_new_per)"
   ]
  },
  {
   "cell_type": "code",
   "execution_count": 93,
   "metadata": {},
   "outputs": [],
   "source": [
    "# Undersampling\n",
    "\n",
    "# variable target = t\n",
    "t = dataset[['Tumor']]\n",
    "n_samples = t.shape[0]\n",
    "n_samples_1 = (t == 1).sum()\n",
    "n_samples_0 = (t == 0).sum()\n",
    "n_samples_0_new = 0.50 * n_samples_1 / 0.5 - n_samples_0"
   ]
  },
  {
   "cell_type": "code",
   "execution_count": 94,
   "metadata": {},
   "outputs": [],
   "source": [
    "# funcion para seleccionar un row aleatorio de un dataframe\n",
    "def random_row_df(df):\n",
    "    index_random = random.choice(range(len(df)))\n",
    "    i = 0\n",
    "    for index,row in df.iterrows():\n",
    "        if i==index_random:\n",
    "            d = {}\n",
    "            indexs = row.index.tolist()\n",
    "            values = row.values.tolist()\n",
    "            for j in range(len(indexs)):\n",
    "                d[indexs[j]] = [values[j]]\n",
    "            df_row = pd.DataFrame(d)\n",
    "            break\n",
    "        i = i + 1\n",
    "    return df_row"
   ]
  },
  {
   "cell_type": "code",
   "execution_count": 95,
   "metadata": {},
   "outputs": [],
   "source": [
    "# seleccionando los puntos base para nueva data de SMOTE\n",
    "sel_ = dataset.loc[dataset['Tumor'] == 0].iloc[: , :-1].sample(n = int(n_samples_0_new) , replace = True , random_state = 10)"
   ]
  },
  {
   "cell_type": "code",
   "execution_count": 98,
   "metadata": {},
   "outputs": [],
   "source": [
    "sel_flt= sel_.astype(float)"
   ]
  },
  {
   "cell_type": "code",
   "execution_count": 99,
   "metadata": {},
   "outputs": [
    {
     "name": "stdout",
     "output_type": "stream",
     "text": [
      "<class 'pandas.core.frame.DataFrame'>\n",
      "Index: 939 entries, GSM466961 to GSM467015\n",
      "Columns: 20545 entries, RFC2 to LOC100505915\n",
      "dtypes: float64(20545)\n",
      "memory usage: 147.2+ MB\n"
     ]
    }
   ],
   "source": [
    "sel_flt.info()"
   ]
  },
  {
   "cell_type": "code",
   "execution_count": null,
   "metadata": {},
   "outputs": [],
   "source": [
    "# randoms para generacion de nueva data \n",
    "steps = np.random.uniform(size = int(n_samples_0_new[0]))\n",
    "\n",
    "# generacion de nueva data (rows) con SMOTE\n",
    "i=0\n",
    "df_news = None\n",
    "for index , row in sel_flt.iterrows():\n",
    "    d = {}\n",
    "    indexs = row.index.tolist()\n",
    "    values = row.values.tolist()\n",
    "    for j in range(len(indexs)):\n",
    "        d[indexs[j]] = [values [j]]\n",
    "    df_initial = pd.DataFrame(d)\n",
    "    \n",
    "    step = steps[i]\n",
    "    \n",
    "    #SMOTE\n",
    "    # df_new ES EL PUNTO SINTETICO Y TOMADO COMO MUESTRA DE \n",
    "    # LA CLASE MINORITARIA (0)\n",
    "    df_new = df_initial - step * (df_initial - random_row_df(sel_flt))\n",
    "    \n",
    "    #se concatena todos nuevos rows generados del SMOTE\n",
    "    df_news = pd.concat([df_news , df_new])\n",
    "    i = i +1 \n"
   ]
  },
  {
   "cell_type": "code",
   "execution_count": 76,
   "metadata": {},
   "outputs": [],
   "source": [
    "df_news['Tumor'] = 0\n",
    "dataset_smoted = pd.concat([dataset , df_news])\n",
    "\n",
    "# reseto de indices\n",
    "#dataset_smoted.reset_index(drop = True , inplace = True)\n"
   ]
  },
  {
   "cell_type": "code",
   "execution_count": 77,
   "metadata": {},
   "outputs": [
    {
     "data": {
      "text/plain": [
       "<matplotlib.axes._subplots.AxesSubplot at 0x1753b3e2780>"
      ]
     },
     "execution_count": 77,
     "metadata": {},
     "output_type": "execute_result"
    },
    {
     "data": {
      "image/png": "[encoded data removed]",
      "text/plain": [
       "<Figure size 432x288 with 1 Axes>"
      ]
     },
     "metadata": {
      "needs_background": "light"
     },
     "output_type": "display_data"
    }
   ],
   "source": [
    "sns.countplot(x='Tumor', data=dataset_smoted)"
   ]
  },
  {
   "cell_type": "code",
   "execution_count": 79,
   "metadata": {},
   "outputs": [
    {
     "data": {
      "text/plain": [
       "Tumor\n",
       "0    1086\n",
       "1    1086\n",
       "dtype: int64"
      ]
     },
     "execution_count": 79,
     "metadata": {},
     "output_type": "execute_result"
    }
   ],
   "source": [
    "dataset_smoted.groupby('Tumor').agg('size')"
   ]
  },
  {
   "cell_type": "code",
   "execution_count": 81,
   "metadata": {},
   "outputs": [],
   "source": [
    "dataset_smoted.to_csv('Data\\dataset_smoted.csv',header=True,index=True)"
   ]
  },
  {
   "cell_type": "code",
   "execution_count": null,
   "metadata": {},
   "outputs": [],
   "source": []
  }
 ],
 "metadata": {
  "kernelspec": {
   "display_name": "Python 3",
   "language": "python",
   "name": "python3"
  },
  "language_info": {
   "codemirror_mode": {
    "name": "ipython",
    "version": 3
   },
   "file_extension": ".py",
   "mimetype": "text/x-python",
   "name": "python",
   "nbconvert_exporter": "python",
   "pygments_lexer": "ipython3",
   "version": "3.7.3"
  }
 },
 "nbformat": 4,
 "nbformat_minor": 2
}
