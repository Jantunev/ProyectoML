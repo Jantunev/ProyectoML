{
  "nbformat": 4,
  "nbformat_minor": 0,
  "metadata": {
    "colab": {
      "name": "final_ahora_si.ipynb",
      "version": "0.3.2",
      "provenance": []
    },
    "kernelspec": {
      "name": "python3",
      "display_name": "Python 3"
    },
    "accelerator": "GPU"
  },
  "cells": [
    {
      "cell_type": "code",
      "metadata": {
        "id": "JpfI5YxWw-H_",
        "colab_type": "code",
        "outputId": "03758319-0d17-46b8-9132-e0e69c29cded",
        "colab": {
          "base_uri": "https://localhost:8080/",
          "height": 121
        }
      },
      "source": [
        "from google.colab import drive\n",
        "drive.mount('/content/drive')"
      ],
      "execution_count": 1,
      "outputs": [
        {
          "output_type": "stream",
          "text": [
            "Go to this URL in a browser: https://accounts.google.com/o/oauth2/auth?client_id=947318989803-6bn6qk8qdgf4n4g3pfee6491hc0brc4i.apps.googleusercontent.com&redirect_uri=urn%3Aietf%3Awg%3Aoauth%3A2.0%3Aoob&scope=email%20https%3A%2F%2Fwww.googleapis.com%2Fauth%2Fdocs.test%20https%3A%2F%2Fwww.googleapis.com%2Fauth%2Fdrive%20https%3A%2F%2Fwww.googleapis.com%2Fauth%2Fdrive.photos.readonly%20https%3A%2F%2Fwww.googleapis.com%2Fauth%2Fpeopleapi.readonly&response_type=code\n",
            "\n",
            "Enter your authorization code:\n",
            "··········\n",
            "Mounted at /content/drive\n"
          ],
          "name": "stdout"
        }
      ]
    },
    {
      "cell_type": "code",
      "metadata": {
        "id": "o6BvQ6jtxAgQ",
        "colab_type": "code",
        "outputId": "51803af3-efb0-4d99-a3ba-9468ad8d4733",
        "colab": {
          "base_uri": "https://localhost:8080/",
          "height": 34
        }
      },
      "source": [
        "%cd /content/drive/My Drive/"
      ],
      "execution_count": 2,
      "outputs": [
        {
          "output_type": "stream",
          "text": [
            "/content/drive/My Drive\n"
          ],
          "name": "stdout"
        }
      ]
    },
    {
      "cell_type": "code",
      "metadata": {
        "id": "CxcZWxv0u0mS",
        "colab_type": "code",
        "outputId": "00263010-2d33-4971-f67e-377613edbcc3",
        "colab": {
          "base_uri": "https://localhost:8080/",
          "height": 70
        }
      },
      "source": [
        "import numpy as np\n",
        "import pandas as pd\n",
        "from scipy import stats as st\n",
        "from sklearn.metrics import confusion_matrix\n",
        "import math\n",
        "from sklearn.svm import SVC\n",
        "from sklearn.metrics import cohen_kappa_score\n",
        "import seaborn as sns\n",
        "import random\n",
        "from sklearn.naive_bayes import GaussianNB\n",
        "%matplotlib inline\n",
        "import matplotlib.pyplot as plt\n",
        "from sklearn.model_selection import cross_val_score\n",
        "from sklearn.ensemble import RandomForestClassifier\n",
        "from sklearn.model_selection import GridSearchCV\n",
        "from sklearn import datasets, svm\n",
        "from sklearn.svm import SVC\n",
        "from sklearn.neural_network import MLPClassifier\n",
        "from sklearn import metrics\n",
        "from sklearn import neural_network\n",
        "from sklearn import datasets\n",
        "from itertools import product\n",
        "from mlxtend.classifier import EnsembleVoteClassifier\n",
        "import copy\n",
        "sns.set(rc={'figure.figsize':(8,8)})"
      ],
      "execution_count": 4,
      "outputs": [
        {
          "output_type": "stream",
          "text": [
            "/usr/local/lib/python3.6/dist-packages/sklearn/externals/six.py:31: DeprecationWarning: The module is deprecated in version 0.21 and will be removed in version 0.23 since we've dropped support for Python 2.7. Please rely on the official version of six (https://pypi.org/project/six/).\n",
            "  \"(https://pypi.org/project/six/).\", DeprecationWarning)\n"
          ],
          "name": "stderr"
        }
      ]
    },
    {
      "cell_type": "code",
      "metadata": {
        "id": "-LMeZbalwT25",
        "colab_type": "code",
        "outputId": "a8b113f1-5dc6-48d3-be45-b77dc3195dcd",
        "colab": {
          "base_uri": "https://localhost:8080/",
          "height": 50
        }
      },
      "source": [
        "df = pd.read_csv('dataset_smoted.csv', sep = \",\", header=0).iloc[:,1:].astype('float')\n",
        "\n",
        "y = df[['Tumor']]\n",
        "X = df.drop(['Tumor'], axis=1)"
      ],
      "execution_count": 5,
      "outputs": [
        {
          "output_type": "stream",
          "text": [
            "/usr/local/lib/python3.6/dist-packages/IPython/core/interactiveshell.py:2718: DtypeWarning: Columns (0) have mixed types. Specify dtype option on import or set low_memory=False.\n",
            "  interactivity=interactivity, compiler=compiler, result=result)\n"
          ],
          "name": "stderr"
        }
      ]
    },
    {
      "cell_type": "code",
      "metadata": {
        "id": "lfU1LKyqxKpx",
        "colab_type": "code",
        "colab": {}
      },
      "source": [
        "X_test = pd.read_csv('df_carac_test.csv', sep = \",\", header=0, index_col=0)\n",
        "y_test = pd.read_csv('df_y_test.csv', sep = \",\", header=0, index_col=0)\n",
        "X_test = X_test[X.columns]"
      ],
      "execution_count": 0,
      "outputs": []
    },
    {
      "cell_type": "code",
      "metadata": {
        "id": "T8mOTHo3wjL_",
        "colab_type": "code",
        "colab": {}
      },
      "source": [
        "from sklearn.model_selection import train_test_split\n",
        "X_train, X_val, y_train, y_val = train_test_split(X, y, test_size=0.1, random_state=42)"
      ],
      "execution_count": 0,
      "outputs": []
    },
    {
      "cell_type": "markdown",
      "metadata": {
        "id": "6pXrfMwqyEAB",
        "colab_type": "text"
      },
      "source": [
        "## Entrenamiento del modelo SVM"
      ]
    },
    {
      "cell_type": "code",
      "metadata": {
        "id": "900SxL5x2sxV",
        "colab_type": "code",
        "colab": {}
      },
      "source": [
        "svc = svm.SVC(kernel='linear', probability=True)\n",
        "\n",
        "Cs = np.logspace(-6, -1, 10)\n",
        "Gs = 10.0 ** np.arange(-4, 4)\n",
        "\n",
        "clf1_grid = GridSearchCV(estimator=svc, param_grid=dict(C=Cs, gamma=Gs), n_jobs=-1, scoring = 'recall', cv=2)"
      ],
      "execution_count": 0,
      "outputs": []
    },
    {
      "cell_type": "code",
      "metadata": {
        "id": "9qwFz1ZE2-uJ",
        "colab_type": "code",
        "outputId": "2265f833-dada-43e0-c0ff-44f86e21e2a6",
        "colab": {
          "base_uri": "https://localhost:8080/",
          "height": 298
        }
      },
      "source": [
        "clf1_grid.fit(X, y)"
      ],
      "execution_count": 0,
      "outputs": [
        {
          "output_type": "stream",
          "text": [
            "/usr/local/lib/python3.6/dist-packages/sklearn/utils/validation.py:724: DataConversionWarning: A column-vector y was passed when a 1d array was expected. Please change the shape of y to (n_samples, ), for example using ravel().\n",
            "  y = column_or_1d(y, warn=True)\n"
          ],
          "name": "stderr"
        },
        {
          "output_type": "execute_result",
          "data": {
            "text/plain": [
              "GridSearchCV(cv=2, error_score='raise-deprecating',\n",
              "             estimator=SVC(C=1.0, cache_size=200, class_weight=None, coef0=0.0,\n",
              "                           decision_function_shape='ovr', degree=3,\n",
              "                           gamma='auto_deprecated', kernel='linear',\n",
              "                           max_iter=-1, probability=True, random_state=None,\n",
              "                           shrinking=True, tol=0.001, verbose=False),\n",
              "             iid='warn', n_jobs=-1,\n",
              "             param_grid={'C': array([1.00000000e-06, 3.59381366e-06, 1.29154967e-05, 4.64158883e-05,\n",
              "       1.66810054e-04, 5.99484250e-04, 2.15443469e-03, 7.74263683e-03,\n",
              "       2.78255940e-02, 1.00000000e-01]),\n",
              "                         'gamma': array([1.e-04, 1.e-03, 1.e-02, 1.e-01, 1.e+00, 1.e+01, 1.e+02, 1.e+03])},\n",
              "             pre_dispatch='2*n_jobs', refit=True, return_train_score=False,\n",
              "             scoring='recall', verbose=0)"
            ]
          },
          "metadata": {
            "tags": []
          },
          "execution_count": 18
        }
      ]
    },
    {
      "cell_type": "code",
      "metadata": {
        "id": "DVl_Y0iC6Kxb",
        "colab_type": "code",
        "outputId": "11135470-5755-431a-e876-8e112979c4c1",
        "colab": {
          "base_uri": "https://localhost:8080/",
          "height": 86
        }
      },
      "source": [
        "svm_best = clf1_grid.best_estimator_\n",
        "print(svm_best, \". Recall:\", clf1_grid.best_score_)"
      ],
      "execution_count": 0,
      "outputs": [
        {
          "output_type": "stream",
          "text": [
            "SVC(C=0.007742636826811277, cache_size=200, class_weight=None, coef0=0.0,\n",
            "    decision_function_shape='ovr', degree=3, gamma=0.0001, kernel='linear',\n",
            "    max_iter=-1, probability=True, random_state=None, shrinking=True, tol=0.001,\n",
            "    verbose=False) . Recall: 0.9763860369609856\n"
          ],
          "name": "stdout"
        }
      ]
    },
    {
      "cell_type": "markdown",
      "metadata": {
        "id": "BQB8l4rRMloX",
        "colab_type": "text"
      },
      "source": [
        "\n",
        "---\n",
        "C = 0.007742636826811277\n",
        "\n",
        "---\n",
        "\n",
        "gamma = 0.0001\n",
        "\n",
        "\n",
        "---\n",
        "\n"
      ]
    },
    {
      "cell_type": "code",
      "metadata": {
        "id": "U8bPZ3Fj2pkz",
        "colab_type": "code",
        "colab": {}
      },
      "source": [
        "C_best = 0.007742636826811277\n",
        "gamma_best = 0.0001"
      ],
      "execution_count": 0,
      "outputs": []
    },
    {
      "cell_type": "code",
      "metadata": {
        "id": "PNz_PpfUYSNl",
        "colab_type": "code",
        "colab": {}
      },
      "source": [
        "clf1 = modelo_svm = SVC(kernel='linear',\n",
        "                        C = C_best,\n",
        "                        gamma = gamma_best,\n",
        "                        probability = True)"
      ],
      "execution_count": 0,
      "outputs": []
    },
    {
      "cell_type": "code",
      "metadata": {
        "id": "XlFQfRWoYqlK",
        "colab_type": "code",
        "outputId": "ebe181a8-d455-48ef-bbe9-1f5b41669dbb",
        "colab": {
          "base_uri": "https://localhost:8080/",
          "height": 138
        }
      },
      "source": [
        "clf1.fit(X, y)"
      ],
      "execution_count": 28,
      "outputs": [
        {
          "output_type": "stream",
          "text": [
            "/usr/local/lib/python3.6/dist-packages/sklearn/utils/validation.py:724: DataConversionWarning: A column-vector y was passed when a 1d array was expected. Please change the shape of y to (n_samples, ), for example using ravel().\n",
            "  y = column_or_1d(y, warn=True)\n"
          ],
          "name": "stderr"
        },
        {
          "output_type": "execute_result",
          "data": {
            "text/plain": [
              "SVC(C=0.007742636826811277, cache_size=200, class_weight=None, coef0=0.0,\n",
              "    decision_function_shape='ovr', degree=3, gamma=0.0001, kernel='linear',\n",
              "    max_iter=-1, probability=True, random_state=None, shrinking=True, tol=0.001,\n",
              "    verbose=False)"
            ]
          },
          "metadata": {
            "tags": []
          },
          "execution_count": 28
        }
      ]
    },
    {
      "cell_type": "code",
      "metadata": {
        "id": "I5M8Sxa9TJpA",
        "colab_type": "code",
        "colab": {}
      },
      "source": [
        "y_preds = clf1.predict_proba(X)\n",
        "preds = y_preds[:,1]\n",
        "\n",
        "fpr, tpr, _ = metrics.roc_curve(y, preds)\n",
        "auc_score = metrics.auc(fpr, tpr)"
      ],
      "execution_count": 0,
      "outputs": []
    },
    {
      "cell_type": "code",
      "metadata": {
        "id": "gRDoluU0YCKl",
        "colab_type": "code",
        "outputId": "16e033f7-3050-4b13-9f42-0b671dfc5d5f",
        "colab": {
          "base_uri": "https://localhost:8080/",
          "height": 518
        }
      },
      "source": [
        "plt.clf()\n",
        "\n",
        "plt.title('ROC Curve')\n",
        "plt.plot(fpr, tpr, label='AUC = {:.2f}'.format(auc_score))\n",
        "\n",
        "# it's helpful to add a diagonal to indicate where chance \n",
        "# scores lie (i.e. just flipping a coin)\n",
        "plt.plot([0,1],[0,1],'r--')\n",
        "\n",
        "plt.xlim([-0.1,1.1])\n",
        "plt.ylim([-0.1,1.1])\n",
        "plt.ylabel('Exhaustividad')\n",
        "plt.xlabel('Frecuencia de falsos positivos')\n",
        "\n",
        "plt.legend(loc='lower right')\n",
        "plt.show()"
      ],
      "execution_count": 0,
      "outputs": [
        {
          "output_type": "display_data",
          "data": {
            "image/png": "[encoded data removed]",
            "text/plain": [
              "<Figure size 576x576 with 1 Axes>"
            ]
          },
          "metadata": {
            "tags": []
          }
        }
      ]
    },
    {
      "cell_type": "code",
      "metadata": {
        "id": "iiQm81eGaRuo",
        "colab_type": "code",
        "colab": {}
      },
      "source": [
        "y_preds = (y_preds > 0.5).astype(int)\n",
        "a = []\n",
        "for i in range(0,len(y_preds)):\n",
        "  if y_preds[i][0] == 1:\n",
        "    a.append(0)\n",
        "  elif y_preds[i][1] == 1:\n",
        "    a.append(1)"
      ],
      "execution_count": 0,
      "outputs": []
    },
    {
      "cell_type": "code",
      "metadata": {
        "id": "B73pCkkLZEm1",
        "colab_type": "code",
        "outputId": "be8e0629-cf78-4b50-c358-309a5c5b30c0",
        "colab": {
          "base_uri": "https://localhost:8080/",
          "height": 52
        }
      },
      "source": [
        "c_matrix = confusion_matrix(y,a)\n",
        "c_matrix"
      ],
      "execution_count": 0,
      "outputs": [
        {
          "output_type": "execute_result",
          "data": {
            "text/plain": [
              "array([[974,   0],\n",
              "       [  0, 974]])"
            ]
          },
          "metadata": {
            "tags": []
          },
          "execution_count": 104
        }
      ]
    },
    {
      "cell_type": "code",
      "metadata": {
        "id": "I0GmmwqBjn3X",
        "colab_type": "code",
        "outputId": "adf84812-b2e8-4da3-96ae-3598a3a6d8e7",
        "colab": {
          "base_uri": "https://localhost:8080/",
          "height": 139
        }
      },
      "source": [
        "tn = c_matrix[0,0]\n",
        "tp = c_matrix[1,1]\n",
        "fn = c_matrix[1,0]\n",
        "fp = c_matrix[0,1]\n",
        "\n",
        "print(\"Recall:\", tp/(tp+fn))\n",
        "print(\"Specificity:\", tn/(tn+fp))\n",
        "print(\"Precision:\", tp/(tp+fp))\n",
        "print(\"Negative predictive value:\", tn/(tn+fn))\n",
        "print(\"Acuracy:\", (tp+tn)/(tp+tn+fp+fn))\n",
        "print(\"Matthews correlation coefficient:\", (tp*tn-fp*fn)/((tp+fp)*(tp+fn)*(tn+fp)*(tn+fn))**(1/2.0))\n",
        "print(\"Cohen Kappa\", cohen_kappa_score(y,a))"
      ],
      "execution_count": 0,
      "outputs": [
        {
          "output_type": "stream",
          "text": [
            "Recall: 1.0\n",
            "Specificity: 1.0\n",
            "Precision: 1.0\n",
            "Negative predictive value: 1.0\n",
            "Acuracy: 1.0\n",
            "Matthews correlation coefficient: 1.0\n",
            "Cohen Kappa 1.0\n"
          ],
          "name": "stdout"
        }
      ]
    },
    {
      "cell_type": "markdown",
      "metadata": {
        "id": "zF62vkD_lm83",
        "colab_type": "text"
      },
      "source": [
        "**Conjunto de datos de prueba:**"
      ]
    },
    {
      "cell_type": "code",
      "metadata": {
        "id": "ZPOeaiqOlbcm",
        "colab_type": "code",
        "outputId": "0f9384eb-0c85-4490-a1ed-44ef987779ca",
        "colab": {
          "base_uri": "https://localhost:8080/",
          "height": 52
        }
      },
      "source": [
        "y_preds = clf1.predict_proba(X_test)\n",
        "preds = y_preds[:,1]\n",
        "\n",
        "y_preds = (y_preds > 0.5).astype(int)\n",
        "a = []\n",
        "for i in range(0,len(y_preds)):\n",
        "  if y_preds[i][0] == 1:\n",
        "    a.append(0)\n",
        "  elif y_preds[i][1] == 1:\n",
        "    a.append(1)\n",
        "    \n",
        "c_matrix = confusion_matrix(y_test,a)\n",
        "c_matrix"
      ],
      "execution_count": 0,
      "outputs": [
        {
          "output_type": "execute_result",
          "data": {
            "text/plain": [
              "array([[  9,   3],\n",
              "       [  0, 112]])"
            ]
          },
          "metadata": {
            "tags": []
          },
          "execution_count": 106
        }
      ]
    },
    {
      "cell_type": "code",
      "metadata": {
        "id": "Bda9STfImj-E",
        "colab_type": "code",
        "outputId": "c0351817-5fd6-49df-a0b8-2a5a1a169fd2",
        "colab": {
          "base_uri": "https://localhost:8080/",
          "height": 139
        }
      },
      "source": [
        "tn = c_matrix[0,0]\n",
        "tp = c_matrix[1,1]\n",
        "fn = c_matrix[1,0]\n",
        "fp = c_matrix[0,1]\n",
        "\n",
        "print(\"Recall:\", tp/(tp+fn))\n",
        "print(\"Specificity:\", tn/(tn+fp))\n",
        "print(\"Precision:\", tp/(tp+fp))\n",
        "print(\"Negative predictive value:\", tn/(tn+fn))\n",
        "print(\"Acuracy:\", (tp+tn)/(tp+tn+fp+fn))\n",
        "print(\"Matthews correlation coefficient:\", (tp*tn-fp*fn)/((tp+fp)*(tp+fn)*(tn+fp)*(tn+fn))**(1/2.0))\n",
        "print(\"Cohen Kappa\", cohen_kappa_score(y_test,a))"
      ],
      "execution_count": 0,
      "outputs": [
        {
          "output_type": "stream",
          "text": [
            "Recall: 1.0\n",
            "Specificity: 0.75\n",
            "Precision: 0.9739130434782609\n",
            "Negative predictive value: 1.0\n",
            "Acuracy: 0.9758064516129032\n",
            "Matthews correlation coefficient: 0.8546547739343037\n",
            "Cohen Kappa 0.8442211055276382\n"
          ],
          "name": "stdout"
        }
      ]
    },
    {
      "cell_type": "markdown",
      "metadata": {
        "id": "KEONa6L_07jC",
        "colab_type": "text"
      },
      "source": [
        "## Entrenamiento del modelo Redes Neuronales"
      ]
    },
    {
      "cell_type": "code",
      "metadata": {
        "id": "sEAs-12uRJMi",
        "colab_type": "code",
        "colab": {}
      },
      "source": [
        "mlp = MLPClassifier(hidden_layer_sizes=(2,2000),\n",
        "                    solver='lbfgs')"
      ],
      "execution_count": 0,
      "outputs": []
    },
    {
      "cell_type": "code",
      "metadata": {
        "id": "1YPpAioc8Qa6",
        "colab_type": "code",
        "colab": {}
      },
      "source": [
        "iters = [500]\n",
        "alphas = [1e-5]\n",
        "\n",
        "clf2_grid = GridSearchCV(mlp,\n",
        "                         param_grid = dict(max_iter = iters, alpha = alphas),\n",
        "                         n_jobs = -1,\n",
        "                         scoring = 'recall',\n",
        "                         cv = 2,\n",
        "                         verbose = 10)"
      ],
      "execution_count": 0,
      "outputs": []
    },
    {
      "cell_type": "code",
      "metadata": {
        "id": "QFbWSYAKPp4X",
        "colab_type": "code",
        "outputId": "15706ff3-7560-46bd-b681-db1e2ff89930",
        "colab": {
          "base_uri": "https://localhost:8080/",
          "height": 454
        }
      },
      "source": [
        "clf2_grid.fit(X, y)"
      ],
      "execution_count": 0,
      "outputs": [
        {
          "output_type": "stream",
          "text": [
            "Fitting 2 folds for each of 1 candidates, totalling 2 fits\n"
          ],
          "name": "stdout"
        },
        {
          "output_type": "stream",
          "text": [
            "[Parallel(n_jobs=-1)]: Using backend LokyBackend with 2 concurrent workers.\n",
            "[Parallel(n_jobs=-1)]: Done   2 out of   2 | elapsed:    2.8s remaining:    0.0s\n",
            "[Parallel(n_jobs=-1)]: Done   2 out of   2 | elapsed:    2.8s finished\n",
            "/usr/local/lib/python3.6/dist-packages/sklearn/neural_network/multilayer_perceptron.py:921: DataConversionWarning: A column-vector y was passed when a 1d array was expected. Please change the shape of y to (n_samples, ), for example using ravel().\n",
            "  y = column_or_1d(y, warn=True)\n"
          ],
          "name": "stderr"
        },
        {
          "output_type": "execute_result",
          "data": {
            "text/plain": [
              "GridSearchCV(cv=2, error_score='raise-deprecating',\n",
              "             estimator=MLPClassifier(activation='relu', alpha=0.0001,\n",
              "                                     batch_size='auto', beta_1=0.9,\n",
              "                                     beta_2=0.999, early_stopping=False,\n",
              "                                     epsilon=1e-08,\n",
              "                                     hidden_layer_sizes=(2, 2000),\n",
              "                                     learning_rate='constant',\n",
              "                                     learning_rate_init=0.001, max_iter=200,\n",
              "                                     momentum=0.9, n_iter_no_change=10,\n",
              "                                     nesterovs_momentum=True, power_t=0.5,\n",
              "                                     random_state=None, shuffle=True,\n",
              "                                     solver='lbfgs', tol=0.0001,\n",
              "                                     validation_fraction=0.1, verbose=False,\n",
              "                                     warm_start=False),\n",
              "             iid='warn', n_jobs=-1,\n",
              "             param_grid={'alpha': [1e-05], 'max_iter': [500]},\n",
              "             pre_dispatch='2*n_jobs', refit=True, return_train_score=False,\n",
              "             scoring='recall', verbose=10)"
            ]
          },
          "metadata": {
            "tags": []
          },
          "execution_count": 43
        }
      ]
    },
    {
      "cell_type": "code",
      "metadata": {
        "id": "_D_V1tpnJzOX",
        "colab_type": "code",
        "outputId": "25ea7354-c986-4402-f50c-510f12c5779c",
        "colab": {
          "base_uri": "https://localhost:8080/",
          "height": 139
        }
      },
      "source": [
        "nn_best = clf2_grid.best_estimator_\n",
        "print(nn_best, \". Recall:\", clf2_grid.best_score_)"
      ],
      "execution_count": 0,
      "outputs": [
        {
          "output_type": "stream",
          "text": [
            "MLPClassifier(activation='relu', alpha=1e-05, batch_size='auto', beta_1=0.9,\n",
            "              beta_2=0.999, early_stopping=False, epsilon=1e-08,\n",
            "              hidden_layer_sizes=(2, 2000), learning_rate='constant',\n",
            "              learning_rate_init=0.001, max_iter=500, momentum=0.9,\n",
            "              n_iter_no_change=10, nesterovs_momentum=True, power_t=0.5,\n",
            "              random_state=None, shuffle=True, solver='lbfgs', tol=0.0001,\n",
            "              validation_fraction=0.1, verbose=False, warm_start=False) . Recall: 0.5\n"
          ],
          "name": "stdout"
        }
      ]
    },
    {
      "cell_type": "markdown",
      "metadata": {
        "id": "p2mv31DkvBvm",
        "colab_type": "text"
      },
      "source": [
        "\n",
        "\n",
        "---\n",
        "\n",
        "max_iter = 500\n",
        "\n",
        "\n",
        "---\n",
        "alpha = 0.01\n",
        "\n",
        "\n",
        "---\n",
        "\n",
        "hidden_layer_sizes = 2000\n",
        "\n",
        "---\n",
        "\n",
        "\n"
      ]
    },
    {
      "cell_type": "code",
      "metadata": {
        "id": "GsfKMbAVEWSW",
        "colab_type": "code",
        "outputId": "be9e7c1f-5a72-4933-ab3a-cbca64cf4322",
        "colab": {
          "base_uri": "https://localhost:8080/",
          "height": 188
        }
      },
      "source": [
        "clf2 = MLPClassifier(activation='relu', alpha=1e-05, batch_size='auto', beta_1=0.9,\n",
        "              beta_2=0.999, early_stopping=False, epsilon=1e-08,\n",
        "              hidden_layer_sizes=(2, 2000), learning_rate='constant',\n",
        "              learning_rate_init=0.001, max_iter=500, momentum=0.9,\n",
        "              n_iter_no_change=10, nesterovs_momentum=True, power_t=0.5,\n",
        "              random_state=None, shuffle=True, solver='lbfgs', tol=0.0001,\n",
        "              validation_fraction=0.1, verbose=False, warm_start=False)\n",
        "\n",
        "clf2.fit(X, y)"
      ],
      "execution_count": 29,
      "outputs": [
        {
          "output_type": "stream",
          "text": [
            "/usr/local/lib/python3.6/dist-packages/sklearn/neural_network/multilayer_perceptron.py:921: DataConversionWarning: A column-vector y was passed when a 1d array was expected. Please change the shape of y to (n_samples, ), for example using ravel().\n",
            "  y = column_or_1d(y, warn=True)\n"
          ],
          "name": "stderr"
        },
        {
          "output_type": "execute_result",
          "data": {
            "text/plain": [
              "MLPClassifier(activation='relu', alpha=1e-05, batch_size='auto', beta_1=0.9,\n",
              "              beta_2=0.999, early_stopping=False, epsilon=1e-08,\n",
              "              hidden_layer_sizes=(2, 2000), learning_rate='constant',\n",
              "              learning_rate_init=0.001, max_iter=500, momentum=0.9,\n",
              "              n_iter_no_change=10, nesterovs_momentum=True, power_t=0.5,\n",
              "              random_state=None, shuffle=True, solver='lbfgs', tol=0.0001,\n",
              "              validation_fraction=0.1, verbose=False, warm_start=False)"
            ]
          },
          "metadata": {
            "tags": []
          },
          "execution_count": 29
        }
      ]
    },
    {
      "cell_type": "code",
      "metadata": {
        "id": "ZxUSUQeMvDh1",
        "colab_type": "code",
        "colab": {}
      },
      "source": [
        "y_preds = clf2.predict_proba(X)\n",
        "preds = y_preds[:,1]\n",
        "\n",
        "fpr, tpr, _ = metrics.roc_curve(y, preds)\n",
        "auc_score = metrics.auc(fpr, tpr)"
      ],
      "execution_count": 0,
      "outputs": []
    },
    {
      "cell_type": "code",
      "metadata": {
        "id": "lErb6SDCvR45",
        "colab_type": "code",
        "outputId": "224f7904-f70e-4a78-f060-caecf9e899cc",
        "colab": {
          "base_uri": "https://localhost:8080/",
          "height": 518
        }
      },
      "source": [
        "plt.clf()\n",
        "\n",
        "plt.title('ROC Curve')\n",
        "plt.plot(fpr, tpr, label='AUC = {:.2f}'.format(auc_score))\n",
        "\n",
        "# it's helpful to add a diagonal to indicate where chance \n",
        "# scores lie (i.e. just flipping a coin)\n",
        "plt.plot([0,1],[0,1],'r--')\n",
        "\n",
        "plt.xlim([-0.1,1.1])\n",
        "plt.ylim([-0.1,1.1])\n",
        "plt.ylabel('Exhaustividad')\n",
        "plt.xlabel('Frecuencia de falsos positivos')\n",
        "\n",
        "plt.legend(loc='lower right')\n",
        "plt.show()"
      ],
      "execution_count": 0,
      "outputs": [
        {
          "output_type": "display_data",
          "data": {
            "image/png": "[encoded data removed]",
            "text/plain": [
              "<Figure size 576x576 with 1 Axes>"
            ]
          },
          "metadata": {
            "tags": []
          }
        }
      ]
    },
    {
      "cell_type": "code",
      "metadata": {
        "id": "HAvGMZljvUxE",
        "colab_type": "code",
        "colab": {}
      },
      "source": [
        "y_preds = (y_preds > 0.5).astype(int)\n",
        "a = []\n",
        "for i in range(0,len(y_preds)):\n",
        "  if y_preds[i][0] == 1:\n",
        "    a.append(0)\n",
        "  elif y_preds[i][1] == 1:\n",
        "    a.append(1)"
      ],
      "execution_count": 0,
      "outputs": []
    },
    {
      "cell_type": "code",
      "metadata": {
        "id": "ti_btd9QvXZU",
        "colab_type": "code",
        "outputId": "90257b45-6eb3-4632-f167-440106cb3e87",
        "colab": {
          "base_uri": "https://localhost:8080/",
          "height": 52
        }
      },
      "source": [
        "c_matrix = confusion_matrix(y,a)\n",
        "c_matrix"
      ],
      "execution_count": 0,
      "outputs": [
        {
          "output_type": "execute_result",
          "data": {
            "text/plain": [
              "array([[974,   0],\n",
              "       [  0, 974]])"
            ]
          },
          "metadata": {
            "tags": []
          },
          "execution_count": 97
        }
      ]
    },
    {
      "cell_type": "code",
      "metadata": {
        "id": "7OW-egWOva30",
        "colab_type": "code",
        "outputId": "e3c682e0-9834-4211-d921-8af970241e17",
        "colab": {
          "base_uri": "https://localhost:8080/",
          "height": 139
        }
      },
      "source": [
        "tn = c_matrix[0,0]\n",
        "tp = c_matrix[1,1]\n",
        "fn = c_matrix[1,0]\n",
        "fp = c_matrix[0,1]\n",
        "\n",
        "print(\"Exhaustividad:\", tp/(tp+fn))\n",
        "print(\"Especificidad:\", tn/(tn+fp))\n",
        "print(\"Precisión:\", tp/(tp+fp))\n",
        "print(\"Valor predictivo negativo:\", tn/(tn+fn))\n",
        "print(\"Exactitud:\", (tp+tn)/(tp+tn+fp+fn))\n",
        "print(\"Coeficiente de correlación de Matthews:\", (tp*tn-fp*fn)/((tp+fp)*(tp+fn)*(tn+fp)*(tn+fn))**(1/2.0))\n",
        "print(\"Cohen Kappa\", cohen_kappa_score(y,a))"
      ],
      "execution_count": 0,
      "outputs": [
        {
          "output_type": "stream",
          "text": [
            "Exhaustividad: 1.0\n",
            "Especificidad: 1.0\n",
            "Precisión: 1.0\n",
            "Valor predictivo negativo: 1.0\n",
            "Exactitud: 1.0\n",
            "Coeficiente de correlación de Matthews: 1.0\n",
            "Cohen Kappa 1.0\n"
          ],
          "name": "stdout"
        }
      ]
    },
    {
      "cell_type": "markdown",
      "metadata": {
        "id": "HuNATMzb4SJH",
        "colab_type": "text"
      },
      "source": [
        "**Conjunto de datos de prueba**"
      ]
    },
    {
      "cell_type": "code",
      "metadata": {
        "id": "CCDqeBkY4RmC",
        "colab_type": "code",
        "outputId": "48b5181a-df1a-4115-ff3f-c4cb029e0249",
        "colab": {
          "base_uri": "https://localhost:8080/",
          "height": 52
        }
      },
      "source": [
        "y_preds = clf3.predict_proba(X_test)\n",
        "preds = y_preds[:,1]\n",
        "\n",
        "y_preds = (y_preds > 0.5).astype(int)\n",
        "a = []\n",
        "for i in range(0,len(y_preds)):\n",
        "  if y_preds[i][0] == 1:\n",
        "    a.append(0)\n",
        "  elif y_preds[i][1] == 1:\n",
        "    a.append(1)\n",
        "    \n",
        "c_matrix = confusion_matrix(y_test,a)\n",
        "c_matrix"
      ],
      "execution_count": 0,
      "outputs": [
        {
          "output_type": "execute_result",
          "data": {
            "text/plain": [
              "array([[ 10,   2],\n",
              "       [  8, 104]])"
            ]
          },
          "metadata": {
            "tags": []
          },
          "execution_count": 99
        }
      ]
    },
    {
      "cell_type": "code",
      "metadata": {
        "id": "D1yGckdM4SrS",
        "colab_type": "code",
        "outputId": "e3d9b875-cd79-45ad-aa93-a00b2f2f124a",
        "colab": {
          "base_uri": "https://localhost:8080/",
          "height": 139
        }
      },
      "source": [
        "tn = c_matrix[0,0]\n",
        "tp = c_matrix[1,1]\n",
        "fn = c_matrix[1,0]\n",
        "fp = c_matrix[0,1]\n",
        "\n",
        "print(\"Recall:\", tp/(tp+fn))\n",
        "print(\"Specificity:\", tn/(tn+fp))\n",
        "print(\"Precision:\", tp/(tp+fp))\n",
        "print(\"Negative predictive value:\", tn/(tn+fn))\n",
        "print(\"Acuracy:\", (tp+tn)/(tp+tn+fp+fn))\n",
        "print(\"Matthews correlation coefficient:\", (tp*tn-fp*fn)/((tp+fp)*(tp+fn)*(tn+fp)*(tn+fn))**(1/2.0))\n",
        "print(\"Cohen Kappa\", cohen_kappa_score(y_test,a))"
      ],
      "execution_count": 0,
      "outputs": [
        {
          "output_type": "stream",
          "text": [
            "Recall: 0.9285714285714286\n",
            "Specificity: 0.8333333333333334\n",
            "Precision: 0.9811320754716981\n",
            "Negative predictive value: 0.5555555555555556\n",
            "Acuracy: 0.9193548387096774\n",
            "Matthews correlation coefficient: 0.6394566926188594\n",
            "Cohen Kappa 0.6228710462287105\n"
          ],
          "name": "stdout"
        }
      ]
    },
    {
      "cell_type": "markdown",
      "metadata": {
        "id": "Uh_lVlpUEHvW",
        "colab_type": "text"
      },
      "source": [
        "## Entrenamiento del modelo Naive Bayes"
      ]
    },
    {
      "cell_type": "code",
      "metadata": {
        "id": "IXG-fG4dJzXW",
        "colab_type": "code",
        "colab": {}
      },
      "source": [
        "parameters = {\"var_smoothing\" : np.linspace(1e-01,1e-10,10).astype(int)}"
      ],
      "execution_count": 0,
      "outputs": []
    },
    {
      "cell_type": "code",
      "metadata": {
        "id": "g_wPVD5HJzTH",
        "colab_type": "code",
        "outputId": "6c716d32-f1b3-4cc9-8ce4-c60b9bb3eafc",
        "colab": {
          "base_uri": "https://localhost:8080/",
          "height": 315
        }
      },
      "source": [
        "clf3_grid = GridSearchCV(GaussianNB(), parameters, n_jobs=-1, scoring = 'recall', cv=2, verbose=10)\n",
        "clf3_grid.fit(X, y)"
      ],
      "execution_count": 0,
      "outputs": [
        {
          "output_type": "stream",
          "text": [
            "Fitting 2 folds for each of 10 candidates, totalling 20 fits\n"
          ],
          "name": "stdout"
        },
        {
          "output_type": "stream",
          "text": [
            "[Parallel(n_jobs=-1)]: Using backend LokyBackend with 2 concurrent workers.\n",
            "[Parallel(n_jobs=-1)]: Done   1 tasks      | elapsed:    1.9s\n",
            "[Parallel(n_jobs=-1)]: Done   4 tasks      | elapsed:    3.0s\n",
            "[Parallel(n_jobs=-1)]: Done   9 tasks      | elapsed:    5.0s\n",
            "[Parallel(n_jobs=-1)]: Done  14 tasks      | elapsed:    6.8s\n",
            "[Parallel(n_jobs=-1)]: Done  20 out of  20 | elapsed:    8.9s remaining:    0.0s\n",
            "[Parallel(n_jobs=-1)]: Done  20 out of  20 | elapsed:    8.9s finished\n",
            "/usr/local/lib/python3.6/dist-packages/sklearn/utils/validation.py:724: DataConversionWarning: A column-vector y was passed when a 1d array was expected. Please change the shape of y to (n_samples, ), for example using ravel().\n",
            "  y = column_or_1d(y, warn=True)\n"
          ],
          "name": "stderr"
        },
        {
          "output_type": "execute_result",
          "data": {
            "text/plain": [
              "GridSearchCV(cv=2, error_score='raise-deprecating',\n",
              "             estimator=GaussianNB(priors=None, var_smoothing=1e-09), iid='warn',\n",
              "             n_jobs=-1,\n",
              "             param_grid={'var_smoothing': array([0, 0, 0, 0, 0, 0, 0, 0, 0, 0])},\n",
              "             pre_dispatch='2*n_jobs', refit=True, return_train_score=False,\n",
              "             scoring='recall', verbose=10)"
            ]
          },
          "metadata": {
            "tags": []
          },
          "execution_count": 18
        }
      ]
    },
    {
      "cell_type": "code",
      "metadata": {
        "id": "pYX-9OFUJzQ0",
        "colab_type": "code",
        "outputId": "f56dc76e-770d-45b3-db0c-fb38dff1d4c6",
        "colab": {
          "base_uri": "https://localhost:8080/",
          "height": 34
        }
      },
      "source": [
        "nb_best = clf3_grid.best_estimator_\n",
        "print(nb_best, \". Recall:\", clf3_grid.best_score_)"
      ],
      "execution_count": 0,
      "outputs": [
        {
          "output_type": "stream",
          "text": [
            "GaussianNB(priors=None, var_smoothing=0) . Recall: 0.9342915811088296\n"
          ],
          "name": "stdout"
        }
      ]
    },
    {
      "cell_type": "markdown",
      "metadata": {
        "id": "UP7nUj8CqPTY",
        "colab_type": "text"
      },
      "source": [
        "\n",
        "\n",
        "---\n",
        "\n",
        "var_smoothing = 0\n",
        "\n",
        "---\n",
        "\n"
      ]
    },
    {
      "cell_type": "code",
      "metadata": {
        "id": "UB41S03C2yfW",
        "colab_type": "code",
        "colab": {}
      },
      "source": [
        "var_smoothing_best = 0"
      ],
      "execution_count": 0,
      "outputs": []
    },
    {
      "cell_type": "code",
      "metadata": {
        "id": "DEi89jo7JzKK",
        "colab_type": "code",
        "outputId": "13a8cf81-937b-42d6-8966-5aad10dd1a56",
        "colab": {
          "base_uri": "https://localhost:8080/",
          "height": 87
        }
      },
      "source": [
        "clf3 = GaussianNB(var_smoothing = var_smoothing_best)\n",
        "clf3.fit(X, y)"
      ],
      "execution_count": 31,
      "outputs": [
        {
          "output_type": "stream",
          "text": [
            "/usr/local/lib/python3.6/dist-packages/sklearn/utils/validation.py:724: DataConversionWarning: A column-vector y was passed when a 1d array was expected. Please change the shape of y to (n_samples, ), for example using ravel().\n",
            "  y = column_or_1d(y, warn=True)\n"
          ],
          "name": "stderr"
        },
        {
          "output_type": "execute_result",
          "data": {
            "text/plain": [
              "GaussianNB(priors=None, var_smoothing=0)"
            ]
          },
          "metadata": {
            "tags": []
          },
          "execution_count": 31
        }
      ]
    },
    {
      "cell_type": "code",
      "metadata": {
        "id": "f9TKVCPvrgwt",
        "colab_type": "code",
        "colab": {}
      },
      "source": [
        "y_preds = clf3.predict_proba(X)\n",
        "preds = y_preds[:,1]\n",
        "\n",
        "fpr, tpr, _ = metrics.roc_curve(y, preds)\n",
        "auc_score = metrics.auc(fpr, tpr)"
      ],
      "execution_count": 0,
      "outputs": []
    },
    {
      "cell_type": "code",
      "metadata": {
        "id": "CnjS0reVsQ7V",
        "colab_type": "code",
        "outputId": "8d71e2c4-6c04-4906-c018-dac40ec47d46",
        "colab": {
          "base_uri": "https://localhost:8080/",
          "height": 518
        }
      },
      "source": [
        "plt.clf()\n",
        "\n",
        "plt.title('ROC Curve')\n",
        "plt.plot(fpr, tpr, label='AUC = {:.2f}'.format(auc_score))\n",
        "\n",
        "# it's helpful to add a diagonal to indicate where chance \n",
        "# scores lie (i.e. just flipping a coin)\n",
        "plt.plot([0,1],[0,1],'r--')\n",
        "\n",
        "plt.xlim([-0.1,1.1])\n",
        "plt.ylim([-0.1,1.1])\n",
        "plt.ylabel('Exhaustividad')\n",
        "plt.xlabel('Frecuencia de falsos positivos')\n",
        "\n",
        "plt.legend(loc='lower right')\n",
        "plt.show()"
      ],
      "execution_count": 0,
      "outputs": [
        {
          "output_type": "display_data",
          "data": {
            "image/png": "[encoded data removed]",
            "text/plain": [
              "<Figure size 576x576 with 1 Axes>"
            ]
          },
          "metadata": {
            "tags": []
          }
        }
      ]
    },
    {
      "cell_type": "code",
      "metadata": {
        "id": "6YdN5LiMshhI",
        "colab_type": "code",
        "colab": {}
      },
      "source": [
        "y_preds = (y_preds > 0.5).astype(int)\n",
        "a = []\n",
        "for i in range(0,len(y_preds)):\n",
        "  if y_preds[i][0] == 1:\n",
        "    a.append(0)\n",
        "  elif y_preds[i][1] == 1:\n",
        "    a.append(1)"
      ],
      "execution_count": 0,
      "outputs": []
    },
    {
      "cell_type": "code",
      "metadata": {
        "id": "TG_Nc-fpsnQ0",
        "colab_type": "code",
        "outputId": "9aa41302-e1cf-429f-c437-9261ab9b74da",
        "colab": {
          "base_uri": "https://localhost:8080/",
          "height": 52
        }
      },
      "source": [
        "c_matrix = confusion_matrix(y,a)\n",
        "c_matrix"
      ],
      "execution_count": 0,
      "outputs": [
        {
          "output_type": "execute_result",
          "data": {
            "text/plain": [
              "array([[923,  51],\n",
              "       [ 66, 908]])"
            ]
          },
          "metadata": {
            "tags": []
          },
          "execution_count": 24
        }
      ]
    },
    {
      "cell_type": "code",
      "metadata": {
        "id": "SGPWCw6EsrL3",
        "colab_type": "code",
        "outputId": "f481ec0c-f115-4c86-835d-9cdd87cbad21",
        "colab": {
          "base_uri": "https://localhost:8080/",
          "height": 139
        }
      },
      "source": [
        "tn = c_matrix[0,0]\n",
        "tp = c_matrix[1,1]\n",
        "fn = c_matrix[1,0]\n",
        "fp = c_matrix[0,1]\n",
        "\n",
        "print(\"Recall:\", tp/(tp+fn))\n",
        "print(\"Specificity:\", tn/(tn+fp))\n",
        "print(\"Precision:\", tp/(tp+fp))\n",
        "print(\"Negative predictive value:\", tn/(tn+fn))\n",
        "print(\"Acuracy:\", (tp+tn)/(tp+tn+fp+fn))\n",
        "print(\"Matthews correlation coefficient:\", (tp*tn-fp*fn)/((tp+fp)*(tp+fn)*(tn+fp)*(tn+fn))**(1/2.0))\n",
        "print(\"Cohen Kappa\", cohen_kappa_score(y,a))"
      ],
      "execution_count": 0,
      "outputs": [
        {
          "output_type": "stream",
          "text": [
            "Recall: 0.9322381930184805\n",
            "Specificity: 0.9476386036960985\n",
            "Precision: 0.9468196037539103\n",
            "Negative predictive value: 0.9332659251769464\n",
            "Acuracy: 0.9399383983572895\n",
            "Matthews correlation coefficient: 0.8799811566337873\n",
            "Cohen Kappa 0.8798767967145791\n"
          ],
          "name": "stdout"
        }
      ]
    },
    {
      "cell_type": "markdown",
      "metadata": {
        "id": "EE40AqBWnDAI",
        "colab_type": "text"
      },
      "source": [
        "**Conjunto de datos de prueba**"
      ]
    },
    {
      "cell_type": "code",
      "metadata": {
        "id": "CCPMcywanCg8",
        "colab_type": "code",
        "outputId": "813a586f-61ea-4feb-d649-57209e8b2f15",
        "colab": {
          "base_uri": "https://localhost:8080/",
          "height": 52
        }
      },
      "source": [
        "y_preds = clf3.predict_proba(X_test)\n",
        "preds = y_preds[:,1]\n",
        "\n",
        "y_preds = (y_preds > 0.5).astype(int)\n",
        "a = []\n",
        "for i in range(0,len(y_preds)):\n",
        "  if y_preds[i][0] == 1:\n",
        "    a.append(0)\n",
        "  elif y_preds[i][1] == 1:\n",
        "    a.append(1)\n",
        "    \n",
        "c_matrix = confusion_matrix(y_test,a)\n",
        "c_matrix"
      ],
      "execution_count": 0,
      "outputs": [
        {
          "output_type": "execute_result",
          "data": {
            "text/plain": [
              "array([[ 10,   2],\n",
              "       [  8, 104]])"
            ]
          },
          "metadata": {
            "tags": []
          },
          "execution_count": 31
        }
      ]
    },
    {
      "cell_type": "code",
      "metadata": {
        "id": "Pa3LC9VunNGD",
        "colab_type": "code",
        "outputId": "de8cbbe7-d699-452d-aaed-e04e8d5152b1",
        "colab": {
          "base_uri": "https://localhost:8080/",
          "height": 139
        }
      },
      "source": [
        "tn = c_matrix[0,0]\n",
        "tp = c_matrix[1,1]\n",
        "fn = c_matrix[1,0]\n",
        "fp = c_matrix[0,1]\n",
        "\n",
        "print(\"Recall:\", tp/(tp+fn))\n",
        "print(\"Specificity:\", tn/(tn+fp))\n",
        "print(\"Precision:\", tp/(tp+fp))\n",
        "print(\"Negative predictive value:\", tn/(tn+fn))\n",
        "print(\"Acuracy:\", (tp+tn)/(tp+tn+fp+fn))\n",
        "print(\"Matthews correlation coefficient:\", (tp*tn-fp*fn)/((tp+fp)*(tp+fn)*(tn+fp)*(tn+fn))**(1/2.0))\n",
        "print(\"Cohen Kappa\", cohen_kappa_score(y_test,a))"
      ],
      "execution_count": 0,
      "outputs": [
        {
          "output_type": "stream",
          "text": [
            "Recall: 0.9285714285714286\n",
            "Specificity: 0.8333333333333334\n",
            "Precision: 0.9811320754716981\n",
            "Negative predictive value: 0.5555555555555556\n",
            "Acuracy: 0.9193548387096774\n",
            "Matthews correlation coefficient: 0.6394566926188594\n",
            "Cohen Kappa 0.6228710462287105\n"
          ],
          "name": "stdout"
        }
      ]
    },
    {
      "cell_type": "markdown",
      "metadata": {
        "id": "wSofqf_Yvpjx",
        "colab_type": "text"
      },
      "source": [
        "## Entrenamiento del modelo Random Forest"
      ]
    },
    {
      "cell_type": "code",
      "metadata": {
        "id": "yd_jJ2pAvocd",
        "colab_type": "code",
        "colab": {}
      },
      "source": [
        "parameters = { \n",
        "    'n_estimators': [30, 50, 75, 100, 150, 200, 500],\n",
        "    'max_features': ['auto', 'sqrt', 'log2'],\n",
        "    'max_depth' : [4, 5, 6, 7, 8, 15, 20],\n",
        "    'criterion' :['gini', 'entropy']\n",
        "}"
      ],
      "execution_count": 0,
      "outputs": []
    },
    {
      "cell_type": "code",
      "metadata": {
        "id": "FB318DewwG97",
        "colab_type": "code",
        "colab": {}
      },
      "source": [
        "clf4_grid = GridSearchCV(RandomForestClassifier(), \n",
        "                         param_grid=parameters, \n",
        "                         cv = 2, \n",
        "                         n_jobs = -1, \n",
        "                         scoring = 'recall', \n",
        "                         verbose = 10)\n",
        "clf4_grid.fit(X, y)"
      ],
      "execution_count": 0,
      "outputs": []
    },
    {
      "cell_type": "code",
      "metadata": {
        "id": "bqsbB3dfw9I0",
        "colab_type": "code",
        "colab": {}
      },
      "source": [
        "rf_best = clf4_grid.best_estimator_\n",
        "print(rf_best, \". Recall:\", clf4_grid.best_score_)"
      ],
      "execution_count": 0,
      "outputs": []
    },
    {
      "cell_type": "markdown",
      "metadata": {
        "id": "7WaYkDi4xGd7",
        "colab_type": "text"
      },
      "source": [
        "\n",
        "\n",
        "---\n",
        "\n",
        "\n",
        "n_estimators_best = 50\n",
        "\n",
        "\n",
        "---\n",
        "\n",
        "\n",
        "max_features_best = 'sqrt'\n",
        "\n",
        "\n",
        "---\n",
        "\n",
        "\n",
        "max_depth_best = 8\n",
        "\n",
        "\n",
        "---\n",
        "\n",
        "\n",
        "criterion_best = 'entropy'\n",
        "\n",
        "\n",
        "\n",
        "---\n",
        "\n",
        "\n"
      ]
    },
    {
      "cell_type": "code",
      "metadata": {
        "id": "P0uF3tlsxSQK",
        "colab_type": "code",
        "outputId": "5d7d5d5c-709d-4feb-f020-257743d716d5",
        "colab": {
          "base_uri": "https://localhost:8080/",
          "height": 188
        }
      },
      "source": [
        "clf4 = RandomForestClassifier(bootstrap=True, class_weight=None, criterion='entropy',\n",
        "                              max_depth=8, max_features='sqrt', max_leaf_nodes=None,\n",
        "                              min_impurity_decrease=0.0, min_impurity_split=None,\n",
        "                              min_samples_leaf=1, min_samples_split=2,\n",
        "                              min_weight_fraction_leaf=0.0, n_estimators=50,\n",
        "                              n_jobs=None, oob_score=False, random_state=None,\n",
        "                              verbose=0, warm_start=False)\n",
        "clf4.fit(X, y)"
      ],
      "execution_count": 32,
      "outputs": [
        {
          "output_type": "stream",
          "text": [
            "/usr/local/lib/python3.6/dist-packages/ipykernel_launcher.py:8: DataConversionWarning: A column-vector y was passed when a 1d array was expected. Please change the shape of y to (n_samples,), for example using ravel().\n",
            "  \n"
          ],
          "name": "stderr"
        },
        {
          "output_type": "execute_result",
          "data": {
            "text/plain": [
              "RandomForestClassifier(bootstrap=True, class_weight=None, criterion='entropy',\n",
              "                       max_depth=8, max_features='sqrt', max_leaf_nodes=None,\n",
              "                       min_impurity_decrease=0.0, min_impurity_split=None,\n",
              "                       min_samples_leaf=1, min_samples_split=2,\n",
              "                       min_weight_fraction_leaf=0.0, n_estimators=50,\n",
              "                       n_jobs=None, oob_score=False, random_state=None,\n",
              "                       verbose=0, warm_start=False)"
            ]
          },
          "metadata": {
            "tags": []
          },
          "execution_count": 32
        }
      ]
    },
    {
      "cell_type": "code",
      "metadata": {
        "id": "IR4pFnVpxI2s",
        "colab_type": "code",
        "colab": {}
      },
      "source": [
        "y_preds = clf4.predict_proba(X)\n",
        "preds = y_preds[:,1]\n",
        "\n",
        "fpr, tpr, _ = metrics.roc_curve(y, preds)\n",
        "auc_score = metrics.auc(fpr, tpr)"
      ],
      "execution_count": 0,
      "outputs": []
    },
    {
      "cell_type": "code",
      "metadata": {
        "id": "6TV8JXnvxi8L",
        "colab_type": "code",
        "outputId": "643d67b9-d7d4-470c-e3c3-78ce3cfd0b56",
        "colab": {
          "base_uri": "https://localhost:8080/",
          "height": 518
        }
      },
      "source": [
        "plt.clf()\n",
        "\n",
        "plt.title('ROC Curve')\n",
        "plt.plot(fpr, tpr, label='AUC = {:.2f}'.format(auc_score))\n",
        "\n",
        "# it's helpful to add a diagonal to indicate where chance \n",
        "# scores lie (i.e. just flipping a coin)\n",
        "plt.plot([0,1],[0,1],'r--')\n",
        "\n",
        "plt.xlim([-0.1,1.1])\n",
        "plt.ylim([-0.1,1.1])\n",
        "plt.ylabel('Exhaustividad')\n",
        "plt.xlabel('Frecuencia de falsos positivos')\n",
        "\n",
        "plt.legend(loc='lower right')\n",
        "plt.show()"
      ],
      "execution_count": 0,
      "outputs": [
        {
          "output_type": "display_data",
          "data": {
            "image/png": "[encoded data removed]",
            "text/plain": [
              "<Figure size 576x576 with 1 Axes>"
            ]
          },
          "metadata": {
            "tags": []
          }
        }
      ]
    },
    {
      "cell_type": "code",
      "metadata": {
        "id": "KgQmIABjxoE6",
        "colab_type": "code",
        "colab": {}
      },
      "source": [
        "y_preds = (y_preds > 0.5).astype(int)\n",
        "a = []\n",
        "for i in range(0,len(y_preds)):\n",
        "  if y_preds[i][0] == 1:\n",
        "    a.append(0)\n",
        "  elif y_preds[i][1] == 1:\n",
        "    a.append(1)"
      ],
      "execution_count": 0,
      "outputs": []
    },
    {
      "cell_type": "code",
      "metadata": {
        "id": "i1cbUs1VxtLI",
        "colab_type": "code",
        "outputId": "40b67229-8167-496e-ff1c-43d38ab3ffd2",
        "colab": {
          "base_uri": "https://localhost:8080/",
          "height": 52
        }
      },
      "source": [
        "c_matrix = confusion_matrix(y,a)\n",
        "c_matrix"
      ],
      "execution_count": 0,
      "outputs": [
        {
          "output_type": "execute_result",
          "data": {
            "text/plain": [
              "array([[974,   0],\n",
              "       [  3, 971]])"
            ]
          },
          "metadata": {
            "tags": []
          },
          "execution_count": 85
        }
      ]
    },
    {
      "cell_type": "code",
      "metadata": {
        "id": "4mK8KjSKxuGu",
        "colab_type": "code",
        "outputId": "74893533-d7d5-443c-cc03-331d2a6d5bb3",
        "colab": {
          "base_uri": "https://localhost:8080/",
          "height": 139
        }
      },
      "source": [
        "tn = c_matrix[0,0]\n",
        "tp = c_matrix[1,1]\n",
        "fn = c_matrix[1,0]\n",
        "fp = c_matrix[0,1]\n",
        "\n",
        "print(\"Recall:\", tp/(tp+fn))\n",
        "print(\"Specificity:\", tn/(tn+fp))\n",
        "print(\"Precision:\", tp/(tp+fp))\n",
        "print(\"Negative predictive value:\", tn/(tn+fn))\n",
        "print(\"Acuracy:\", (tp+tn)/(tp+tn+fp+fn))\n",
        "print(\"Matthews correlation coefficient:\", (tp*tn-fp*fn)/((tp+fp)*(tp+fn)*(tn+fp)*(tn+fn))**(1/2.0))\n",
        "print(\"Cohen Kappa\", cohen_kappa_score(y,a))"
      ],
      "execution_count": 0,
      "outputs": [
        {
          "output_type": "stream",
          "text": [
            "Recall: 0.9969199178644764\n",
            "Specificity: 1.0\n",
            "Precision: 1.0\n",
            "Negative predictive value: 0.9969293756397134\n",
            "Acuracy: 0.9984599589322382\n",
            "Matthews correlation coefficient: 0.9969246467408792\n",
            "Cohen Kappa 0.9969199178644764\n"
          ],
          "name": "stdout"
        }
      ]
    },
    {
      "cell_type": "markdown",
      "metadata": {
        "id": "H1w99cABnYzW",
        "colab_type": "text"
      },
      "source": [
        "**Conjunto de datos de prueba**"
      ]
    },
    {
      "cell_type": "code",
      "metadata": {
        "id": "UdpBjphhnXtf",
        "colab_type": "code",
        "outputId": "44c7ea6d-7eec-4ef0-b3fa-673bca63f834",
        "colab": {
          "base_uri": "https://localhost:8080/",
          "height": 52
        }
      },
      "source": [
        "y_preds = clf4.predict_proba(X_test)\n",
        "preds = y_preds[:,1]\n",
        "\n",
        "y_preds = (y_preds > 0.5).astype(int)\n",
        "a = []\n",
        "for i in range(0,len(y_preds)):\n",
        "  if y_preds[i][0] == 1:\n",
        "    a.append(0)\n",
        "  elif y_preds[i][1] == 1:\n",
        "    a.append(1)\n",
        "    \n",
        "c_matrix = confusion_matrix(y_test,a)\n",
        "c_matrix"
      ],
      "execution_count": 0,
      "outputs": [
        {
          "output_type": "execute_result",
          "data": {
            "text/plain": [
              "array([[ 11,   1],\n",
              "       [  2, 110]])"
            ]
          },
          "metadata": {
            "tags": []
          },
          "execution_count": 87
        }
      ]
    },
    {
      "cell_type": "code",
      "metadata": {
        "id": "v5IAYk_snhLy",
        "colab_type": "code",
        "outputId": "a9afc0c7-077e-43f1-e87d-f34a1bd19129",
        "colab": {
          "base_uri": "https://localhost:8080/",
          "height": 139
        }
      },
      "source": [
        "tn = c_matrix[0,0]\n",
        "tp = c_matrix[1,1]\n",
        "fn = c_matrix[1,0]\n",
        "fp = c_matrix[0,1]\n",
        "\n",
        "print(\"Recall:\", tp/(tp+fn))\n",
        "print(\"Specificity:\", tn/(tn+fp))\n",
        "print(\"Precision:\", tp/(tp+fp))\n",
        "print(\"Negative predictive value:\", tn/(tn+fn))\n",
        "print(\"Acuracy:\", (tp+tn)/(tp+tn+fp+fn))\n",
        "print(\"Matthews correlation coefficient:\", (tp*tn-fp*fn)/((tp+fp)*(tp+fn)*(tn+fp)*(tn+fn))**(1/2.0))\n",
        "print(\"Cohen Kappa\", cohen_kappa_score(y_test,a))"
      ],
      "execution_count": 0,
      "outputs": [
        {
          "output_type": "stream",
          "text": [
            "Recall: 0.9821428571428571\n",
            "Specificity: 0.9166666666666666\n",
            "Precision: 0.990990990990991\n",
            "Negative predictive value: 0.8461538461538461\n",
            "Acuracy: 0.9758064516129032\n",
            "Matthews correlation coefficient: 0.8674293933420475\n",
            "Cohen Kappa 0.866571018651363\n"
          ],
          "name": "stdout"
        }
      ]
    },
    {
      "cell_type": "markdown",
      "metadata": {
        "id": "adk6p72W2Hz1",
        "colab_type": "text"
      },
      "source": [
        "## Ensemble de clasificadores"
      ]
    },
    {
      "cell_type": "markdown",
      "metadata": {
        "id": "2pro9UGavCTN",
        "colab_type": "text"
      },
      "source": [
        "Disminuir la varianza aplicando un método del tipo Bagging"
      ]
    },
    {
      "cell_type": "code",
      "metadata": {
        "id": "0vm8PCCs4e2i",
        "colab_type": "code",
        "outputId": "f69ca19c-71a3-41db-e90e-2275e4f5090e",
        "colab": {
          "base_uri": "https://localhost:8080/",
          "height": 206
        }
      },
      "source": [
        "predicciones_base_train = pd.concat([pd.DataFrame(clf1.predict_proba(X_train)),\n",
        "                                     pd.DataFrame(clf2.predict_proba(X_train)),\n",
        "                                     pd.DataFrame(clf3.predict_proba(X_train)),\n",
        "                                     pd.DataFrame(clf4.predict_proba(X_train))], axis=1)\n",
        "predicciones_base_train.columns = ['SVM_0', 'SVM_1', 'NN_0', 'NN_1', 'NB_0', 'NB_1', 'RF_0', 'RF_1']\n",
        "predicciones_base_train['Tumor'] = y_train.values\n",
        "\n",
        "predicciones_base_train = predicciones_base_train.round(4)\n",
        "predicciones_base_train.head()"
      ],
      "execution_count": 0,
      "outputs": [
        {
          "output_type": "execute_result",
          "data": {
            "text/html": [
              "<div>\n",
              "<style scoped>\n",
              "    .dataframe tbody tr th:only-of-type {\n",
              "        vertical-align: middle;\n",
              "    }\n",
              "\n",
              "    .dataframe tbody tr th {\n",
              "        vertical-align: top;\n",
              "    }\n",
              "\n",
              "    .dataframe thead th {\n",
              "        text-align: right;\n",
              "    }\n",
              "</style>\n",
              "<table border=\"1\" class=\"dataframe\">\n",
              "  <thead>\n",
              "    <tr style=\"text-align: right;\">\n",
              "      <th></th>\n",
              "      <th>SVM_0</th>\n",
              "      <th>SVM_1</th>\n",
              "      <th>NN_0</th>\n",
              "      <th>NN_1</th>\n",
              "      <th>NB_0</th>\n",
              "      <th>NB_1</th>\n",
              "      <th>RF_0</th>\n",
              "      <th>RF_1</th>\n",
              "      <th>Tumor</th>\n",
              "    </tr>\n",
              "  </thead>\n",
              "  <tbody>\n",
              "    <tr>\n",
              "      <th>0</th>\n",
              "      <td>0.0000</td>\n",
              "      <td>1.0000</td>\n",
              "      <td>0.0</td>\n",
              "      <td>1.0</td>\n",
              "      <td>0.0</td>\n",
              "      <td>1.0</td>\n",
              "      <td>0.0200</td>\n",
              "      <td>0.9800</td>\n",
              "      <td>1.0</td>\n",
              "    </tr>\n",
              "    <tr>\n",
              "      <th>1</th>\n",
              "      <td>1.0000</td>\n",
              "      <td>0.0000</td>\n",
              "      <td>1.0</td>\n",
              "      <td>0.0</td>\n",
              "      <td>1.0</td>\n",
              "      <td>0.0</td>\n",
              "      <td>0.9940</td>\n",
              "      <td>0.0060</td>\n",
              "      <td>0.0</td>\n",
              "    </tr>\n",
              "    <tr>\n",
              "      <th>2</th>\n",
              "      <td>0.9977</td>\n",
              "      <td>0.0023</td>\n",
              "      <td>1.0</td>\n",
              "      <td>0.0</td>\n",
              "      <td>1.0</td>\n",
              "      <td>0.0</td>\n",
              "      <td>0.9956</td>\n",
              "      <td>0.0044</td>\n",
              "      <td>0.0</td>\n",
              "    </tr>\n",
              "    <tr>\n",
              "      <th>3</th>\n",
              "      <td>0.0000</td>\n",
              "      <td>1.0000</td>\n",
              "      <td>0.0</td>\n",
              "      <td>1.0</td>\n",
              "      <td>0.0</td>\n",
              "      <td>1.0</td>\n",
              "      <td>0.0597</td>\n",
              "      <td>0.9403</td>\n",
              "      <td>1.0</td>\n",
              "    </tr>\n",
              "    <tr>\n",
              "      <th>4</th>\n",
              "      <td>0.9873</td>\n",
              "      <td>0.0127</td>\n",
              "      <td>1.0</td>\n",
              "      <td>0.0</td>\n",
              "      <td>1.0</td>\n",
              "      <td>0.0</td>\n",
              "      <td>0.9535</td>\n",
              "      <td>0.0465</td>\n",
              "      <td>0.0</td>\n",
              "    </tr>\n",
              "  </tbody>\n",
              "</table>\n",
              "</div>"
            ],
            "text/plain": [
              "    SVM_0   SVM_1  NN_0  NN_1  NB_0  NB_1    RF_0    RF_1  Tumor\n",
              "0  0.0000  1.0000   0.0   1.0   0.0   1.0  0.0200  0.9800    1.0\n",
              "1  1.0000  0.0000   1.0   0.0   1.0   0.0  0.9940  0.0060    0.0\n",
              "2  0.9977  0.0023   1.0   0.0   1.0   0.0  0.9956  0.0044    0.0\n",
              "3  0.0000  1.0000   0.0   1.0   0.0   1.0  0.0597  0.9403    1.0\n",
              "4  0.9873  0.0127   1.0   0.0   1.0   0.0  0.9535  0.0465    0.0"
            ]
          },
          "metadata": {
            "tags": []
          },
          "execution_count": 61
        }
      ]
    },
    {
      "cell_type": "code",
      "metadata": {
        "id": "7Pwubf014hY6",
        "colab_type": "code",
        "colab": {}
      },
      "source": [
        "np.random.seed(43)\n",
        "\n",
        "df = pd.DataFrame(columns=('w1', 'w2', 'w3', 'w4', 'recall', 'specificity', 'precision', 'npv', 'accuracy', 'mcc', 'kappa'))\n",
        "\n",
        "i = 0\n",
        "for w1 in range(1,7):\n",
        "  for w2 in range(1,7):\n",
        "    for w3 in range(1,7):\n",
        "      for w4 in range(1,7):\n",
        "\n",
        "          if len(set((w1,w2,w3,w4))) == 1: \n",
        "            continue\n",
        "\n",
        "          eclf = EnsembleVoteClassifier(clfs=[clf1, clf2, clf3, clf4], weights=[w1, w2, w3, w4], refit=False, voting='soft')\n",
        "          eclf.fit(X_train, y_train.values.ravel())\n",
        "          y_predict = eclf.predict(X_val)\n",
        "          \n",
        "          c_matrix = confusion_matrix(y_val,y_predict)\n",
        "          recall = tp/(tp+fn)\n",
        "          specificity = tn/(tn+fp)\n",
        "          precision = tp/(tp+fp)\n",
        "          npv = tn/(tn+fn)\n",
        "          accuracy = (tp+tn)/(tp+tn+fp+fn)\n",
        "          mcc = (tp*tn-fp*fn)/((tp+fp)*(tp+fn)*(tn+fp)*(tn+fn))**(1/2.0)\n",
        "          kappa = cohen_kappa_score(y_val,y_predict)\n",
        "          \n",
        "          df.loc[i] = [w1, w2, w3, w4, recall, specificity, precision, npv, accuracy, mcc, kappa]\n",
        "          i += 1"
      ],
      "execution_count": 0,
      "outputs": []
    },
    {
      "cell_type": "code",
      "metadata": {
        "id": "YvKCl1v34tHY",
        "colab_type": "code",
        "outputId": "a5f70327-8f91-40ef-bea4-9907e2043282",
        "colab": {
          "base_uri": "https://localhost:8080/",
          "height": 677
        }
      },
      "source": [
        "df.sort_values(by=['recall', 'kappa'], ascending=False).head(20)"
      ],
      "execution_count": 0,
      "outputs": [
        {
          "output_type": "execute_result",
          "data": {
            "text/html": [
              "<div>\n",
              "<style scoped>\n",
              "    .dataframe tbody tr th:only-of-type {\n",
              "        vertical-align: middle;\n",
              "    }\n",
              "\n",
              "    .dataframe tbody tr th {\n",
              "        vertical-align: top;\n",
              "    }\n",
              "\n",
              "    .dataframe thead th {\n",
              "        text-align: right;\n",
              "    }\n",
              "</style>\n",
              "<table border=\"1\" class=\"dataframe\">\n",
              "  <thead>\n",
              "    <tr style=\"text-align: right;\">\n",
              "      <th></th>\n",
              "      <th>w1</th>\n",
              "      <th>w2</th>\n",
              "      <th>w3</th>\n",
              "      <th>w4</th>\n",
              "      <th>recall</th>\n",
              "      <th>specificity</th>\n",
              "      <th>precision</th>\n",
              "      <th>npv</th>\n",
              "      <th>accuracy</th>\n",
              "      <th>mcc</th>\n",
              "      <th>kappa</th>\n",
              "    </tr>\n",
              "  </thead>\n",
              "  <tbody>\n",
              "    <tr>\n",
              "      <th>0</th>\n",
              "      <td>1.0</td>\n",
              "      <td>1.0</td>\n",
              "      <td>1.0</td>\n",
              "      <td>2.0</td>\n",
              "      <td>1.0</td>\n",
              "      <td>1.0</td>\n",
              "      <td>1.0</td>\n",
              "      <td>1.0</td>\n",
              "      <td>1.0</td>\n",
              "      <td>1.0</td>\n",
              "      <td>1.0</td>\n",
              "    </tr>\n",
              "    <tr>\n",
              "      <th>1</th>\n",
              "      <td>1.0</td>\n",
              "      <td>1.0</td>\n",
              "      <td>1.0</td>\n",
              "      <td>3.0</td>\n",
              "      <td>1.0</td>\n",
              "      <td>1.0</td>\n",
              "      <td>1.0</td>\n",
              "      <td>1.0</td>\n",
              "      <td>1.0</td>\n",
              "      <td>1.0</td>\n",
              "      <td>1.0</td>\n",
              "    </tr>\n",
              "    <tr>\n",
              "      <th>2</th>\n",
              "      <td>1.0</td>\n",
              "      <td>1.0</td>\n",
              "      <td>1.0</td>\n",
              "      <td>4.0</td>\n",
              "      <td>1.0</td>\n",
              "      <td>1.0</td>\n",
              "      <td>1.0</td>\n",
              "      <td>1.0</td>\n",
              "      <td>1.0</td>\n",
              "      <td>1.0</td>\n",
              "      <td>1.0</td>\n",
              "    </tr>\n",
              "    <tr>\n",
              "      <th>3</th>\n",
              "      <td>1.0</td>\n",
              "      <td>1.0</td>\n",
              "      <td>1.0</td>\n",
              "      <td>5.0</td>\n",
              "      <td>1.0</td>\n",
              "      <td>1.0</td>\n",
              "      <td>1.0</td>\n",
              "      <td>1.0</td>\n",
              "      <td>1.0</td>\n",
              "      <td>1.0</td>\n",
              "      <td>1.0</td>\n",
              "    </tr>\n",
              "    <tr>\n",
              "      <th>4</th>\n",
              "      <td>1.0</td>\n",
              "      <td>1.0</td>\n",
              "      <td>1.0</td>\n",
              "      <td>6.0</td>\n",
              "      <td>1.0</td>\n",
              "      <td>1.0</td>\n",
              "      <td>1.0</td>\n",
              "      <td>1.0</td>\n",
              "      <td>1.0</td>\n",
              "      <td>1.0</td>\n",
              "      <td>1.0</td>\n",
              "    </tr>\n",
              "    <tr>\n",
              "      <th>5</th>\n",
              "      <td>1.0</td>\n",
              "      <td>1.0</td>\n",
              "      <td>2.0</td>\n",
              "      <td>1.0</td>\n",
              "      <td>1.0</td>\n",
              "      <td>1.0</td>\n",
              "      <td>1.0</td>\n",
              "      <td>1.0</td>\n",
              "      <td>1.0</td>\n",
              "      <td>1.0</td>\n",
              "      <td>1.0</td>\n",
              "    </tr>\n",
              "    <tr>\n",
              "      <th>6</th>\n",
              "      <td>1.0</td>\n",
              "      <td>1.0</td>\n",
              "      <td>2.0</td>\n",
              "      <td>2.0</td>\n",
              "      <td>1.0</td>\n",
              "      <td>1.0</td>\n",
              "      <td>1.0</td>\n",
              "      <td>1.0</td>\n",
              "      <td>1.0</td>\n",
              "      <td>1.0</td>\n",
              "      <td>1.0</td>\n",
              "    </tr>\n",
              "    <tr>\n",
              "      <th>7</th>\n",
              "      <td>1.0</td>\n",
              "      <td>1.0</td>\n",
              "      <td>2.0</td>\n",
              "      <td>3.0</td>\n",
              "      <td>1.0</td>\n",
              "      <td>1.0</td>\n",
              "      <td>1.0</td>\n",
              "      <td>1.0</td>\n",
              "      <td>1.0</td>\n",
              "      <td>1.0</td>\n",
              "      <td>1.0</td>\n",
              "    </tr>\n",
              "    <tr>\n",
              "      <th>8</th>\n",
              "      <td>1.0</td>\n",
              "      <td>1.0</td>\n",
              "      <td>2.0</td>\n",
              "      <td>4.0</td>\n",
              "      <td>1.0</td>\n",
              "      <td>1.0</td>\n",
              "      <td>1.0</td>\n",
              "      <td>1.0</td>\n",
              "      <td>1.0</td>\n",
              "      <td>1.0</td>\n",
              "      <td>1.0</td>\n",
              "    </tr>\n",
              "    <tr>\n",
              "      <th>9</th>\n",
              "      <td>1.0</td>\n",
              "      <td>1.0</td>\n",
              "      <td>2.0</td>\n",
              "      <td>5.0</td>\n",
              "      <td>1.0</td>\n",
              "      <td>1.0</td>\n",
              "      <td>1.0</td>\n",
              "      <td>1.0</td>\n",
              "      <td>1.0</td>\n",
              "      <td>1.0</td>\n",
              "      <td>1.0</td>\n",
              "    </tr>\n",
              "    <tr>\n",
              "      <th>10</th>\n",
              "      <td>1.0</td>\n",
              "      <td>1.0</td>\n",
              "      <td>2.0</td>\n",
              "      <td>6.0</td>\n",
              "      <td>1.0</td>\n",
              "      <td>1.0</td>\n",
              "      <td>1.0</td>\n",
              "      <td>1.0</td>\n",
              "      <td>1.0</td>\n",
              "      <td>1.0</td>\n",
              "      <td>1.0</td>\n",
              "    </tr>\n",
              "    <tr>\n",
              "      <th>12</th>\n",
              "      <td>1.0</td>\n",
              "      <td>1.0</td>\n",
              "      <td>3.0</td>\n",
              "      <td>2.0</td>\n",
              "      <td>1.0</td>\n",
              "      <td>1.0</td>\n",
              "      <td>1.0</td>\n",
              "      <td>1.0</td>\n",
              "      <td>1.0</td>\n",
              "      <td>1.0</td>\n",
              "      <td>1.0</td>\n",
              "    </tr>\n",
              "    <tr>\n",
              "      <th>13</th>\n",
              "      <td>1.0</td>\n",
              "      <td>1.0</td>\n",
              "      <td>3.0</td>\n",
              "      <td>3.0</td>\n",
              "      <td>1.0</td>\n",
              "      <td>1.0</td>\n",
              "      <td>1.0</td>\n",
              "      <td>1.0</td>\n",
              "      <td>1.0</td>\n",
              "      <td>1.0</td>\n",
              "      <td>1.0</td>\n",
              "    </tr>\n",
              "    <tr>\n",
              "      <th>14</th>\n",
              "      <td>1.0</td>\n",
              "      <td>1.0</td>\n",
              "      <td>3.0</td>\n",
              "      <td>4.0</td>\n",
              "      <td>1.0</td>\n",
              "      <td>1.0</td>\n",
              "      <td>1.0</td>\n",
              "      <td>1.0</td>\n",
              "      <td>1.0</td>\n",
              "      <td>1.0</td>\n",
              "      <td>1.0</td>\n",
              "    </tr>\n",
              "    <tr>\n",
              "      <th>15</th>\n",
              "      <td>1.0</td>\n",
              "      <td>1.0</td>\n",
              "      <td>3.0</td>\n",
              "      <td>5.0</td>\n",
              "      <td>1.0</td>\n",
              "      <td>1.0</td>\n",
              "      <td>1.0</td>\n",
              "      <td>1.0</td>\n",
              "      <td>1.0</td>\n",
              "      <td>1.0</td>\n",
              "      <td>1.0</td>\n",
              "    </tr>\n",
              "    <tr>\n",
              "      <th>16</th>\n",
              "      <td>1.0</td>\n",
              "      <td>1.0</td>\n",
              "      <td>3.0</td>\n",
              "      <td>6.0</td>\n",
              "      <td>1.0</td>\n",
              "      <td>1.0</td>\n",
              "      <td>1.0</td>\n",
              "      <td>1.0</td>\n",
              "      <td>1.0</td>\n",
              "      <td>1.0</td>\n",
              "      <td>1.0</td>\n",
              "    </tr>\n",
              "    <tr>\n",
              "      <th>20</th>\n",
              "      <td>1.0</td>\n",
              "      <td>1.0</td>\n",
              "      <td>4.0</td>\n",
              "      <td>4.0</td>\n",
              "      <td>1.0</td>\n",
              "      <td>1.0</td>\n",
              "      <td>1.0</td>\n",
              "      <td>1.0</td>\n",
              "      <td>1.0</td>\n",
              "      <td>1.0</td>\n",
              "      <td>1.0</td>\n",
              "    </tr>\n",
              "    <tr>\n",
              "      <th>21</th>\n",
              "      <td>1.0</td>\n",
              "      <td>1.0</td>\n",
              "      <td>4.0</td>\n",
              "      <td>5.0</td>\n",
              "      <td>1.0</td>\n",
              "      <td>1.0</td>\n",
              "      <td>1.0</td>\n",
              "      <td>1.0</td>\n",
              "      <td>1.0</td>\n",
              "      <td>1.0</td>\n",
              "      <td>1.0</td>\n",
              "    </tr>\n",
              "    <tr>\n",
              "      <th>22</th>\n",
              "      <td>1.0</td>\n",
              "      <td>1.0</td>\n",
              "      <td>4.0</td>\n",
              "      <td>6.0</td>\n",
              "      <td>1.0</td>\n",
              "      <td>1.0</td>\n",
              "      <td>1.0</td>\n",
              "      <td>1.0</td>\n",
              "      <td>1.0</td>\n",
              "      <td>1.0</td>\n",
              "      <td>1.0</td>\n",
              "    </tr>\n",
              "    <tr>\n",
              "      <th>28</th>\n",
              "      <td>1.0</td>\n",
              "      <td>1.0</td>\n",
              "      <td>5.0</td>\n",
              "      <td>6.0</td>\n",
              "      <td>1.0</td>\n",
              "      <td>1.0</td>\n",
              "      <td>1.0</td>\n",
              "      <td>1.0</td>\n",
              "      <td>1.0</td>\n",
              "      <td>1.0</td>\n",
              "      <td>1.0</td>\n",
              "    </tr>\n",
              "  </tbody>\n",
              "</table>\n",
              "</div>"
            ],
            "text/plain": [
              "     w1   w2   w3   w4  recall  ...  precision  npv  accuracy  mcc  kappa\n",
              "0   1.0  1.0  1.0  2.0     1.0  ...        1.0  1.0       1.0  1.0    1.0\n",
              "1   1.0  1.0  1.0  3.0     1.0  ...        1.0  1.0       1.0  1.0    1.0\n",
              "2   1.0  1.0  1.0  4.0     1.0  ...        1.0  1.0       1.0  1.0    1.0\n",
              "3   1.0  1.0  1.0  5.0     1.0  ...        1.0  1.0       1.0  1.0    1.0\n",
              "4   1.0  1.0  1.0  6.0     1.0  ...        1.0  1.0       1.0  1.0    1.0\n",
              "5   1.0  1.0  2.0  1.0     1.0  ...        1.0  1.0       1.0  1.0    1.0\n",
              "6   1.0  1.0  2.0  2.0     1.0  ...        1.0  1.0       1.0  1.0    1.0\n",
              "7   1.0  1.0  2.0  3.0     1.0  ...        1.0  1.0       1.0  1.0    1.0\n",
              "8   1.0  1.0  2.0  4.0     1.0  ...        1.0  1.0       1.0  1.0    1.0\n",
              "9   1.0  1.0  2.0  5.0     1.0  ...        1.0  1.0       1.0  1.0    1.0\n",
              "10  1.0  1.0  2.0  6.0     1.0  ...        1.0  1.0       1.0  1.0    1.0\n",
              "12  1.0  1.0  3.0  2.0     1.0  ...        1.0  1.0       1.0  1.0    1.0\n",
              "13  1.0  1.0  3.0  3.0     1.0  ...        1.0  1.0       1.0  1.0    1.0\n",
              "14  1.0  1.0  3.0  4.0     1.0  ...        1.0  1.0       1.0  1.0    1.0\n",
              "15  1.0  1.0  3.0  5.0     1.0  ...        1.0  1.0       1.0  1.0    1.0\n",
              "16  1.0  1.0  3.0  6.0     1.0  ...        1.0  1.0       1.0  1.0    1.0\n",
              "20  1.0  1.0  4.0  4.0     1.0  ...        1.0  1.0       1.0  1.0    1.0\n",
              "21  1.0  1.0  4.0  5.0     1.0  ...        1.0  1.0       1.0  1.0    1.0\n",
              "22  1.0  1.0  4.0  6.0     1.0  ...        1.0  1.0       1.0  1.0    1.0\n",
              "28  1.0  1.0  5.0  6.0     1.0  ...        1.0  1.0       1.0  1.0    1.0\n",
              "\n",
              "[20 rows x 11 columns]"
            ]
          },
          "metadata": {
            "tags": []
          },
          "execution_count": 63
        }
      ]
    },
    {
      "cell_type": "code",
      "metadata": {
        "id": "6LYfU9c84003",
        "colab_type": "code",
        "outputId": "1260ebb8-3ee7-4837-9454-171c839140c9",
        "colab": {
          "base_uri": "https://localhost:8080/",
          "height": 225
        }
      },
      "source": [
        "df.loc[df['recall'].idxmax()]"
      ],
      "execution_count": 0,
      "outputs": [
        {
          "output_type": "execute_result",
          "data": {
            "text/plain": [
              "w1             1.0\n",
              "w2             1.0\n",
              "w3             1.0\n",
              "w4             2.0\n",
              "recall         1.0\n",
              "specificity    1.0\n",
              "precision      1.0\n",
              "npv            1.0\n",
              "accuracy       1.0\n",
              "mcc            1.0\n",
              "kappa          1.0\n",
              "Name: 0, dtype: float64"
            ]
          },
          "metadata": {
            "tags": []
          },
          "execution_count": 64
        }
      ]
    },
    {
      "cell_type": "markdown",
      "metadata": {
        "id": "rIrmCIoJ6oIS",
        "colab_type": "text"
      },
      "source": [
        "\n",
        "\n",
        "---\n",
        "w1 = 1\n",
        "\n",
        "\n",
        "---\n",
        "w2 = 1\n",
        "\n",
        "\n",
        "---\n",
        "w3 = 1\n",
        "\n",
        "\n",
        "---\n",
        "w4 = 2\n",
        "\n",
        "---\n",
        "\n",
        "\n"
      ]
    },
    {
      "cell_type": "code",
      "metadata": {
        "id": "VYjPSbr360YF",
        "colab_type": "code",
        "colab": {}
      },
      "source": [
        "w1 = 1\n",
        "w2 = 1\n",
        "w3 = 1\n",
        "w4 = 2"
      ],
      "execution_count": 0,
      "outputs": []
    },
    {
      "cell_type": "code",
      "metadata": {
        "id": "J5zM0QU842kN",
        "colab_type": "code",
        "colab": {}
      },
      "source": [
        "eclf = EnsembleVoteClassifier(clfs=[clf1, clf2, clf3, clf4],\n",
        "                              weights=[w1,w2,w3,w4],\n",
        "                              refit=False,\n",
        "                              voting='soft')\n"
      ],
      "execution_count": 0,
      "outputs": []
    },
    {
      "cell_type": "code",
      "metadata": {
        "id": "eDJfAUhtq72W",
        "colab_type": "code",
        "colab": {
          "base_uri": "https://localhost:8080/",
          "height": 470
        },
        "outputId": "937e58e7-e759-40fe-8ee6-cd1fe5b165e1"
      },
      "source": [
        "eclf.fit(X, y.values.ravel())"
      ],
      "execution_count": 81,
      "outputs": [
        {
          "output_type": "execute_result",
          "data": {
            "text/plain": [
              "EnsembleVoteClassifier(clfs=[SVC(C=0.007742636826811277, cache_size=200,\n",
              "                                 class_weight=None, coef0=0.0,\n",
              "                                 decision_function_shape='ovr', degree=3,\n",
              "                                 gamma=0.0001, kernel='linear', max_iter=-1,\n",
              "                                 probability=True, random_state=None,\n",
              "                                 shrinking=True, tol=0.001, verbose=False),\n",
              "                             MLPClassifier(activation='relu', alpha=1e-05,\n",
              "                                           batch_size='auto', beta_1=0.9,\n",
              "                                           beta_2=0.999, early_stop...\n",
              "                                                    class_weight=None,\n",
              "                                                    criterion='entropy',\n",
              "                                                    max_depth=8,\n",
              "                                                    max_features='sqrt',\n",
              "                                                    max_leaf_nodes=None,\n",
              "                                                    min_impurity_decrease=0.0,\n",
              "                                                    min_impurity_split=None,\n",
              "                                                    min_samples_leaf=1,\n",
              "                                                    min_samples_split=2,\n",
              "                                                    min_weight_fraction_leaf=0.0,\n",
              "                                                    n_estimators=50,\n",
              "                                                    n_jobs=None,\n",
              "                                                    oob_score=False,\n",
              "                                                    random_state=None,\n",
              "                                                    verbose=0,\n",
              "                                                    warm_start=False)],\n",
              "                       refit=False, verbose=0, voting='soft',\n",
              "                       weights=[1, 1, 1, 2])"
            ]
          },
          "metadata": {
            "tags": []
          },
          "execution_count": 81
        }
      ]
    },
    {
      "cell_type": "code",
      "metadata": {
        "id": "VYk8Xq7K5A1X",
        "colab_type": "code",
        "colab": {}
      },
      "source": [
        "y_preds = eclf.predict_proba(X)\n",
        "preds = y_preds[:,1]\n",
        "\n",
        "fpr, tpr, _ = metrics.roc_curve(y, preds)\n",
        "auc_score = metrics.auc(fpr, tpr)"
      ],
      "execution_count": 0,
      "outputs": []
    },
    {
      "cell_type": "code",
      "metadata": {
        "id": "qJ9YqXFt44xs",
        "colab_type": "code",
        "outputId": "630085b6-9bda-4f13-9b71-4a64de1ad52a",
        "colab": {
          "base_uri": "https://localhost:8080/",
          "height": 518
        }
      },
      "source": [
        "plt.clf()\n",
        "\n",
        "plt.title('ROC Curve')\n",
        "plt.plot(fpr, tpr, label='AUC = {:.2f}'.format(auc_score))\n",
        "\n",
        "# it's helpful to add a diagonal to indicate where chance \n",
        "# scores lie (i.e. just flipping a coin)\n",
        "plt.plot([0,1],[0,1],'r--')\n",
        "\n",
        "plt.xlim([-0.1,1.1])\n",
        "plt.ylim([-0.1,1.1])\n",
        "plt.ylabel('Exhaustividad')\n",
        "plt.xlabel('Frecuencia de falsos positivos')\n",
        "\n",
        "plt.legend(loc='lower right')\n",
        "plt.show()"
      ],
      "execution_count": 0,
      "outputs": [
        {
          "output_type": "display_data",
          "data": {
            "image/png": "[encoded data removed]",
            "text/plain": [
              "<Figure size 576x576 with 1 Axes>"
            ]
          },
          "metadata": {
            "tags": []
          }
        }
      ]
    },
    {
      "cell_type": "code",
      "metadata": {
        "id": "NKE_3yBZ47Mq",
        "colab_type": "code",
        "colab": {}
      },
      "source": [
        "y_preds = (y_preds > 0.5).astype(int)\n",
        "a = []\n",
        "for i in range(0,len(y_preds)):\n",
        "  if y_preds[i][0] == 1:\n",
        "    a.append(0)\n",
        "  elif y_preds[i][1] == 1:\n",
        "    a.append(1)"
      ],
      "execution_count": 0,
      "outputs": []
    },
    {
      "cell_type": "code",
      "metadata": {
        "id": "C5iWWNlm6CKC",
        "colab_type": "code",
        "outputId": "bcde8837-66ff-4e33-e83a-ad4c0505e67a",
        "colab": {
          "base_uri": "https://localhost:8080/",
          "height": 52
        }
      },
      "source": [
        "c_matrix = confusion_matrix(y,a)\n",
        "c_matrix"
      ],
      "execution_count": 0,
      "outputs": [
        {
          "output_type": "execute_result",
          "data": {
            "text/plain": [
              "array([[974,   0],\n",
              "       [  0, 974]])"
            ]
          },
          "metadata": {
            "tags": []
          },
          "execution_count": 73
        }
      ]
    },
    {
      "cell_type": "code",
      "metadata": {
        "id": "yvL4649W6Gcb",
        "colab_type": "code",
        "outputId": "a51245e4-a98f-48ce-95cc-747b32dcb543",
        "colab": {
          "base_uri": "https://localhost:8080/",
          "height": 139
        }
      },
      "source": [
        "tn = c_matrix[0,0]\n",
        "tp = c_matrix[1,1]\n",
        "fn = c_matrix[1,0]\n",
        "fp = c_matrix[0,1]\n",
        "\n",
        "print(\"Recall:\", tp/(tp+fn))\n",
        "print(\"Specificity:\", tn/(tn+fp))\n",
        "print(\"Precision:\", tp/(tp+fp))\n",
        "print(\"Negative predictive value:\", tn/(tn+fn))\n",
        "print(\"Acuracy:\", (tp+tn)/(tp+tn+fp+fn))\n",
        "print(\"Matthews correlation coefficient:\", (tp*tn-fp*fn)/((tp+fp)*(tp+fn)*(tn+fp)*(tn+fn))**(1/2.0))\n",
        "print(\"Cohen Kappa\", cohen_kappa_score(y,a))"
      ],
      "execution_count": 0,
      "outputs": [
        {
          "output_type": "stream",
          "text": [
            "Recall: 1.0\n",
            "Specificity: 1.0\n",
            "Precision: 1.0\n",
            "Negative predictive value: 1.0\n",
            "Acuracy: 1.0\n",
            "Matthews correlation coefficient: 1.0\n",
            "Cohen Kappa 1.0\n"
          ],
          "name": "stdout"
        }
      ]
    },
    {
      "cell_type": "markdown",
      "metadata": {
        "id": "pgIaKDQv8xgE",
        "colab_type": "text"
      },
      "source": [
        "**Conjunto de datos de prueba**"
      ]
    },
    {
      "cell_type": "code",
      "metadata": {
        "id": "9eSR9lrK83t5",
        "colab_type": "code",
        "outputId": "c7cad7a4-4f11-4148-efa5-a4f8d0f4fdbe",
        "colab": {
          "base_uri": "https://localhost:8080/",
          "height": 52
        }
      },
      "source": [
        "y_preds = eclf.predict_proba(X_test)\n",
        "preds = y_preds[:,1]\n",
        "\n",
        "y_preds = (y_preds > 0.5).astype(int)\n",
        "a = []\n",
        "for i in range(0,len(y_preds)):\n",
        "  if y_preds[i][0] == 1:\n",
        "    a.append(0)\n",
        "  elif y_preds[i][1] == 1:\n",
        "    a.append(1)\n",
        "    \n",
        "c_matrix = confusion_matrix(y_test,a)\n",
        "c_matrix"
      ],
      "execution_count": 0,
      "outputs": [
        {
          "output_type": "execute_result",
          "data": {
            "text/plain": [
              "array([[  9,   3],\n",
              "       [  1, 111]])"
            ]
          },
          "metadata": {
            "tags": []
          },
          "execution_count": 92
        }
      ]
    },
    {
      "cell_type": "code",
      "metadata": {
        "id": "wakPiuOi837G",
        "colab_type": "code",
        "outputId": "3cde6c37-e794-4915-df39-37bd855ccf3e",
        "colab": {
          "base_uri": "https://localhost:8080/",
          "height": 139
        }
      },
      "source": [
        "tn = c_matrix[0,0]\n",
        "tp = c_matrix[1,1]\n",
        "fn = c_matrix[1,0]\n",
        "fp = c_matrix[0,1]\n",
        "\n",
        "print(\"Recall:\", tp/(tp+fn))\n",
        "print(\"Specificity:\", tn/(tn+fp))\n",
        "print(\"Precision:\", tp/(tp+fp))\n",
        "print(\"Negative predictive value:\", tn/(tn+fn))\n",
        "print(\"Acuracy:\", (tp+tn)/(tp+tn+fp+fn))\n",
        "print(\"Matthews correlation coefficient:\", (tp*tn-fp*fn)/((tp+fp)*(tp+fn)*(tn+fp)*(tn+fn))**(1/2.0))\n",
        "print(\"Cohen Kappa\", cohen_kappa_score(y_test,a))"
      ],
      "execution_count": 0,
      "outputs": [
        {
          "output_type": "stream",
          "text": [
            "Recall: 0.9910714285714286\n",
            "Specificity: 0.75\n",
            "Precision: 0.9736842105263158\n",
            "Negative predictive value: 0.9\n",
            "Acuracy: 0.967741935483871\n",
            "Matthews correlation coefficient: 0.8046504868668368\n",
            "Cohen Kappa 0.8006430868167203\n"
          ],
          "name": "stdout"
        }
      ]
    }
  ]
}