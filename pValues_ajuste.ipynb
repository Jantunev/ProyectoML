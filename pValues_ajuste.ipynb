{
  "nbformat": 4,
  "nbformat_minor": 0,
  "metadata": {
    "colab": {
      "name": "pValues_adjust.ipynb",
      "version": "0.3.2",
      "provenance": []
    },
    "kernelspec": {
      "name": "python3",
      "display_name": "Python 3"
    }
  },
  "cells": [
    {
      "cell_type": "markdown",
      "metadata": {
        "id": "10XfnuyWKcZ5",
        "colab_type": "text"
      },
      "source": [
        "# Método de Benjamini–Hochberg"
      ]
    },
    {
      "cell_type": "code",
      "metadata": {
        "id": "bmlr9nOO9aCH",
        "colab_type": "code",
        "outputId": "72c233d8-fe43-4ae2-d5f3-fc0382848da4",
        "colab": {
          "base_uri": "https://localhost:8080/",
          "height": 122
        }
      },
      "source": [
        "from google.colab import drive\n",
        "drive.mount('/content/drive')"
      ],
      "execution_count": 0,
      "outputs": [
        {
          "output_type": "stream",
          "text": [
            "Go to this URL in a browser: https://accounts.google.com/o/oauth2/auth?client_id=947318989803-6bn6qk8qdgf4n4g3pfee6491hc0brc4i.apps.googleusercontent.com&redirect_uri=urn%3Aietf%3Awg%3Aoauth%3A2.0%3Aoob&scope=email%20https%3A%2F%2Fwww.googleapis.com%2Fauth%2Fdocs.test%20https%3A%2F%2Fwww.googleapis.com%2Fauth%2Fdrive%20https%3A%2F%2Fwww.googleapis.com%2Fauth%2Fdrive.photos.readonly%20https%3A%2F%2Fwww.googleapis.com%2Fauth%2Fpeopleapi.readonly&response_type=code\n",
            "\n",
            "Enter your authorization code:\n",
            "··········\n",
            "Mounted at /content/drive\n"
          ],
          "name": "stdout"
        }
      ]
    },
    {
      "cell_type": "code",
      "metadata": {
        "id": "U9HBMK7g9oQP",
        "colab_type": "code",
        "colab": {}
      },
      "source": [
        "%load_ext rpy2.ipython"
      ],
      "execution_count": 0,
      "outputs": []
    },
    {
      "cell_type": "code",
      "metadata": {
        "id": "XCsSogce91ze",
        "colab_type": "code",
        "outputId": "a51693c0-d7b8-47bb-85ea-c8aa455c4608",
        "colab": {
          "base_uri": "https://localhost:8080/",
          "height": 68
        }
      },
      "source": [
        "%%R\n",
        "install.packages('data.table')\n",
        "library(data.table)"
      ],
      "execution_count": 0,
      "outputs": [
        {
          "output_type": "stream",
          "text": [
            "/usr/local/lib/python3.6/dist-packages/rpy2/rinterface/__init__.py:146: RRuntimeWarning: data.table 1.12.2 using 1 threads (see ?getDTthreads).  Latest news: r-datatable.com\n",
            "\n",
            "  warnings.warn(x, RRuntimeWarning)\n"
          ],
          "name": "stderr"
        }
      ]
    },
    {
      "cell_type": "code",
      "metadata": {
        "id": "K7QBs0yt9tyq",
        "colab_type": "code",
        "colab": {}
      },
      "source": [
        "%%R\n",
        "W = as.matrix(read.table(\"wadj_py.csv\", sep = \",\"))\n",
        "P = as.matrix(read.table(\"pVal_py.csv\", sep = \",\"))"
      ],
      "execution_count": 0,
      "outputs": []
    },
    {
      "cell_type": "code",
      "metadata": {
        "id": "bPKYxHhQ9vsb",
        "colab_type": "code",
        "colab": {}
      },
      "source": [
        "%%R\n",
        "len <- 1:(ncol(W)*nrow(W))\n",
        "n_rows = nrow(W)\n",
        "n_cols = ncol(W)"
      ],
      "execution_count": 0,
      "outputs": []
    },
    {
      "cell_type": "code",
      "metadata": {
        "id": "vip8AXYs-Ian",
        "colab_type": "code",
        "outputId": "d859f6da-876c-4ebc-dad8-a943a0780efd",
        "colab": {
          "base_uri": "https://localhost:8080/",
          "height": 136
        }
      },
      "source": [
        "%%R\n",
        "df <- data.frame(index = len, corr = as.vector(W), pval = as.vector(P))\n",
        "rm(W)\n",
        "rm(P)\n",
        "head(df)"
      ],
      "execution_count": 0,
      "outputs": [
        {
          "output_type": "display_data",
          "data": {
            "text/plain": [
              "  index      corr         pval\n",
              "1     1 1.0000000 0.000000e+00\n",
              "2     2 0.8204334 3.042081e-05\n",
              "3     3 0.6573787 3.030290e-03\n",
              "4     4 0.4179567 8.435265e-02\n",
              "5     5 0.4427245 6.578236e-02\n",
              "6     6 0.5294118 2.385823e-02\n"
            ]
          },
          "metadata": {
            "tags": []
          }
        }
      ]
    },
    {
      "cell_type": "code",
      "metadata": {
        "id": "QSSrpJGk-b1E",
        "colab_type": "code",
        "outputId": "43b89963-49fc-41e5-9881-65a668d3f412",
        "colab": {
          "base_uri": "https://localhost:8080/",
          "height": 136
        }
      },
      "source": [
        "%%R\n",
        "setorder(df, pval) \n",
        "#df <- df %>% arrange(pval)\n",
        "head(df)"
      ],
      "execution_count": 0,
      "outputs": [
        {
          "output_type": "display_data",
          "data": {
            "text/plain": [
              "      index corr pval\n",
              "1         1    1    0\n",
              "8402   8402    1    0\n",
              "16803 16803    1    0\n",
              "25204 25204    1    0\n",
              "33605 33605    1    0\n",
              "42006 42006    1    0\n"
            ]
          },
          "metadata": {
            "tags": []
          }
        }
      ]
    },
    {
      "cell_type": "code",
      "metadata": {
        "id": "E6U-RJ6P-fUq",
        "colab_type": "code",
        "outputId": "86c86b5f-7270-4c5f-9a6d-198c9389693c",
        "colab": {
          "base_uri": "https://localhost:8080/",
          "height": 136
        }
      },
      "source": [
        "%%R\n",
        "df$rank <- len\n",
        "head(df)"
      ],
      "execution_count": 0,
      "outputs": [
        {
          "output_type": "display_data",
          "data": {
            "text/plain": [
              "      index corr pval rank\n",
              "1         1    1    0    1\n",
              "8402   8402    1    0    2\n",
              "16803 16803    1    0    3\n",
              "25204 25204    1    0    4\n",
              "33605 33605    1    0    5\n",
              "42006 42006    1    0    6\n"
            ]
          },
          "metadata": {
            "tags": []
          }
        }
      ]
    },
    {
      "cell_type": "code",
      "metadata": {
        "id": "aYzNNexN-ntJ",
        "colab_type": "code",
        "outputId": "dcf12d9c-d449-4055-aa5f-09ab070022f9",
        "colab": {
          "base_uri": "https://localhost:8080/",
          "height": 136
        }
      },
      "source": [
        "%%R\n",
        "n_tests <- length(len)\n",
        "Q <- .10\n",
        "df$critical <- df$rank*Q/n_tests\n",
        "head(df)"
      ],
      "execution_count": 0,
      "outputs": [
        {
          "output_type": "display_data",
          "data": {
            "text/plain": [
              "      index corr pval rank     critical\n",
              "1         1    1    0    1 1.417234e-09\n",
              "8402   8402    1    0    2 2.834467e-09\n",
              "16803 16803    1    0    3 4.251701e-09\n",
              "25204 25204    1    0    4 5.668934e-09\n",
              "33605 33605    1    0    5 7.086168e-09\n",
              "42006 42006    1    0    6 8.503401e-09\n"
            ]
          },
          "metadata": {
            "tags": []
          }
        }
      ]
    },
    {
      "cell_type": "code",
      "metadata": {
        "id": "Je9rCvWH-tNR",
        "colab_type": "code",
        "outputId": "7bc12861-da95-4a0b-b005-6bf3b6327537",
        "colab": {
          "base_uri": "https://localhost:8080/",
          "height": 136
        }
      },
      "source": [
        "%%R\n",
        "pval <- df$pval\n",
        "crit <- df$critical\n",
        "\n",
        "df$critical <- NULL\n",
        "df$pval <- NULL\n",
        "\n",
        "head(df)"
      ],
      "execution_count": 0,
      "outputs": [
        {
          "output_type": "display_data",
          "data": {
            "text/plain": [
              "      index corr rank\n",
              "1         1    1    1\n",
              "8402   8402    1    2\n",
              "16803 16803    1    3\n",
              "25204 25204    1    4\n",
              "33605 33605    1    5\n",
              "42006 42006    1    6\n"
            ]
          },
          "metadata": {
            "tags": []
          }
        }
      ]
    },
    {
      "cell_type": "code",
      "metadata": {
        "id": "JCn9kf9WEO0A",
        "colab_type": "code",
        "outputId": "6d4f70cd-0af7-4c97-df07-90e3b7993df9",
        "colab": {
          "base_uri": "https://localhost:8080/",
          "height": 34
        }
      },
      "source": [
        "%%R\n",
        "for(i in length(len):1){\n",
        "    if(pval[i] < crit[i]){\n",
        "        buff <- i\n",
        "        break\n",
        "    }\n",
        "}\n",
        "print(buff)"
      ],
      "execution_count": 0,
      "outputs": [
        {
          "output_type": "display_data",
          "data": {
            "text/plain": [
              "[1] 20361806\n"
            ]
          },
          "metadata": {
            "tags": []
          }
        }
      ]
    },
    {
      "cell_type": "code",
      "metadata": {
        "id": "ba8TkcUY_Kzz",
        "colab_type": "code",
        "colab": {}
      },
      "source": [
        "%%R\n",
        "df$sig <- 0\n",
        "df$sig[df$rank <= buff] <- 1\n",
        "df$rank <- NULL"
      ],
      "execution_count": 0,
      "outputs": []
    },
    {
      "cell_type": "code",
      "metadata": {
        "id": "mltCGTdKJoUr",
        "colab_type": "code",
        "outputId": "ab423640-b0a0-4e06-956d-135113d20c74",
        "colab": {
          "base_uri": "https://localhost:8080/",
          "height": 136
        }
      },
      "source": [
        "%%R\n",
        "head(df)"
      ],
      "execution_count": 0,
      "outputs": [
        {
          "output_type": "display_data",
          "data": {
            "text/plain": [
              "      index corr sig\n",
              "1         1    1   1\n",
              "8402   8402    1   1\n",
              "16803 16803    1   1\n",
              "25204 25204    1   1\n",
              "33605 33605    1   1\n",
              "42006 42006    1   1\n"
            ]
          },
          "metadata": {
            "tags": []
          }
        }
      ]
    },
    {
      "cell_type": "code",
      "metadata": {
        "id": "XgIfyKavG8v_",
        "colab_type": "code",
        "colab": {}
      },
      "source": [
        "%%R\n",
        "rm(pval)\n",
        "rm(crit)"
      ],
      "execution_count": 0,
      "outputs": []
    },
    {
      "cell_type": "code",
      "metadata": {
        "id": "B8f7HXLu_N8v",
        "colab_type": "code",
        "outputId": "f36241d5-37c3-42ff-cc73-7909f5e53c8c",
        "colab": {
          "base_uri": "https://localhost:8080/",
          "height": 136
        }
      },
      "source": [
        "%%R\n",
        "df[(buff-2):(buff+3),]"
      ],
      "execution_count": 0,
      "outputs": [
        {
          "output_type": "display_data",
          "data": {
            "text/plain": [
              "            index      corr sig\n",
              "15365447 15365447 0.5146754   1\n",
              "31196618 31196618 0.5146754   1\n",
              "39601323 39601323 0.5146754   1\n",
              "51333042 51333042 0.5146626   0\n",
              "51338551 51338551 0.5146626   0\n",
              "5390512   5390512 0.5146626   0\n"
            ]
          },
          "metadata": {
            "tags": []
          }
        }
      ]
    },
    {
      "cell_type": "code",
      "metadata": {
        "id": "sEsFJecJ_RS_",
        "colab_type": "code",
        "colab": {}
      },
      "source": [
        "%%R\n",
        "df$corr[df$sig == 0] <- 0"
      ],
      "execution_count": 0,
      "outputs": []
    },
    {
      "cell_type": "code",
      "metadata": {
        "id": "sTcw2j_i_T7Z",
        "colab_type": "code",
        "outputId": "c06a6890-7ddc-41f0-a7b2-b39a8cad4c6d",
        "colab": {
          "base_uri": "https://localhost:8080/",
          "height": 136
        }
      },
      "source": [
        "%%R\n",
        "setorder(df, index)  \n",
        "#df <- df %>% arrange(index)\n",
        "head(df)"
      ],
      "execution_count": 0,
      "outputs": [
        {
          "output_type": "display_data",
          "data": {
            "text/plain": [
              "  index      corr sig\n",
              "1     1 1.0000000   1\n",
              "2     2 0.8204334   1\n",
              "3     3 0.6573787   1\n",
              "4     4 0.0000000   0\n",
              "5     5 0.0000000   0\n",
              "6     6 0.5294118   1\n"
            ]
          },
          "metadata": {
            "tags": []
          }
        }
      ]
    },
    {
      "cell_type": "code",
      "metadata": {
        "id": "K0-rY-AFJ5zt",
        "colab_type": "code",
        "colab": {}
      },
      "source": [
        "%%R\n",
        "write.csv(df, \"data_frame.csv\")"
      ],
      "execution_count": 0,
      "outputs": []
    },
    {
      "cell_type": "code",
      "metadata": {
        "id": "2iIlIkTvLiPh",
        "colab_type": "code",
        "colab": {}
      },
      "source": [
        "%%R\n",
        "df$index <- NULL"
      ],
      "execution_count": 0,
      "outputs": []
    },
    {
      "cell_type": "code",
      "metadata": {
        "id": "z7XY4F5xMMl4",
        "colab_type": "code",
        "colab": {}
      },
      "source": [
        "%%R\n",
        "corr <- df$corr\n",
        "sig <- df$sig\n",
        "rm(df)"
      ],
      "execution_count": 0,
      "outputs": []
    },
    {
      "cell_type": "code",
      "metadata": {
        "id": "ci2p8zeR_W3j",
        "colab_type": "code",
        "colab": {}
      },
      "source": [
        "%%R\n",
        "W <- matrix(corr, n_rows, n_cols)\n",
        "A <- matrix(sig, n_rows, n_cols)"
      ],
      "execution_count": 0,
      "outputs": []
    },
    {
      "cell_type": "code",
      "metadata": {
        "id": "P0Zxt_BQMlef",
        "colab_type": "code",
        "outputId": "65e8c439-d109-4a92-dca2-bc7c6dca9ae9",
        "colab": {
          "base_uri": "https://localhost:8080/",
          "height": 119
        }
      },
      "source": [
        "%%R\n",
        "W[1:5,1:5]"
      ],
      "execution_count": 0,
      "outputs": [
        {
          "output_type": "display_data",
          "data": {
            "text/plain": [
              "          [,1]      [,2]      [,3]      [,4]      [,5]\n",
              "[1,] 1.0000000 0.8204334 0.6573787 0.0000000 0.0000000\n",
              "[2,] 0.8204334 1.0000000 0.0000000 0.0000000 0.5995872\n",
              "[3,] 0.6573787 0.0000000 1.0000000 0.0000000 0.0000000\n",
              "[4,] 0.0000000 0.0000000 0.0000000 1.0000000 0.5459236\n",
              "[5,] 0.0000000 0.5995872 0.0000000 0.5459236 1.0000000\n"
            ]
          },
          "metadata": {
            "tags": []
          }
        }
      ]
    },
    {
      "cell_type": "code",
      "metadata": {
        "id": "DfYTz1-iMv1w",
        "colab_type": "code",
        "colab": {}
      },
      "source": [
        "%%R\n",
        "for(i in 1:n_cols){\n",
        "    W[i,i] <- 0\n",
        "    A[i,i] <- 0\n",
        "}"
      ],
      "execution_count": 0,
      "outputs": []
    },
    {
      "cell_type": "code",
      "metadata": {
        "id": "JxZl_VhBNmjU",
        "colab_type": "code",
        "outputId": "9e9f70b8-4172-46b7-c2ca-f8be07ce6773",
        "colab": {
          "base_uri": "https://localhost:8080/",
          "height": 119
        }
      },
      "source": [
        "%%R\n",
        "W[1:5,1:5]"
      ],
      "execution_count": 0,
      "outputs": [
        {
          "output_type": "display_data",
          "data": {
            "text/plain": [
              "          [,1]      [,2]      [,3]      [,4]      [,5]\n",
              "[1,] 0.0000000 0.8204334 0.6573787 0.0000000 0.0000000\n",
              "[2,] 0.8204334 0.0000000 0.0000000 0.0000000 0.5995872\n",
              "[3,] 0.6573787 0.0000000 0.0000000 0.0000000 0.0000000\n",
              "[4,] 0.0000000 0.0000000 0.0000000 0.0000000 0.5459236\n",
              "[5,] 0.0000000 0.5995872 0.0000000 0.5459236 0.0000000\n"
            ]
          },
          "metadata": {
            "tags": []
          }
        }
      ]
    },
    {
      "cell_type": "code",
      "metadata": {
        "id": "M4KPoXshOQMB",
        "colab_type": "code",
        "colab": {}
      },
      "source": [
        "%%R\n",
        "write.csv(W, \"weighted_adjacency_matrix.csv\")\n",
        "write.csv(A, \"adjacency_matrix.csv\")"
      ],
      "execution_count": 0,
      "outputs": []
    }
  ]
}