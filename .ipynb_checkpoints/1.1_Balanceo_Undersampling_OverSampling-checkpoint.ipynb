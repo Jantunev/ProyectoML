{
 "cells": [
  {
   "cell_type": "code",
   "execution_count": 1,
   "metadata": {},
   "outputs": [],
   "source": [
    "import pandas as pd\n",
    "import matplotlib.pyplot as plt\n",
    "import seaborn as sns\n",
    "import numpy as np\n",
    "import random"
   ]
  },
  {
   "cell_type": "code",
   "execution_count": 2,
   "metadata": {},
   "outputs": [
    {
     "name": "stderr",
     "output_type": "stream",
     "text": [
      "C:\\Users\\Alexander\\Anaconda3\\lib\\site-packages\\IPython\\core\\interactiveshell.py:3049: DtypeWarning: Columns (1,2,3,4,5,6,7,8,9,10,11,12,13,14,15,16,17,18,19,20,21,22,23,24,25,26,27,28,29,30,31,32,33,34,35,36,37,38,39,40,41,42,43,44,45,46,47,48,49,50,51,52,53,54,55,56,57,58,59,60,61,62,63,64,65,66,67,68,69,70,71,72,73,74,75,76,77,78,79,80,81,82,83,84,85,86,87,88,89,90,91,92,93,94,95,96,97,98,99,100,101,102,103,104,105,106,107,108,109,110,111,112,113,114,115,116,117,118,119,120,121,122,123,124,125,126,127,128,129,130,131,132,133,134,135,136,137,138,139,140,141,142,143,144,145,146,147,148,149,150,151,152,153,154,155,156,157,158,159,160,161,162,163,164,165,166,167,168,169,170,171,172,173,174,175,176,177,178,179,180,181,182,183,184,185,186,187,188,189,190,191,192,193,194,195,196,197,198,199,200,201,202,203,204,205,206,207,208,209,210,211,212,213,214,215,216,217,218,219,220,221,222,223,224,225,226,227,228,229,230,231,232,233,234,235,236,237,238,239,240,241,242,243,244,245,246,247,248,249,250,251,252,253,254,255,256,257,258,259,260,261,262,263,264,265,266,267,268,269,270,271,272,273,274,275,276,277,278,279,280,281,282,283,284,285,286,287,288,289,290,291,292,293,294,295,296,297,298,299,300,301,302,303,304,305,306,307,308,309,310,311,312,313,314,315,316,317,318,319,320,321,322,323,324,325,326,327,328,329,330,331,332,333,334,335,336,337,338,339,340,341,342,343,344,345,346,347,348,349,350,351,352,353,354,355,356,357,358,359,360,361,362,363,364,365,366,367,368,369,370,371,372,373,374,375,376,377,378,379,380,381,382,383,384,385,386,387,388,389,390,391,392,393,394,395,396,397,398,399,400,401,402,403,404,405,406,407,408,409,410,411,412,413,414,415,416,417,418,419,420,421,422,423,424,425,426,427,428,429,430,431,432,433,434,435,436,437,438,439,440,441,442,443,444,445,446,447,448,449,450,451,452,453,454,455,456,457,458,459,460,461,462,463,464,465,466,467,468,469,470,471,472,473,474,475,476,477,478,479,480,481,482,483,484,485,486,487,488,489,490,491,492,493,494,495,496,497,498,499,500,501,502,503,504,505,506,507,508,509,510,511,512,513,514,515,516,517,518,519,520,521,522,523,524,525,526,527,528,529,530,531,532,533,534,535,536,537,538,539,540,541,542,543,544,545,546,547,548,549,550,551,552,553,554,555,556,557,558,559,560,561,562,563,564,565,566,567,568,569,570,571,572,573,574,575,576,577,578,579,580,581,582,583,584,585,586,587,588,589,590,591,592,593,594,595,596,597,598,599,600,601,602,603,604,605,606,607,608,609,610,611,612,613,614,615,616,617,618,619,620,621,622,623,624,625,626,627,628,629,630,631,632,633,634,635,636,637,638,639,640,641,642,643,644,645,646,647,648,649,650,651,652,653,654,655,656,657,658,659,660,661,662,663,664,665,666,667,668,669,670,671,672,673,674,675,676,677,678,679,680,681,682,683,684,685,686,687,688,689,690,691,692,693,694,695,696,697,698,699,700,701,702,703,704,705,706,707,708,709,710,711,712,713,714,715,716,717,718,719,720,721,722,723,724,725,726,727,728,729,730,731,732,733,734,735,736,737,738,739,740,741,742,743,744,745,746,747,748,749,750,751,752,753,754,755,756,757,758,759,760,761,762,763,764,765,766,767,768,769,770,771,772,773,774,775,776,777,778,779,780,781,782,783,784,785,786,787,788,789,790,791,792,793,794,795,796,797,798,799,800,801,802,803,804,805,806,807,808,809,810,811,812,813,814,815,816,817,818,819,820,821,822,823,824,825,826,827,828,829,830,831,832,833,834,835,836,837,838,839,840,841,842,843,844,845,846,847,848,849,850,851,852,853,854,855,856,857,858,859,860,861,862,863,864,865,866,867,868,869,870,871,872,873,874,875,876,877,878,879,880,881,882,883,884,885,886,887,888,889,890,891,892,893,894,895,896,897,898,899,900,901,902,903,904,905,906,907,908,909,910,911,912,913,914,915,916,917,918,919,920,921,922,923,924,925,926,927,928,929,930,931,932,933,934,935,936,937,938,939,940,941,942,943,944,945,946,947,948,949,950,951,952,953,954,955,956,957,958,959,960,961,962,963,964,965,966,967,968,969,970,971,972,973,974,975,976,977,978,979,980,981,982,983,984,985,986,987,988,989,990,991,992,993,994,995,996,997,998,999,1000,1001,1002,1003,1004,1005,1006,1007,1008,1009,1010,1011,1012,1013,1014,1015,1016,1017,1018,1019,1020,1021,1022,1023,1024,1025,1026,1027,1028,1029,1030,1031,1032,1033,1034,1035,1036,1037,1038,1039,1040,1041,1042,1043,1044,1045,1046,1047,1048,1049,1050,1051,1052,1053,1054,1055,1056,1057,1058,1059,1060,1061,1062,1063,1064,1065,1066,1067,1068,1069,1070,1071,1072,1073,1074,1075,1076,1077,1078,1079,1080,1081,1082,1083,1084,1085,1086,1087,1088,1089,1090,1091,1092,1093,1094,1095,1096,1097,1098,1099,1100,1101,1102,1103,1104,1105,1106,1107,1108,1109,1110,1111,1112,1113,1114,1115,1116,1117,1118,1119,1120,1121,1122,1123,1124,1125,1126,1127,1128,1129,1130,1131,1132,1133,1134,1135,1136,1137,1138,1139,1140,1141,1142,1143,1144,1145,1146,1147,1148,1149,1150,1151,1152,1153,1154,1155,1156,1157,1158,1159,1160,1161,1162,1163,1164,1165,1166,1167,1168,1169,1170,1171,1172,1173,1174,1175,1176,1177,1178,1179,1180,1181,1182,1183,1184,1185,1186,1187,1188,1189,1190,1191,1192,1193,1194,1195,1196,1197,1198,1199,1200,1201,1202,1203,1204,1205,1206,1207,1208,1209,1210,1211,1212,1213,1214,1215,1216,1217,1218,1219,1220,1221,1222,1223,1224,1225,1226,1227,1228,1229,1230,1231,1232,1233,1234,1235,1236,1237,1238,1239,1240,1241,1242,1243,1244,1245,1246,1247,1248,1249,1250,1251,1252,1253,1254,1255,1256,1257,1258,1259,1260,1261,1262,1263,1264,1265,1266,1267,1268,1269,1270,1271,1272,1273,1274,1275,1276,1277,1278,1279,1280,1281,1282,1283,1284,1285,1286,1287,1288,1289,1290,1291,1292,1293,1294,1295,1296,1297,1298,1299,1300,1301,1302,1303,1304,1305,1306,1307,1308,1309,1310,1311,1312,1313,1314,1315,1316,1317,1318,1319,1320,1321,1322,1323,1324,1325,1326,1327,1328,1329,1330,1331,1332,1333,1334,1335,1336,1337,1338,1339,1340,1341,1342,1343,1344,1345,1346,1347,1348,1349,1350,1351,1352,1353,1354,1355,1356,1357,1358,1359,1360,1361,1362,1363,1364,1365,1366,1367,1368,1369,1370,1371,1372,1373,1374,1375,1376,1377,1378,1379,1380,1381,1382,1383,1384,1385,1386,1387,1388,1389,1390,1391,1392,1393,1394,1395,1396,1397,1398,1399,1400,1401,1402,1403,1404,1405,1406,1407,1408,1409,1410,1411,1412,1413,1414,1415,1416,1417,1418,1419,1420,1421,1422,1423,1424,1425,1426,1427,1428,1429,1430,1431,1432,1433,1434,1435,1436,1437,1438,1439,1440,1441,1442,1443,1444,1445,1446,1447,1448,1449,1450,1451,1452,1453,1454,1455,1456,1457,1458,1459,1460,1461,1462,1463,1464,1465,1466,1467,1468,1469,1470,1471,1472,1473,1474,1475,1476,1477,1478,1479,1480,1481,1482,1483,1484,1485,1486,1487,1488,1489,1490,1491,1492,1493,1494,1495,1496,1497,1498,1499,1500,1501,1502,1503,1504,1505,1506,1507,1508,1509,1510,1511,1512,1513,1514,1515,1516,1517,1518,1519,1520,1521,1522,1523,1524,1525,1526,1527,1528,1529,1530,1531,1532,1533,1534,1535,1536,1537,1538,1539,1540,1541,1542,1543,1544,1545,1546,1547,1548,1549,1550,1551,1552,1553,1554,1555,1556,1557,1558,1559,1560,1561,1562,1563,1564,1565,1566,1567,1568,1569,1570,1571,1572,1573,1574,1575,1576,1577,1578,1579,1580,1581,1582,1583,1584,1585,1586,1587,1588,1589,1590,1591,1592,1593,1594,1595,1596,1597,1598,1599,1600,1601,1602,1603,1604,1605,1606,1607,1608,1609,1610,1611,1612,1613,1614,1615,1616,1617,1618,1619,1620,1621) have mixed types. Specify dtype option on import or set low_memory=False.\n",
      "  interactivity=interactivity, compiler=compiler, result=result)\n"
     ]
    }
   ],
   "source": [
    "# Dataset original\n",
    "df = pd.read_csv('data\\esets_lung_exprs_genes.txt',sep=\"\\t\",header=None,index_col=0)"
   ]
  },
  {
   "cell_type": "code",
   "execution_count": 3,
   "metadata": {},
   "outputs": [],
   "source": [
    "# Preparación de Data - Pablo\n",
    "df2=df.transpose()\n",
    "df2.columns=df2.columns.fillna('sample_name')\n",
    "df2['sample_name']=df2['sample_name'].str[:9]\n",
    "df3=pd.read_csv('data\\E-MTAB-6699.sdrf.txt', sep=\"\\t\",header=0,index_col=False)\n",
    "df4=df3.drop(['Extract Name','Factor Value[disease]'],axis=1)\n",
    "df5=df3.drop(df4,axis=1)\n",
    "df5['Tumor']=np.where(df5['Factor Value[disease]']=='tumor',1 ,0)\n",
    "df6=df5.drop(['Factor Value[disease]'],axis=1)\n",
    "null_columns4=df2.columns[df2.isna().any()]\n",
    "df2[null_columns4].isna().sum()\n",
    "df7=df2.merge(df6,how='inner',left_on='sample_name',right_on='Extract Name',left_index=True)\n",
    "df7.set_index(df7['sample_name'],inplace=True)\n",
    "df7=df7.drop(['sample_name','Extract Name'],axis=1)\n",
    "df_caract=df7.drop('Tumor',axis=1)\n",
    "df_result=df7.drop(df_caract,axis=1)\n"
   ]
  },
  {
   "cell_type": "code",
   "execution_count": 4,
   "metadata": {},
   "outputs": [],
   "source": [
    "# Se junta las caracteristicas con el target\n",
    "dataset = pd.concat([df_caract, df_result], axis=1, sort=False)"
   ]
  },
  {
   "cell_type": "code",
   "execution_count": 5,
   "metadata": {},
   "outputs": [
    {
     "data": {
      "text/html": [
       "<div>\n",
       "<style scoped>\n",
       "    .dataframe tbody tr th:only-of-type {\n",
       "        vertical-align: middle;\n",
       "    }\n",
       "\n",
       "    .dataframe tbody tr th {\n",
       "        vertical-align: top;\n",
       "    }\n",
       "\n",
       "    .dataframe thead th {\n",
       "        text-align: right;\n",
       "    }\n",
       "</style>\n",
       "<table border=\"1\" class=\"dataframe\">\n",
       "  <thead>\n",
       "    <tr style=\"text-align: right;\">\n",
       "      <th></th>\n",
       "      <th>RFC2</th>\n",
       "      <th>HSPA6</th>\n",
       "      <th>PAX8</th>\n",
       "      <th>GUCA1A</th>\n",
       "      <th>THRA</th>\n",
       "      <th>PTPN21</th>\n",
       "      <th>CCL5</th>\n",
       "      <th>CYP2E1</th>\n",
       "      <th>EPHB3</th>\n",
       "      <th>ESRRA</th>\n",
       "      <th>...</th>\n",
       "      <th>CCDC63</th>\n",
       "      <th>C16orf52</th>\n",
       "      <th>LOC101929475</th>\n",
       "      <th>LOC389641</th>\n",
       "      <th>LOC400499</th>\n",
       "      <th>GALR3</th>\n",
       "      <th>NUS1P3</th>\n",
       "      <th>TMEM231</th>\n",
       "      <th>LOC100505915</th>\n",
       "      <th>Tumor</th>\n",
       "    </tr>\n",
       "    <tr>\n",
       "      <th>sample_name</th>\n",
       "      <th></th>\n",
       "      <th></th>\n",
       "      <th></th>\n",
       "      <th></th>\n",
       "      <th></th>\n",
       "      <th></th>\n",
       "      <th></th>\n",
       "      <th></th>\n",
       "      <th></th>\n",
       "      <th></th>\n",
       "      <th></th>\n",
       "      <th></th>\n",
       "      <th></th>\n",
       "      <th></th>\n",
       "      <th></th>\n",
       "      <th></th>\n",
       "      <th></th>\n",
       "      <th></th>\n",
       "      <th></th>\n",
       "      <th></th>\n",
       "      <th></th>\n",
       "    </tr>\n",
       "  </thead>\n",
       "  <tbody>\n",
       "    <tr>\n",
       "      <th>GSM259401</th>\n",
       "      <td>8.02686754305348</td>\n",
       "      <td>6.43262786534499</td>\n",
       "      <td>7.79118226476673</td>\n",
       "      <td>6.2804620091201</td>\n",
       "      <td>7.49421022070568</td>\n",
       "      <td>5.27780126566181</td>\n",
       "      <td>7.55675923193494</td>\n",
       "      <td>5.00041800430154</td>\n",
       "      <td>7.81481162892362</td>\n",
       "      <td>8.39358855343251</td>\n",
       "      <td>...</td>\n",
       "      <td>5.13256</td>\n",
       "      <td>3.71714</td>\n",
       "      <td>4.49323</td>\n",
       "      <td>5.23215</td>\n",
       "      <td>6.63075</td>\n",
       "      <td>5.80351</td>\n",
       "      <td>4.22704</td>\n",
       "      <td>5.29922</td>\n",
       "      <td>5.62474</td>\n",
       "      <td>1</td>\n",
       "    </tr>\n",
       "    <tr>\n",
       "      <th>GSM773737</th>\n",
       "      <td>7.27662893413125</td>\n",
       "      <td>8.58350061636456</td>\n",
       "      <td>7.5238107352808</td>\n",
       "      <td>5.70082290913634</td>\n",
       "      <td>6.13109375889012</td>\n",
       "      <td>7.51865604503302</td>\n",
       "      <td>8.98424221870532</td>\n",
       "      <td>5.74676470179008</td>\n",
       "      <td>7.23710949516532</td>\n",
       "      <td>7.57625666160692</td>\n",
       "      <td>...</td>\n",
       "      <td>4.53372</td>\n",
       "      <td>3.77352</td>\n",
       "      <td>4.50938</td>\n",
       "      <td>4.68547</td>\n",
       "      <td>6.36654</td>\n",
       "      <td>5.68125</td>\n",
       "      <td>3.90821</td>\n",
       "      <td>6.11554</td>\n",
       "      <td>5.81518</td>\n",
       "      <td>1</td>\n",
       "    </tr>\n",
       "    <tr>\n",
       "      <th>GSM475749</th>\n",
       "      <td>6.91352668095237</td>\n",
       "      <td>7.91877964177177</td>\n",
       "      <td>7.68819379545193</td>\n",
       "      <td>5.49509071364957</td>\n",
       "      <td>7.49783672732305</td>\n",
       "      <td>8.43911552681973</td>\n",
       "      <td>9.74472265493354</td>\n",
       "      <td>5.5337510791627</td>\n",
       "      <td>7.61887364334983</td>\n",
       "      <td>7.66408835664121</td>\n",
       "      <td>...</td>\n",
       "      <td>4.733</td>\n",
       "      <td>3.66062</td>\n",
       "      <td>4.09555</td>\n",
       "      <td>4.42245</td>\n",
       "      <td>6.39738</td>\n",
       "      <td>5.63297</td>\n",
       "      <td>3.96602</td>\n",
       "      <td>7.7878</td>\n",
       "      <td>5.54099</td>\n",
       "      <td>0</td>\n",
       "    </tr>\n",
       "    <tr>\n",
       "      <th>GSM707374</th>\n",
       "      <td>7.68521192797829</td>\n",
       "      <td>8.86078709986544</td>\n",
       "      <td>7.52558365080003</td>\n",
       "      <td>5.13817085402213</td>\n",
       "      <td>7.23614210120413</td>\n",
       "      <td>7.27097576513082</td>\n",
       "      <td>7.06081766261748</td>\n",
       "      <td>4.92022660629411</td>\n",
       "      <td>7.28156808060713</td>\n",
       "      <td>7.52749446622062</td>\n",
       "      <td>...</td>\n",
       "      <td>4.68765</td>\n",
       "      <td>3.58965</td>\n",
       "      <td>4.09027</td>\n",
       "      <td>4.5068</td>\n",
       "      <td>6.21934</td>\n",
       "      <td>5.54284</td>\n",
       "      <td>4.27753</td>\n",
       "      <td>7.92452</td>\n",
       "      <td>5.05058</td>\n",
       "      <td>1</td>\n",
       "    </tr>\n",
       "    <tr>\n",
       "      <th>GSM318132</th>\n",
       "      <td>7.49236912224017</td>\n",
       "      <td>8.28755809673206</td>\n",
       "      <td>7.51980050633007</td>\n",
       "      <td>5.68272613985385</td>\n",
       "      <td>6.88264505438965</td>\n",
       "      <td>7.8622969705009</td>\n",
       "      <td>8.75285016722746</td>\n",
       "      <td>4.77542732736702</td>\n",
       "      <td>8.14954429574649</td>\n",
       "      <td>7.56124734909259</td>\n",
       "      <td>...</td>\n",
       "      <td>4.6453</td>\n",
       "      <td>4.07901</td>\n",
       "      <td>4.2655</td>\n",
       "      <td>4.64979</td>\n",
       "      <td>5.86023</td>\n",
       "      <td>6.34229</td>\n",
       "      <td>4.38435</td>\n",
       "      <td>6.04953</td>\n",
       "      <td>5.60521</td>\n",
       "      <td>1</td>\n",
       "    </tr>\n",
       "    <tr>\n",
       "      <th>GSM466973</th>\n",
       "      <td>7.75099912002744</td>\n",
       "      <td>6.97760309794926</td>\n",
       "      <td>7.66551347169944</td>\n",
       "      <td>5.50108031200627</td>\n",
       "      <td>6.48235268238424</td>\n",
       "      <td>6.60331092018011</td>\n",
       "      <td>9.36265099950149</td>\n",
       "      <td>4.96180556340924</td>\n",
       "      <td>8.63741207805963</td>\n",
       "      <td>8.29670080285949</td>\n",
       "      <td>...</td>\n",
       "      <td>4.45774</td>\n",
       "      <td>3.62577</td>\n",
       "      <td>4.77196</td>\n",
       "      <td>4.91124</td>\n",
       "      <td>5.98136</td>\n",
       "      <td>5.68235</td>\n",
       "      <td>4.40252</td>\n",
       "      <td>6.7598</td>\n",
       "      <td>4.96214</td>\n",
       "      <td>1</td>\n",
       "    </tr>\n",
       "    <tr>\n",
       "      <th>GSM494569</th>\n",
       "      <td>7.67098680701248</td>\n",
       "      <td>7.65980084768379</td>\n",
       "      <td>7.27157369452515</td>\n",
       "      <td>5.35828449452135</td>\n",
       "      <td>7.01111265821599</td>\n",
       "      <td>7.29108127117625</td>\n",
       "      <td>9.08093654029297</td>\n",
       "      <td>5.16204985332151</td>\n",
       "      <td>7.6751018521713</td>\n",
       "      <td>7.38267341210646</td>\n",
       "      <td>...</td>\n",
       "      <td>4.20622</td>\n",
       "      <td>3.76731</td>\n",
       "      <td>3.92712</td>\n",
       "      <td>5.1414</td>\n",
       "      <td>6.00174</td>\n",
       "      <td>5.73519</td>\n",
       "      <td>4.46722</td>\n",
       "      <td>8.07383</td>\n",
       "      <td>5.54921</td>\n",
       "      <td>1</td>\n",
       "    </tr>\n",
       "    <tr>\n",
       "      <th>GSM773694</th>\n",
       "      <td>7.92607967343702</td>\n",
       "      <td>6.45641278779957</td>\n",
       "      <td>7.67990346561349</td>\n",
       "      <td>5.64453614346017</td>\n",
       "      <td>6.54560466752693</td>\n",
       "      <td>5.75412267030103</td>\n",
       "      <td>10.9622151191778</td>\n",
       "      <td>5.01504691133413</td>\n",
       "      <td>7.0553351689587</td>\n",
       "      <td>7.82766361178343</td>\n",
       "      <td>...</td>\n",
       "      <td>4.77316</td>\n",
       "      <td>3.62653</td>\n",
       "      <td>4.06227</td>\n",
       "      <td>5.01163</td>\n",
       "      <td>6.21672</td>\n",
       "      <td>6.04054</td>\n",
       "      <td>4.52862</td>\n",
       "      <td>6.45095</td>\n",
       "      <td>5.9176</td>\n",
       "      <td>1</td>\n",
       "    </tr>\n",
       "    <tr>\n",
       "      <th>GSM475755</th>\n",
       "      <td>7.81293162932451</td>\n",
       "      <td>8.19728334019601</td>\n",
       "      <td>7.5076388264156</td>\n",
       "      <td>5.67830429669607</td>\n",
       "      <td>6.756852466406</td>\n",
       "      <td>6.87824360931398</td>\n",
       "      <td>9.03931295931053</td>\n",
       "      <td>4.74081677596472</td>\n",
       "      <td>7.37591939150158</td>\n",
       "      <td>7.53191278968485</td>\n",
       "      <td>...</td>\n",
       "      <td>4.70302</td>\n",
       "      <td>4.32387</td>\n",
       "      <td>4.30757</td>\n",
       "      <td>4.87664</td>\n",
       "      <td>5.91656</td>\n",
       "      <td>6.20316</td>\n",
       "      <td>4.48523</td>\n",
       "      <td>5.93538</td>\n",
       "      <td>5.09315</td>\n",
       "      <td>0</td>\n",
       "    </tr>\n",
       "    <tr>\n",
       "      <th>GSM257774</th>\n",
       "      <td>6.94282430578665</td>\n",
       "      <td>7.88865924608585</td>\n",
       "      <td>8.21597657471297</td>\n",
       "      <td>6.04984082724457</td>\n",
       "      <td>6.30201307517588</td>\n",
       "      <td>6.86054723773545</td>\n",
       "      <td>9.05636582513777</td>\n",
       "      <td>4.93965894516502</td>\n",
       "      <td>7.72054990662714</td>\n",
       "      <td>7.21883111245304</td>\n",
       "      <td>...</td>\n",
       "      <td>4.81173</td>\n",
       "      <td>3.41426</td>\n",
       "      <td>4.78842</td>\n",
       "      <td>5.56112</td>\n",
       "      <td>6.42922</td>\n",
       "      <td>6.06294</td>\n",
       "      <td>3.90906</td>\n",
       "      <td>6.12052</td>\n",
       "      <td>6.59704</td>\n",
       "      <td>1</td>\n",
       "    </tr>\n",
       "  </tbody>\n",
       "</table>\n",
       "<p>10 rows × 20546 columns</p>\n",
       "</div>"
      ],
      "text/plain": [
       "                         RFC2             HSPA6              PAX8  \\\n",
       "sample_name                                                         \n",
       "GSM259401    8.02686754305348  6.43262786534499  7.79118226476673   \n",
       "GSM773737    7.27662893413125  8.58350061636456   7.5238107352808   \n",
       "GSM475749    6.91352668095237  7.91877964177177  7.68819379545193   \n",
       "GSM707374    7.68521192797829  8.86078709986544  7.52558365080003   \n",
       "GSM318132    7.49236912224017  8.28755809673206  7.51980050633007   \n",
       "GSM466973    7.75099912002744  6.97760309794926  7.66551347169944   \n",
       "GSM494569    7.67098680701248  7.65980084768379  7.27157369452515   \n",
       "GSM773694    7.92607967343702  6.45641278779957  7.67990346561349   \n",
       "GSM475755    7.81293162932451  8.19728334019601   7.5076388264156   \n",
       "GSM257774    6.94282430578665  7.88865924608585  8.21597657471297   \n",
       "\n",
       "                       GUCA1A              THRA            PTPN21  \\\n",
       "sample_name                                                         \n",
       "GSM259401     6.2804620091201  7.49421022070568  5.27780126566181   \n",
       "GSM773737    5.70082290913634  6.13109375889012  7.51865604503302   \n",
       "GSM475749    5.49509071364957  7.49783672732305  8.43911552681973   \n",
       "GSM707374    5.13817085402213  7.23614210120413  7.27097576513082   \n",
       "GSM318132    5.68272613985385  6.88264505438965   7.8622969705009   \n",
       "GSM466973    5.50108031200627  6.48235268238424  6.60331092018011   \n",
       "GSM494569    5.35828449452135  7.01111265821599  7.29108127117625   \n",
       "GSM773694    5.64453614346017  6.54560466752693  5.75412267030103   \n",
       "GSM475755    5.67830429669607    6.756852466406  6.87824360931398   \n",
       "GSM257774    6.04984082724457  6.30201307517588  6.86054723773545   \n",
       "\n",
       "                         CCL5            CYP2E1             EPHB3  \\\n",
       "sample_name                                                         \n",
       "GSM259401    7.55675923193494  5.00041800430154  7.81481162892362   \n",
       "GSM773737    8.98424221870532  5.74676470179008  7.23710949516532   \n",
       "GSM475749    9.74472265493354   5.5337510791627  7.61887364334983   \n",
       "GSM707374    7.06081766261748  4.92022660629411  7.28156808060713   \n",
       "GSM318132    8.75285016722746  4.77542732736702  8.14954429574649   \n",
       "GSM466973    9.36265099950149  4.96180556340924  8.63741207805963   \n",
       "GSM494569    9.08093654029297  5.16204985332151   7.6751018521713   \n",
       "GSM773694    10.9622151191778  5.01504691133413   7.0553351689587   \n",
       "GSM475755    9.03931295931053  4.74081677596472  7.37591939150158   \n",
       "GSM257774    9.05636582513777  4.93965894516502  7.72054990662714   \n",
       "\n",
       "                        ESRRA  ...   CCDC63 C16orf52 LOC101929475 LOC389641  \\\n",
       "sample_name                    ...                                            \n",
       "GSM259401    8.39358855343251  ...  5.13256  3.71714      4.49323   5.23215   \n",
       "GSM773737    7.57625666160692  ...  4.53372  3.77352      4.50938   4.68547   \n",
       "GSM475749    7.66408835664121  ...    4.733  3.66062      4.09555   4.42245   \n",
       "GSM707374    7.52749446622062  ...  4.68765  3.58965      4.09027    4.5068   \n",
       "GSM318132    7.56124734909259  ...   4.6453  4.07901       4.2655   4.64979   \n",
       "GSM466973    8.29670080285949  ...  4.45774  3.62577      4.77196   4.91124   \n",
       "GSM494569    7.38267341210646  ...  4.20622  3.76731      3.92712    5.1414   \n",
       "GSM773694    7.82766361178343  ...  4.77316  3.62653      4.06227   5.01163   \n",
       "GSM475755    7.53191278968485  ...  4.70302  4.32387      4.30757   4.87664   \n",
       "GSM257774    7.21883111245304  ...  4.81173  3.41426      4.78842   5.56112   \n",
       "\n",
       "            LOC400499    GALR3   NUS1P3  TMEM231 LOC100505915 Tumor  \n",
       "sample_name                                                          \n",
       "GSM259401     6.63075  5.80351  4.22704  5.29922      5.62474     1  \n",
       "GSM773737     6.36654  5.68125  3.90821  6.11554      5.81518     1  \n",
       "GSM475749     6.39738  5.63297  3.96602   7.7878      5.54099     0  \n",
       "GSM707374     6.21934  5.54284  4.27753  7.92452      5.05058     1  \n",
       "GSM318132     5.86023  6.34229  4.38435  6.04953      5.60521     1  \n",
       "GSM466973     5.98136  5.68235  4.40252   6.7598      4.96214     1  \n",
       "GSM494569     6.00174  5.73519  4.46722  8.07383      5.54921     1  \n",
       "GSM773694     6.21672  6.04054  4.52862  6.45095       5.9176     1  \n",
       "GSM475755     5.91656  6.20316  4.48523  5.93538      5.09315     0  \n",
       "GSM257774     6.42922  6.06294  3.90906  6.12052      6.59704     1  \n",
       "\n",
       "[10 rows x 20546 columns]"
      ]
     },
     "execution_count": 5,
     "metadata": {},
     "output_type": "execute_result"
    }
   ],
   "source": [
    "dataset.sample(10)"
   ]
  },
  {
   "cell_type": "code",
   "execution_count": 6,
   "metadata": {},
   "outputs": [
    {
     "data": {
      "text/plain": [
       "Tumor\n",
       "0     147\n",
       "1    1086\n",
       "dtype: int64"
      ]
     },
     "execution_count": 6,
     "metadata": {},
     "output_type": "execute_result"
    }
   ],
   "source": [
    "dataset.groupby('Tumor').agg('size')"
   ]
  },
  {
   "cell_type": "code",
   "execution_count": 7,
   "metadata": {},
   "outputs": [
    {
     "data": {
      "text/plain": [
       "<matplotlib.axes._subplots.AxesSubplot at 0x1b392d56f98>"
      ]
     },
     "execution_count": 7,
     "metadata": {},
     "output_type": "execute_result"
    },
    {
     "data": {
      "image/png": "[encoded data removed]",
      "text/plain": [
       "<Figure size 432x288 with 1 Axes>"
      ]
     },
     "metadata": {
      "needs_background": "light"
     },
     "output_type": "display_data"
    }
   ],
   "source": [
    "# Data claramente desbalanceada\n",
    "%matplotlib inline\n",
    "sns.countplot(x='Tumor', data=dataset)"
   ]
  },
  {
   "cell_type": "markdown",
   "metadata": {},
   "source": [
    "## Undersampling\n"
   ]
  },
  {
   "cell_type": "code",
   "execution_count": 8,
   "metadata": {},
   "outputs": [
    {
     "ename": "NameError",
     "evalue": "name 'n_samples_Y_new_per' is not defined",
     "output_type": "error",
     "traceback": [
      "\u001b[1;31m---------------------------------------------------------------------------\u001b[0m",
      "\u001b[1;31mNameError\u001b[0m                                 Traceback (most recent call last)",
      "\u001b[1;32m<ipython-input-8-35bd92172808>\u001b[0m in \u001b[0;36m<module>\u001b[1;34m\u001b[0m\n\u001b[0;32m     13\u001b[0m \u001b[1;33m\u001b[0m\u001b[0m\n\u001b[0;32m     14\u001b[0m dataset_undersampled = pd.concat( \n\u001b[1;32m---> 15\u001b[1;33m     [dataset.loc[dataset['Tumor']!=0].sample(frac=n_samples_Y_new_per, replace=False , random_state = 10) , \n\u001b[0m\u001b[0;32m     16\u001b[0m      dataset.loc[dataset['Tumor']==0] ])\n\u001b[0;32m     17\u001b[0m \u001b[1;33m\u001b[0m\u001b[0m\n",
      "\u001b[1;31mNameError\u001b[0m: name 'n_samples_Y_new_per' is not defined"
     ]
    }
   ],
   "source": [
    "# Undersampling\n",
    "\n",
    "# variable target = t\n",
    "t = dataset[['Tumor']]\n",
    "n_samples = t.shape[0]\n",
    "n_samples_1 = (t == 1).sum()\n",
    "n_samples_0 = (t == 0).sum()\n",
    "\n",
    "## Si se quiere que la clase minoritaria sea el 50% del total\n",
    "## formula para hallar la cantidad de registros a seleccionar (de la clase mayoritaria) para el undersampling\n",
    "n_samples_1_new =  n_samples_0 / 0.50 - n_samples_0\n",
    "n_samples_1_new_per = n_samples_1_new / n_samples_1\n",
    "\n",
    "dataset_undersampled = pd.concat( \n",
    "    [dataset.loc[dataset['Tumor']!=0].sample(frac=n_samples_Y_new_per, replace=False , random_state = 10) , \n",
    "     dataset.loc[dataset['Tumor']==0] ])\n",
    "\n",
    "# reseteamos indices ----\n",
    "dataset_undersampled.reset_index(drop=True, inplace=True)"
   ]
  },
  {
   "cell_type": "code",
   "execution_count": null,
   "metadata": {},
   "outputs": [],
   "source": [
    "sns.countplot(x='Tumor', data=dataset_undersampled)"
   ]
  },
  {
   "cell_type": "markdown",
   "metadata": {},
   "source": [
    "## OVERSAMPLING\n",
    "### SMOTE"
   ]
  },
  {
   "cell_type": "code",
   "execution_count": null,
   "metadata": {},
   "outputs": [],
   "source": [
    "dataset.groupby('Tumor').agg('size')[0]"
   ]
  },
  {
   "cell_type": "code",
   "execution_count": 92,
   "metadata": {},
   "outputs": [
    {
     "name": "stdout",
     "output_type": "stream",
     "text": [
      "Tumor    0.135359\n",
      "dtype: float64\n"
     ]
    }
   ],
   "source": [
    "#n_samples_1_new_per = n_samples_1_new / n_samples_1\n",
    "n_samples_1_new_per =\n",
    "n_samples_1_new_per =\n",
    "print(n_samples_1_new_per)\n",
    "n_samples_1_new_per"
   ]
  },
  {
   "cell_type": "code",
   "execution_count": 93,
   "metadata": {},
   "outputs": [],
   "source": [
    "# Undersampling\n",
    "\n",
    "# variable target = t\n",
    "t = dataset[['Tumor']]\n",
    "n_samples = t.shape[0]\n",
    "n_samples_1 = (t == 1).sum()\n",
    "n_samples_0 = (t == 0).sum()\n",
    "n_samples_0_new = 0.50 * n_samples_1 / 0.5 - n_samples_0"
   ]
  },
  {
   "cell_type": "code",
   "execution_count": 94,
   "metadata": {},
   "outputs": [],
   "source": [
    "# funcion para seleccionar un row aleatorio de un dataframe\n",
    "def random_row_df(df):\n",
    "    index_random = random.choice(range(len(df)))\n",
    "    i = 0\n",
    "    for index,row in df.iterrows():\n",
    "        if i==index_random:\n",
    "            d = {}\n",
    "            indexs = row.index.tolist()\n",
    "            values = row.values.tolist()\n",
    "            for j in range(len(indexs)):\n",
    "                d[indexs[j]] = [values[j]]\n",
    "            df_row = pd.DataFrame(d)\n",
    "            break\n",
    "        i = i + 1\n",
    "    return df_row"
   ]
  },
  {
   "cell_type": "code",
   "execution_count": 95,
   "metadata": {},
   "outputs": [],
   "source": [
    "# seleccionando los puntos base para nueva data de SMOTE\n",
    "sel_ = dataset.loc[dataset['Tumor'] == 0].iloc[: , :-1].sample(n = int(n_samples_0_new) , replace = True , random_state = 10)"
   ]
  },
  {
   "cell_type": "code",
   "execution_count": 98,
   "metadata": {},
   "outputs": [],
   "source": [
    "sel_flt= sel_.astype(float)"
   ]
  },
  {
   "cell_type": "code",
   "execution_count": 99,
   "metadata": {},
   "outputs": [
    {
     "name": "stdout",
     "output_type": "stream",
     "text": [
      "<class 'pandas.core.frame.DataFrame'>\n",
      "Index: 939 entries, GSM466961 to GSM467015\n",
      "Columns: 20545 entries, RFC2 to LOC100505915\n",
      "dtypes: float64(20545)\n",
      "memory usage: 147.2+ MB\n"
     ]
    }
   ],
   "source": [
    "sel_flt.info()"
   ]
  },
  {
   "cell_type": "code",
   "execution_count": null,
   "metadata": {},
   "outputs": [],
   "source": [
    "# randoms para generacion de nueva data \n",
    "steps = np.random.uniform(size = int(n_samples_0_new[0]))\n",
    "\n",
    "# generacion de nueva data (rows) con SMOTE\n",
    "i=0\n",
    "df_news = None\n",
    "for index , row in sel_flt.iterrows():\n",
    "    d = {}\n",
    "    indexs = row.index.tolist()\n",
    "    values = row.values.tolist()\n",
    "    for j in range(len(indexs)):\n",
    "        d[indexs[j]] = [values [j]]\n",
    "    df_initial = pd.DataFrame(d)\n",
    "    \n",
    "    step = steps[i]\n",
    "    \n",
    "    #SMOTE\n",
    "    # df_new ES EL PUNTO SINTETICO Y TOMADO COMO MUESTRA DE \n",
    "    # LA CLASE MINORITARIA (0)\n",
    "    df_new = df_initial - step * (df_initial - random_row_df(sel_flt))\n",
    "    \n",
    "    #se concatena todos nuevos rows generados del SMOTE\n",
    "    df_news = pd.concat([df_news , df_new])\n",
    "    i = i +1 \n"
   ]
  },
  {
   "cell_type": "code",
   "execution_count": 76,
   "metadata": {},
   "outputs": [],
   "source": [
    "df_news['Tumor'] = 0\n",
    "dataset_smoted = pd.concat([dataset , df_news])\n",
    "\n",
    "# reseto de indices\n",
    "#dataset_smoted.reset_index(drop = True , inplace = True)\n"
   ]
  },
  {
   "cell_type": "code",
   "execution_count": 77,
   "metadata": {},
   "outputs": [
    {
     "data": {
      "text/plain": [
       "<matplotlib.axes._subplots.AxesSubplot at 0x1753b3e2780>"
      ]
     },
     "execution_count": 77,
     "metadata": {},
     "output_type": "execute_result"
    },
    {
     "data": {
      "image/png": "[encoded data removed]",
      "text/plain": [
       "<Figure size 432x288 with 1 Axes>"
      ]
     },
     "metadata": {
      "needs_background": "light"
     },
     "output_type": "display_data"
    }
   ],
   "source": [
    "sns.countplot(x='Tumor', data=dataset_smoted)"
   ]
  },
  {
   "cell_type": "code",
   "execution_count": 79,
   "metadata": {},
   "outputs": [
    {
     "data": {
      "text/plain": [
       "Tumor\n",
       "0    1086\n",
       "1    1086\n",
       "dtype: int64"
      ]
     },
     "execution_count": 79,
     "metadata": {},
     "output_type": "execute_result"
    }
   ],
   "source": [
    "dataset_smoted.groupby('Tumor').agg('size')"
   ]
  },
  {
   "cell_type": "code",
   "execution_count": 81,
   "metadata": {},
   "outputs": [],
   "source": [
    "dataset_smoted.to_csv('Data\\dataset_smoted.csv',header=True,index=True)"
   ]
  },
  {
   "cell_type": "code",
   "execution_count": null,
   "metadata": {},
   "outputs": [],
   "source": []
  }
 ],
 "metadata": {
  "kernelspec": {
   "display_name": "Python 3",
   "language": "python",
   "name": "python3"
  },
  "language_info": {
   "codemirror_mode": {
    "name": "ipython",
    "version": 3
   },
   "file_extension": ".py",
   "mimetype": "text/x-python",
   "name": "python",
   "nbconvert_exporter": "python",
   "pygments_lexer": "ipython3",
   "version": "3.7.3"
  }
 },
 "nbformat": 4,
 "nbformat_minor": 2
}
