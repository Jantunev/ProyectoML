{
 "cells": [
  {
   "cell_type": "code",
   "execution_count": 2,
   "metadata": {},
   "outputs": [],
   "source": [
    "import pandas as pd\n",
    "import numpy as np"
   ]
  },
  {
   "cell_type": "code",
   "execution_count": 3,
   "metadata": {},
   "outputs": [
    {
     "name": "stderr",
     "output_type": "stream",
     "text": [
      "C:\\Users\\Raul\\Anaconda3\\lib\\site-packages\\IPython\\core\\interactiveshell.py:3049: DtypeWarning: Columns (0) have mixed types. Specify dtype option on import or set low_memory=False.\n",
      "  interactivity=interactivity, compiler=compiler, result=result)\n"
     ]
    }
   ],
   "source": [
    "# Dataset original\n",
    "# df = pd.read_csv('data/esets_lung_exprs_genes.txt',sep=\"\\t\",header=None,index_col=0)\n",
    "\n",
    "# Dataset original-balanceado\n",
    "#df = pd.read_csv('data\\dataset_smoted.csv',index_col=0)\n",
    "\n",
    "# Dataset reducida-balanceada\n",
    "df = pd.read_csv('data\\dataset_smoted.csv',index_col=0)\n"
   ]
  },
  {
   "cell_type": "code",
   "execution_count": 4,
   "metadata": {},
   "outputs": [],
   "source": [
    "# Separación de data de entrenamiento - Data original balanceada\n",
    "from sklearn.model_selection import train_test_split\n",
    "\n",
    "X = df.drop('Tumor', axis=1)\n",
    "y = df['Tumor']\n",
    "\n",
    "X_train,X_test,y_train,y_test=train_test_split(X,y,test_size=0.33,random_state=2)"
   ]
  },
  {
   "cell_type": "markdown",
   "metadata": {},
   "source": [
    "# RandomForest"
   ]
  },
  {
   "cell_type": "code",
   "execution_count": 5,
   "metadata": {},
   "outputs": [],
   "source": [
    "# RandomForest\n",
    "from sklearn.ensemble import RandomForestClassifier\n",
    "rfcla = RandomForestClassifier()"
   ]
  },
  {
   "cell_type": "markdown",
   "metadata": {},
   "source": [
    "## n_estimators"
   ]
  },
  {
   "cell_type": "code",
   "execution_count": null,
   "metadata": {},
   "outputs": [],
   "source": [
    "# Un hiperparámetro importante es **n_estimators**, \n",
    "# que es la cantidad de árboles que se deben entrenar. \n",
    "# Debe ser un valor lo suficientemente grande como para que el error parezca haberse \"estabilizado\".\n",
    "# Listar los valores a probar\n",
    "from sklearn.model_selection import cross_val_score\n",
    "\n",
    "estimator_range = range(10, 310, 10)\n",
    "\n",
    "# Definir un lista para almacenar los promedios de los Auc por cada valor de \"max_depth\"\n",
    "AUC_scores = []\n",
    "\n",
    "# Usa una validación cruzada de 5 folds con cada valor del \"n_estimators\"\n",
    "for estimator in estimator_range:\n",
    "    rfcla = RandomForestClassifier(n_estimators=estimator,random_state=1,n_jobs=-1)\n",
    "    AUC_score = cross_val_score(rfcla, X_train, y_train.values.ravel(), cv=5, scoring='roc_auc')\n",
    "    AUC_scores.append(np.mean(AUC_score))"
   ]
  },
  {
   "cell_type": "code",
   "execution_count": 7,
   "metadata": {
    "scrolled": true
   },
   "outputs": [
    {
     "data": {
      "text/plain": [
       "Text(0, 0.5, 'AUC')"
      ]
     },
     "execution_count": 7,
     "metadata": {},
     "output_type": "execute_result"
    }
   ],
   "source": [
    "# Graficar n_estimators (eje x) versus AUC (eje y)\n",
    "%matplotlib inline\n",
    "import matplotlib.pyplot as plt\n",
    "\n",
    "plt.plot(estimator_range, AUC_scores)\n",
    "plt.xlabel('n_estimators')\n",
    "plt.ylabel('AUC')"
   ]
  },
  {
   "cell_type": "code",
   "execution_count": 8,
   "metadata": {},
   "outputs": [
    {
     "data": {
      "text/plain": [
       "(0.99922913293449, 210)"
      ]
     },
     "execution_count": 8,
     "metadata": {},
     "output_type": "execute_result"
    }
   ],
   "source": [
    "sorted(zip(AUC_scores, estimator_range), reverse=True)[0]"
   ]
  },
  {
   "cell_type": "markdown",
   "metadata": {},
   "source": [
    "## max_depth_range"
   ]
  },
  {
   "cell_type": "code",
   "execution_count": 13,
   "metadata": {},
   "outputs": [],
   "source": [
    "# De igual forma iteramos para obtener el mejor valor de max_depth\n",
    "from sklearn.model_selection import cross_val_score\n",
    "# Lista de valores para \"max_depth\"\n",
    "max_depth_range = np.linspace(1, 32, 32, endpoint=True)\n",
    "\n",
    "# Definir un lista para almacenar los promedios de los Auc por cada valor de \"max_depth\"\n",
    "AUC_scores = []\n",
    "\n",
    "# Usa una validación cruzada de 10 folds con cada valor del \"max_depth\"\n",
    "for depth in max_depth_range:\n",
    "    rfcla = RandomForestClassifier(n_estimators=210,max_depth=depth,random_state=1)\n",
    "    AUC_score = cross_val_score(rfcla, X_train, y_train.values.ravel(), cv=5, scoring='roc_auc')\n",
    "    AUC_scores.append(np.mean(AUC_score))"
   ]
  },
  {
   "cell_type": "code",
   "execution_count": 15,
   "metadata": {},
   "outputs": [
    {
     "data": {
      "text/plain": [
       "Text(0, 0.5, 'AUC')"
      ]
     },
     "execution_count": 15,
     "metadata": {},
     "output_type": "execute_result"
    },
    {
     "data": {
      "image/png": "[encoded data removed]",
      "text/plain": [
       "<Figure size 432x288 with 1 Axes>"
      ]
     },
     "metadata": {
      "needs_background": "light"
     },
     "output_type": "display_data"
    }
   ],
   "source": [
    "%matplotlib inline\n",
    "import matplotlib.pyplot as plt\n",
    "# Graficar max_depth (eje x) versus AUC (eje y)\n",
    "plt.plot(max_depth_range, AUC_scores)\n",
    "plt.xlabel('max_depth')\n",
    "plt.ylabel('AUC')"
   ]
  },
  {
   "cell_type": "code",
   "execution_count": 16,
   "metadata": {},
   "outputs": [
    {
     "data": {
      "text/plain": [
       "(0.9992430796002225, 11.0)"
      ]
     },
     "execution_count": 16,
     "metadata": {},
     "output_type": "execute_result"
    }
   ],
   "source": [
    "# Muestra el mejor AUC y el correspondiente \"max_depth\"\n",
    "sorted(zip(AUC_scores, max_depth_range), reverse=True)[0]"
   ]
  },
  {
   "cell_type": "markdown",
   "metadata": {},
   "source": [
    "## min_samples_split"
   ]
  },
  {
   "cell_type": "code",
   "execution_count": 21,
   "metadata": {},
   "outputs": [],
   "source": [
    "# De igual forma iteramos para obtener el mejor valor de min_samples_split\n",
    "from sklearn.model_selection import cross_val_score\n",
    "# Lista de valores para \"min_samples_split\"\n",
    "min_samples_splits = np.linspace(0.1, 1.0, 10, endpoint=True)\n",
    "\n",
    "# Definir un lista para almacenar los promedios de los Auc por cada valor de \"max_depth\"\n",
    "AUC_scores = []\n",
    "\n",
    "# Usa una validación cruzada de 10 folds con cada valor del \"min_samples_split\"\n",
    "for min_samples_split in min_samples_splits:\n",
    "    rfcla = RandomForestClassifier(n_estimators=210,max_depth=11.0,random_state=1,min_samples_split=min_samples_split)\n",
    "    AUC_score = cross_val_score(rfcla, X_train, y_train.values.ravel(), cv=5, scoring='roc_auc')\n",
    "    AUC_scores.append(np.mean(AUC_score))"
   ]
  },
  {
   "cell_type": "code",
   "execution_count": 24,
   "metadata": {},
   "outputs": [
    {
     "data": {
      "text/plain": [
       "Text(0, 0.5, 'AUC')"
      ]
     },
     "execution_count": 24,
     "metadata": {},
     "output_type": "execute_result"
    },
    {
     "data": {
      "image/png": "[encoded data removed]",
      "text/plain": [
       "<Figure size 432x288 with 1 Axes>"
      ]
     },
     "metadata": {
      "needs_background": "light"
     },
     "output_type": "display_data"
    }
   ],
   "source": [
    "%matplotlib inline\n",
    "import matplotlib.pyplot as plt\n",
    "# Graficar max_depth (eje x) versus AUC (eje y)\n",
    "plt.plot(min_samples_splits, AUC_scores)\n",
    "plt.xlabel('min_samples_splits')\n",
    "plt.ylabel('AUC')"
   ]
  },
  {
   "cell_type": "code",
   "execution_count": 25,
   "metadata": {},
   "outputs": [
    {
     "data": {
      "text/plain": [
       "(0.9980252984717269, 0.1)"
      ]
     },
     "execution_count": 25,
     "metadata": {},
     "output_type": "execute_result"
    }
   ],
   "source": [
    "# Muestra el mejor AUC y el correspondiente \"min_samples_split\"\n",
    "sorted(zip(AUC_scores, min_samples_splits), reverse=True)[0]"
   ]
  },
  {
   "cell_type": "markdown",
   "metadata": {},
   "source": [
    "## min_samples_leaf"
   ]
  },
  {
   "cell_type": "code",
   "execution_count": 31,
   "metadata": {},
   "outputs": [],
   "source": [
    "# De igual forma iteramos para obtener el mejor valor de min_samples_leafs\n",
    "from sklearn.model_selection import cross_val_score\n",
    "\n",
    "min_samples_leafs = np.linspace(0.1, 0.5, 5, endpoint=True)\n",
    "\n",
    "# Definir un lista para almacenar los promedios de los Auc por cada valor de \"min_samples_leaf\"\n",
    "AUC_scores = []\n",
    "\n",
    "# Usa una validación cruzada de 10 folds con cada valor del \"min_samples_split\"\n",
    "for min_samples_leaf in min_samples_leafs:\n",
    "    rfcla = RandomForestClassifier(n_estimators=210,max_depth=11.0,random_state=1,min_samples_split=0.1,min_samples_leaf=min_samples_leaf)\n",
    "    AUC_score = cross_val_score(rfcla, X_train, y_train.values.ravel(), cv=5, scoring='roc_auc')\n",
    "    AUC_scores.append(np.mean(AUC_score))"
   ]
  },
  {
   "cell_type": "code",
   "execution_count": 28,
   "metadata": {},
   "outputs": [
    {
     "data": {
      "text/plain": [
       "Text(0, 0.5, 'AUC')"
      ]
     },
     "execution_count": 28,
     "metadata": {},
     "output_type": "execute_result"
    },
    {
     "data": {
      "image/png": "[encoded data removed]",
      "text/plain": [
       "<Figure size 432x288 with 1 Axes>"
      ]
     },
     "metadata": {
      "needs_background": "light"
     },
     "output_type": "display_data"
    }
   ],
   "source": [
    "%matplotlib inline\n",
    "import matplotlib.pyplot as plt\n",
    "# Graficar max_depth (eje x) versus AUC (eje y)\n",
    "plt.plot(min_samples_leafs, AUC_scores)\n",
    "plt.xlabel('min_samples_leaf')\n",
    "plt.ylabel('AUC')"
   ]
  },
  {
   "cell_type": "code",
   "execution_count": 29,
   "metadata": {},
   "outputs": [
    {
     "data": {
      "text/plain": [
       "(0.9850403296831868, 0.1)"
      ]
     },
     "execution_count": 29,
     "metadata": {},
     "output_type": "execute_result"
    }
   ],
   "source": [
    "# Muestra el mejor AUC y el correspondiente \"min_samples_leaf\"\n",
    "sorted(zip(AUC_scores, min_samples_splits), reverse=True)[0]"
   ]
  },
  {
   "cell_type": "markdown",
   "metadata": {},
   "source": [
    "## Probando con los mejores valores calculados"
   ]
  },
  {
   "cell_type": "code",
   "execution_count": 30,
   "metadata": {},
   "outputs": [
    {
     "data": {
      "text/plain": [
       "RandomForestRegressor(bootstrap=True, criterion='mse', max_depth=11.0,\n",
       "           max_features='auto', max_leaf_nodes=None,\n",
       "           min_impurity_decrease=0.0, min_impurity_split=None,\n",
       "           min_samples_leaf=0.1, min_samples_split=0.1,\n",
       "           min_weight_fraction_leaf=0.0, n_estimators=210, n_jobs=None,\n",
       "           oob_score=False, random_state=1, verbose=0, warm_start=False)"
      ]
     },
     "execution_count": 30,
     "metadata": {},
     "output_type": "execute_result"
    }
   ],
   "source": [
    "# max_features=40  \n",
    "# and n_estimators=210\n",
    "rfreg = RandomForestRegressor(n_estimators=210,max_depth=11.0,random_state=1,min_samples_split=0.1,min_samples_leaf=0.1)"
   ]
  },
  {
   "cell_type": "code",
   "execution_count": null,
   "metadata": {},
   "outputs": [],
   "source": [
    "rfreg.fit(X_train, y_train.values.ravel())"
   ]
  },
  {
   "cell_type": "code",
   "execution_count": 33,
   "metadata": {},
   "outputs": [
    {
     "data": {
      "text/plain": [
       "0.7654668891442789"
      ]
     },
     "execution_count": 33,
     "metadata": {},
     "output_type": "execute_result"
    }
   ],
   "source": [
    "rfreg.score(X_train, y_train.values.ravel())"
   ]
  },
  {
   "cell_type": "code",
   "execution_count": null,
   "metadata": {},
   "outputs": [],
   "source": [
    "# KappaScore\n",
    "from sklearn.metrics import cohen_kappa_score\n",
    "\n",
    "y_predict = rfreg.predict(X_test)\n",
    "\n",
    "tup_y_predict = list(y_predict)\n",
    "tup_y_train = list(np.transpose(y_test))\n",
    "\n",
    "tup_y_predict = [int(i) for i in tup_y_predict]\n",
    "cohen_kappa_score(y_test,tup_y_predict)"
   ]
  }
 ],
 "metadata": {
  "kernelspec": {
   "display_name": "Python 3",
   "language": "python",
   "name": "python3"
  },
  "language_info": {
   "codemirror_mode": {
    "name": "ipython",
    "version": 3
   },
   "file_extension": ".py",
   "mimetype": "text/x-python",
   "name": "python",
   "nbconvert_exporter": "python",
   "pygments_lexer": "ipython3",
   "version": "3.7.3"
  }
 },
 "nbformat": 4,
 "nbformat_minor": 2
}
