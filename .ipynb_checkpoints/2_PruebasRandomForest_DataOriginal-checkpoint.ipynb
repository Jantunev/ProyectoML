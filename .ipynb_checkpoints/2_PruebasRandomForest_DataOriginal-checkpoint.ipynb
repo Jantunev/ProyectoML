{
 "cells": [
  {
   "cell_type": "code",
   "execution_count": 8,
   "metadata": {},
   "outputs": [],
   "source": [
    "import pandas as pd\n",
    "import numpy as np"
   ]
  },
  {
   "cell_type": "code",
   "execution_count": 10,
   "metadata": {},
   "outputs": [],
   "source": [
    "# Dataset original\n",
    "df = pd.read_csv('data\\esets_lung_exprs_genes.txt',sep=\"\\t\",header=None,index_col=0)"
   ]
  },
  {
   "cell_type": "code",
   "execution_count": 4,
   "metadata": {},
   "outputs": [],
   "source": [
    "# Código de Jorge\n",
    "df2=df.transpose()\n",
    "df2.columns=df2.columns.fillna('sample_name')\n",
    "df2['sample_name']=df2['sample_name'].str[:9]\n",
    "df3=pd.read_csv('data\\E-MTAB-6699.sdrf.txt', sep=\"\\t\",header=0,index_col=False)\n",
    "df4=df3.drop(['Extract Name','Factor Value[disease]'],axis=1)\n",
    "df5=df3.drop(df4,axis=1)\n",
    "df5['Tumor']=np.where(df5['Factor Value[disease]']=='tumor',1 ,0)\n",
    "df6=df5.drop(['Factor Value[disease]'],axis=1)\n",
    "null_columns4=df2.columns[df2.isna().any()]\n",
    "df2[null_columns4].isna().sum()\n",
    "df7=df2.merge(df6,how='inner',left_on='sample_name',right_on='Extract Name',left_index=True)\n",
    "df7.set_index(df7['sample_name'],inplace=True)\n",
    "df7=df7.drop(['sample_name','Extract Name'],axis=1)\n",
    "df_caract=df7.drop('Tumor',axis=1)\n",
    "df_result=df7.drop(df_caract,axis=1)"
   ]
  },
  {
   "cell_type": "code",
   "execution_count": 11,
   "metadata": {},
   "outputs": [],
   "source": [
    "# Separación de data de entrenamiento \n",
    "from sklearn.model_selection import train_test_split\n",
    "X_train,X_test,y_train,y_test=train_test_split(df_caract,df_result,test_size=0.1,random_state=42)"
   ]
  },
  {
   "cell_type": "code",
   "execution_count": 12,
   "metadata": {},
   "outputs": [
    {
     "data": {
      "text/html": [
       "<div>\n",
       "<style scoped>\n",
       "    .dataframe tbody tr th:only-of-type {\n",
       "        vertical-align: middle;\n",
       "    }\n",
       "\n",
       "    .dataframe tbody tr th {\n",
       "        vertical-align: top;\n",
       "    }\n",
       "\n",
       "    .dataframe thead th {\n",
       "        text-align: right;\n",
       "    }\n",
       "</style>\n",
       "<table border=\"1\" class=\"dataframe\">\n",
       "  <thead>\n",
       "    <tr style=\"text-align: right;\">\n",
       "      <th></th>\n",
       "      <th>RFC2</th>\n",
       "      <th>HSPA6</th>\n",
       "      <th>PAX8</th>\n",
       "      <th>GUCA1A</th>\n",
       "      <th>THRA</th>\n",
       "      <th>PTPN21</th>\n",
       "      <th>CCL5</th>\n",
       "      <th>CYP2E1</th>\n",
       "      <th>EPHB3</th>\n",
       "      <th>ESRRA</th>\n",
       "      <th>...</th>\n",
       "      <th>NAF1</th>\n",
       "      <th>CCDC63</th>\n",
       "      <th>C16orf52</th>\n",
       "      <th>LOC101929475</th>\n",
       "      <th>LOC389641</th>\n",
       "      <th>LOC400499</th>\n",
       "      <th>GALR3</th>\n",
       "      <th>NUS1P3</th>\n",
       "      <th>TMEM231</th>\n",
       "      <th>LOC100505915</th>\n",
       "    </tr>\n",
       "  </thead>\n",
       "  <tbody>\n",
       "    <tr>\n",
       "      <th>805</th>\n",
       "      <td>7.32119867922262</td>\n",
       "      <td>9.04142449450112</td>\n",
       "      <td>8.0502678582012</td>\n",
       "      <td>5.81615126587793</td>\n",
       "      <td>7.04843607859051</td>\n",
       "      <td>7.37808216393539</td>\n",
       "      <td>10.3137321618555</td>\n",
       "      <td>5.55375953095846</td>\n",
       "      <td>7.46279468168173</td>\n",
       "      <td>7.80610494967705</td>\n",
       "      <td>...</td>\n",
       "      <td>6.56912</td>\n",
       "      <td>4.32497</td>\n",
       "      <td>3.48958</td>\n",
       "      <td>4.67824</td>\n",
       "      <td>4.55405</td>\n",
       "      <td>6.5036</td>\n",
       "      <td>5.87382</td>\n",
       "      <td>3.32329</td>\n",
       "      <td>6.45261</td>\n",
       "      <td>5.48111</td>\n",
       "    </tr>\n",
       "    <tr>\n",
       "      <th>157</th>\n",
       "      <td>8.06790975589815</td>\n",
       "      <td>4.61664685608931</td>\n",
       "      <td>7.6394967849001</td>\n",
       "      <td>5.77903938860889</td>\n",
       "      <td>7.39958792579677</td>\n",
       "      <td>6.84233218027575</td>\n",
       "      <td>7.21295935046614</td>\n",
       "      <td>7.27190417394847</td>\n",
       "      <td>7.22840658257563</td>\n",
       "      <td>8.37243121155485</td>\n",
       "      <td>...</td>\n",
       "      <td>6.29661</td>\n",
       "      <td>5.10372</td>\n",
       "      <td>3.94315</td>\n",
       "      <td>4.4387</td>\n",
       "      <td>5.60586</td>\n",
       "      <td>6.49402</td>\n",
       "      <td>6.06832</td>\n",
       "      <td>3.96267</td>\n",
       "      <td>6.28983</td>\n",
       "      <td>4.85883</td>\n",
       "    </tr>\n",
       "    <tr>\n",
       "      <th>726</th>\n",
       "      <td>8.80391774747977</td>\n",
       "      <td>7.31530352613562</td>\n",
       "      <td>7.63819454592978</td>\n",
       "      <td>5.79097468553756</td>\n",
       "      <td>6.67729587969628</td>\n",
       "      <td>11.2240264562287</td>\n",
       "      <td>7.84980856387603</td>\n",
       "      <td>5.14699739031755</td>\n",
       "      <td>7.28518241521597</td>\n",
       "      <td>7.19611420308093</td>\n",
       "      <td>...</td>\n",
       "      <td>7.07207</td>\n",
       "      <td>4.82039</td>\n",
       "      <td>4.52811</td>\n",
       "      <td>4.57713</td>\n",
       "      <td>4.48568</td>\n",
       "      <td>6.07608</td>\n",
       "      <td>6.38921</td>\n",
       "      <td>4.81714</td>\n",
       "      <td>5.20644</td>\n",
       "      <td>5.74792</td>\n",
       "    </tr>\n",
       "  </tbody>\n",
       "</table>\n",
       "<p>3 rows × 20545 columns</p>\n",
       "</div>"
      ],
      "text/plain": [
       "                 RFC2             HSPA6              PAX8            GUCA1A  \\\n",
       "805  7.32119867922262  9.04142449450112   8.0502678582012  5.81615126587793   \n",
       "157  8.06790975589815  4.61664685608931   7.6394967849001  5.77903938860889   \n",
       "726  8.80391774747977  7.31530352613562  7.63819454592978  5.79097468553756   \n",
       "\n",
       "                 THRA            PTPN21              CCL5            CYP2E1  \\\n",
       "805  7.04843607859051  7.37808216393539  10.3137321618555  5.55375953095846   \n",
       "157  7.39958792579677  6.84233218027575  7.21295935046614  7.27190417394847   \n",
       "726  6.67729587969628  11.2240264562287  7.84980856387603  5.14699739031755   \n",
       "\n",
       "                EPHB3             ESRRA  ...     NAF1   CCDC63 C16orf52  \\\n",
       "805  7.46279468168173  7.80610494967705  ...  6.56912  4.32497  3.48958   \n",
       "157  7.22840658257563  8.37243121155485  ...  6.29661  5.10372  3.94315   \n",
       "726  7.28518241521597  7.19611420308093  ...  7.07207  4.82039  4.52811   \n",
       "\n",
       "    LOC101929475 LOC389641 LOC400499    GALR3   NUS1P3  TMEM231 LOC100505915  \n",
       "805      4.67824   4.55405    6.5036  5.87382  3.32329  6.45261      5.48111  \n",
       "157       4.4387   5.60586   6.49402  6.06832  3.96267  6.28983      4.85883  \n",
       "726      4.57713   4.48568   6.07608  6.38921  4.81714  5.20644      5.74792  \n",
       "\n",
       "[3 rows x 20545 columns]"
      ]
     },
     "execution_count": 12,
     "metadata": {},
     "output_type": "execute_result"
    }
   ],
   "source": [
    "# Revisar el tema de los indices, se dropean para probar.\n",
    "X_train = X_train.reset_index(drop=True)\n",
    "y_test = y_test.reset_index(drop=True)\n",
    "X_train.sample(3)"
   ]
  },
  {
   "cell_type": "code",
   "execution_count": 13,
   "metadata": {},
   "outputs": [
    {
     "data": {
      "text/plain": [
       "SVC(C=1.0, cache_size=200, class_weight=None, coef0=0.0,\n",
       "  decision_function_shape='ovr', degree=3, gamma='auto', kernel='rbf',\n",
       "  max_iter=-1, probability=False, random_state=0, shrinking=True,\n",
       "  tol=0.001, verbose=False)"
      ]
     },
     "execution_count": 13,
     "metadata": {},
     "output_type": "execute_result"
    }
   ],
   "source": [
    "from sklearn.svm import SVC\n",
    "svm = SVC(kernel = 'rbf', random_state = 0, gamma='auto')\n",
    "svm.fit(X_train, y_train.values.ravel())"
   ]
  },
  {
   "cell_type": "code",
   "execution_count": 14,
   "metadata": {
    "scrolled": true
   },
   "outputs": [
    {
     "data": {
      "text/plain": [
       "0.9882777276825969"
      ]
     },
     "execution_count": 14,
     "metadata": {},
     "output_type": "execute_result"
    }
   ],
   "source": [
    "# Data desbalanceada apunta mas a paciente sano\n",
    "svm.score(X_train, y_train.values.ravel())"
   ]
  },
  {
   "cell_type": "code",
   "execution_count": 15,
   "metadata": {},
   "outputs": [
    {
     "data": {
      "text/plain": [
       "RandomForestClassifier(bootstrap=True, class_weight=None, criterion='gini',\n",
       "            max_depth=None, max_features='auto', max_leaf_nodes=None,\n",
       "            min_impurity_decrease=0.0, min_impurity_split=None,\n",
       "            min_samples_leaf=1, min_samples_split=2,\n",
       "            min_weight_fraction_leaf=0.0, n_estimators='warn', n_jobs=None,\n",
       "            oob_score=False, random_state=None, verbose=0,\n",
       "            warm_start=False)"
      ]
     },
     "execution_count": 15,
     "metadata": {},
     "output_type": "execute_result"
    }
   ],
   "source": [
    "# RadomForest\n",
    "from sklearn.ensemble import RandomForestClassifier, RandomForestRegressor\n",
    "rfcla = RandomForestClassifier()\n",
    "rfcla"
   ]
  },
  {
   "cell_type": "code",
   "execution_count": 81,
   "metadata": {},
   "outputs": [],
   "source": [
    "# Un hiperparámetro importante es **n_estimators**, \n",
    "# que es la cantidad de árboles que se deben entrenar. \n",
    "# Debe ser un valor lo suficientemente grande como para que el error parezca haberse \"estabilizado\".\n",
    "# Listar los valores a probar\n",
    "from sklearn.model_selection import cross_val_score\n",
    "\n",
    "estimator_range = range(10, 310, 10)\n",
    "\n",
    "# Definir un lista para almacenar los promedios de los Auc por cada valor de \"max_depth\"\n",
    "AUC_scores = []\n",
    "\n",
    "# Usa una validación cruzada de 5 folds con cada valor del \"n_estimators\"\n",
    "for estimator in estimator_range:\n",
    "    rfcla = RandomForestClassifier(n_estimators=estimator, random_state=1, n_jobs=-1)\n",
    "    AUC_score = cross_val_score(rfcla, X_train, y_train.values.ravel(), cv=5, scoring='roc_auc')\n",
    "    AUC_scores.append(np.mean(AUC_score))\n",
    "    #print(estimator)"
   ]
  },
  {
   "cell_type": "code",
   "execution_count": 82,
   "metadata": {},
   "outputs": [
    {
     "data": {
      "text/plain": [
       "Text(0, 0.5, 'AUC')"
      ]
     },
     "execution_count": 82,
     "metadata": {},
     "output_type": "execute_result"
    },
    {
     "data": {
      "image/png": "[encoded data removed]",
      "text/plain": [
       "<Figure size 432x288 with 1 Axes>"
      ]
     },
     "metadata": {
      "needs_background": "light"
     },
     "output_type": "display_data"
    }
   ],
   "source": [
    "# Graficar n_estimators (eje x) versus AUC (eje y)\n",
    "import matplotlib.pyplot as plt \n",
    "\n",
    "plt.plot(estimator_range, AUC_scores)\n",
    "plt.xlabel('n_estimators')\n",
    "plt.ylabel('AUC')"
   ]
  },
  {
   "cell_type": "code",
   "execution_count": 83,
   "metadata": {},
   "outputs": [
    {
     "data": {
      "text/plain": [
       "(0.9833435153366425, 140)"
      ]
     },
     "execution_count": 83,
     "metadata": {},
     "output_type": "execute_result"
    }
   ],
   "source": [
    "sorted(zip(AUC_scores, estimator_range), reverse=True)[0]"
   ]
  },
  {
   "cell_type": "code",
   "execution_count": null,
   "metadata": {},
   "outputs": [],
   "source": [
    "# Listar los valores para \"max_features\"\n",
    "feature_range = range(1, len(y_train)+1)\n",
    "\n",
    "# Definir un lista para almacenar los promedios de los Auc por cada valor de \"max_features\"\n",
    "AUC_scores = []\n",
    "\n",
    "# Use una validación cruzada de 10 folds para cada valor de \"max_features\"\n",
    "for feature in feature_range:\n",
    "    rfdec = RandomForestClassifier(n_estimators=150, max_features=feature, random_state=1, n_jobs=-1)\n",
    "    AUC_score = cross_val_score(rfdec, X_train, y_train.values.ravel(), cv=10, scoring='roc_auc')\n",
    "    AUC_scores.append(np.mean(AUC_score))"
   ]
  },
  {
   "cell_type": "code",
   "execution_count": null,
   "metadata": {},
   "outputs": [],
   "source": [
    "# Graficar max_features (eje x) versus AUC (eje y)\n",
    "plt.plot(feature_range, AUC_scores)\n",
    "plt.xlabel('max_features')\n",
    "plt.ylabel('AUC')"
   ]
  },
  {
   "cell_type": "code",
   "execution_count": null,
   "metadata": {},
   "outputs": [],
   "source": [
    "# Mostrar el mejor AUC y su correpondiente \"max_features\"\n",
    "sorted(zip(AUC_scores, feature_range), reverse=True)[0]"
   ]
  },
  {
   "cell_type": "code",
   "execution_count": null,
   "metadata": {
    "scrolled": false
   },
   "outputs": [],
   "source": [
    "# max_features=6 is best and n_estimators=150 is sufficiently large\n",
    "rfreg = RandomForestRegressor(n_estimators=60, max_features=6, oob_score=True, random_state=1)\n",
    "rfreg.fit(X, y)"
   ]
  },
  {
   "cell_type": "code",
   "execution_count": null,
   "metadata": {},
   "outputs": [],
   "source": [
    "rfreg.predict(X[5:100])"
   ]
  },
  {
   "cell_type": "code",
   "execution_count": null,
   "metadata": {},
   "outputs": [],
   "source": [
    "rfreg"
   ]
  },
  {
   "cell_type": "code",
   "execution_count": null,
   "metadata": {},
   "outputs": [],
   "source": [
    "# compute feature importances\n",
    "pd.DataFrame({'feature':predictores, 'importance':rfreg.feature_importances_}).sort_values('importance')"
   ]
  },
  {
   "cell_type": "code",
   "execution_count": null,
   "metadata": {},
   "outputs": [],
   "source": [
    "# compute the out-of-bag R-squared score\n",
    "rfreg.oob_score_"
   ]
  }
 ],
 "metadata": {
  "kernelspec": {
   "display_name": "Python 3",
   "language": "python",
   "name": "python3"
  },
  "language_info": {
   "codemirror_mode": {
    "name": "ipython",
    "version": 3
   },
   "file_extension": ".py",
   "mimetype": "text/x-python",
   "name": "python",
   "nbconvert_exporter": "python",
   "pygments_lexer": "ipython3",
   "version": "3.7.3"
  }
 },
 "nbformat": 4,
 "nbformat_minor": 1
}
